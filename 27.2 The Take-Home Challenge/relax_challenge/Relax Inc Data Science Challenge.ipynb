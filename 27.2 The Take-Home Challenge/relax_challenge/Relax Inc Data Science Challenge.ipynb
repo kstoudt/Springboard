{
 "cells": [
  {
   "cell_type": "markdown",
   "id": "d3f672b6",
   "metadata": {},
   "source": [
    "# Relax, Inc. Take-Home Data Science Challenge\n",
    "\n",
    "**Prompt:** Defining an *\"adopted user\"* as a user who *has logged into the product on three separate days in at least one seven-day period*, **identify which factors predict future user adoption.**\n",
    "\n",
    "More details in acompanying PDF [here](https://github.com/kstoudt/Springboard/blob/main/27.2%20The%20Take-Home%20Challenge/relax_challenge/relax_data_science_challenge.pdf)"
   ]
  },
  {
   "cell_type": "code",
   "execution_count": 1,
   "id": "bd235354",
   "metadata": {},
   "outputs": [],
   "source": [
    "import os\n",
    "import numpy as np\n",
    "import pandas as pd\n",
    "import datetime as dt\n",
    "from datetime import timedelta\n",
    "import matplotlib.pyplot as plt\n",
    "import seaborn as sns\n",
    "%matplotlib inline\n",
    "import warnings\n",
    "# warnings.simplefilter(action='ignore', category=FutureWarning)"
   ]
  },
  {
   "cell_type": "code",
   "execution_count": 2,
   "id": "4e52c42a",
   "metadata": {},
   "outputs": [
    {
     "data": {
      "text/plain": [
       "['Relax Inc Data Science Challenge.ipynb',\n",
       " 'relax_data_science_challenge.pdf',\n",
       " 'takehome_users.csv',\n",
       " 'takehome_user_engagement.csv']"
      ]
     },
     "execution_count": 2,
     "metadata": {},
     "output_type": "execute_result"
    }
   ],
   "source": [
    "os.listdir()[2:]"
   ]
  },
  {
   "cell_type": "markdown",
   "id": "7901fb53",
   "metadata": {},
   "source": [
    "# Exploring tabular data"
   ]
  },
  {
   "cell_type": "code",
   "execution_count": 3,
   "id": "23678b8c",
   "metadata": {
    "scrolled": true
   },
   "outputs": [
    {
     "data": {
      "text/html": [
       "<div>\n",
       "<style scoped>\n",
       "    .dataframe tbody tr th:only-of-type {\n",
       "        vertical-align: middle;\n",
       "    }\n",
       "\n",
       "    .dataframe tbody tr th {\n",
       "        vertical-align: top;\n",
       "    }\n",
       "\n",
       "    .dataframe thead th {\n",
       "        text-align: right;\n",
       "    }\n",
       "</style>\n",
       "<table border=\"1\" class=\"dataframe\">\n",
       "  <thead>\n",
       "    <tr style=\"text-align: right;\">\n",
       "      <th></th>\n",
       "      <th>creation_time</th>\n",
       "      <th>name</th>\n",
       "      <th>email</th>\n",
       "      <th>creation_source</th>\n",
       "      <th>last_session_creation_time</th>\n",
       "      <th>opted_in_to_mailing_list</th>\n",
       "      <th>enabled_for_marketing_drip</th>\n",
       "      <th>org_id</th>\n",
       "      <th>invited_by_user_id</th>\n",
       "    </tr>\n",
       "    <tr>\n",
       "      <th>object_id</th>\n",
       "      <th></th>\n",
       "      <th></th>\n",
       "      <th></th>\n",
       "      <th></th>\n",
       "      <th></th>\n",
       "      <th></th>\n",
       "      <th></th>\n",
       "      <th></th>\n",
       "      <th></th>\n",
       "    </tr>\n",
       "  </thead>\n",
       "  <tbody>\n",
       "    <tr>\n",
       "      <th>1</th>\n",
       "      <td>2014-04-22 03:53:30</td>\n",
       "      <td>Clausen August</td>\n",
       "      <td>AugustCClausen@yahoo.com</td>\n",
       "      <td>GUEST_INVITE</td>\n",
       "      <td>1.398139e+09</td>\n",
       "      <td>1</td>\n",
       "      <td>0</td>\n",
       "      <td>11</td>\n",
       "      <td>10803.0</td>\n",
       "    </tr>\n",
       "    <tr>\n",
       "      <th>2</th>\n",
       "      <td>2013-11-15 03:45:04</td>\n",
       "      <td>Poole Matthew</td>\n",
       "      <td>MatthewPoole@gustr.com</td>\n",
       "      <td>ORG_INVITE</td>\n",
       "      <td>1.396238e+09</td>\n",
       "      <td>0</td>\n",
       "      <td>0</td>\n",
       "      <td>1</td>\n",
       "      <td>316.0</td>\n",
       "    </tr>\n",
       "    <tr>\n",
       "      <th>3</th>\n",
       "      <td>2013-03-19 23:14:52</td>\n",
       "      <td>Bottrill Mitchell</td>\n",
       "      <td>MitchellBottrill@gustr.com</td>\n",
       "      <td>ORG_INVITE</td>\n",
       "      <td>1.363735e+09</td>\n",
       "      <td>0</td>\n",
       "      <td>0</td>\n",
       "      <td>94</td>\n",
       "      <td>1525.0</td>\n",
       "    </tr>\n",
       "    <tr>\n",
       "      <th>4</th>\n",
       "      <td>2013-05-21 08:09:28</td>\n",
       "      <td>Clausen Nicklas</td>\n",
       "      <td>NicklasSClausen@yahoo.com</td>\n",
       "      <td>GUEST_INVITE</td>\n",
       "      <td>1.369210e+09</td>\n",
       "      <td>0</td>\n",
       "      <td>0</td>\n",
       "      <td>1</td>\n",
       "      <td>5151.0</td>\n",
       "    </tr>\n",
       "    <tr>\n",
       "      <th>5</th>\n",
       "      <td>2013-01-17 10:14:20</td>\n",
       "      <td>Raw Grace</td>\n",
       "      <td>GraceRaw@yahoo.com</td>\n",
       "      <td>GUEST_INVITE</td>\n",
       "      <td>1.358850e+09</td>\n",
       "      <td>0</td>\n",
       "      <td>0</td>\n",
       "      <td>193</td>\n",
       "      <td>5240.0</td>\n",
       "    </tr>\n",
       "  </tbody>\n",
       "</table>\n",
       "</div>"
      ],
      "text/plain": [
       "                 creation_time               name                       email  \\\n",
       "object_id                                                                       \n",
       "1          2014-04-22 03:53:30     Clausen August    AugustCClausen@yahoo.com   \n",
       "2          2013-11-15 03:45:04      Poole Matthew      MatthewPoole@gustr.com   \n",
       "3          2013-03-19 23:14:52  Bottrill Mitchell  MitchellBottrill@gustr.com   \n",
       "4          2013-05-21 08:09:28    Clausen Nicklas   NicklasSClausen@yahoo.com   \n",
       "5          2013-01-17 10:14:20          Raw Grace          GraceRaw@yahoo.com   \n",
       "\n",
       "          creation_source  last_session_creation_time  \\\n",
       "object_id                                               \n",
       "1            GUEST_INVITE                1.398139e+09   \n",
       "2              ORG_INVITE                1.396238e+09   \n",
       "3              ORG_INVITE                1.363735e+09   \n",
       "4            GUEST_INVITE                1.369210e+09   \n",
       "5            GUEST_INVITE                1.358850e+09   \n",
       "\n",
       "           opted_in_to_mailing_list  enabled_for_marketing_drip  org_id  \\\n",
       "object_id                                                                 \n",
       "1                                 1                           0      11   \n",
       "2                                 0                           0       1   \n",
       "3                                 0                           0      94   \n",
       "4                                 0                           0       1   \n",
       "5                                 0                           0     193   \n",
       "\n",
       "           invited_by_user_id  \n",
       "object_id                      \n",
       "1                     10803.0  \n",
       "2                       316.0  \n",
       "3                      1525.0  \n",
       "4                      5151.0  \n",
       "5                      5240.0  "
      ]
     },
     "execution_count": 3,
     "metadata": {},
     "output_type": "execute_result"
    }
   ],
   "source": [
    "# Discovering encoding type: Open .csv in Notepad->'save as'->check encoding suggestion\n",
    "users_df = pd.read_csv('takehome_users.csv', index_col='object_id', encoding='ANSI')\n",
    "users_df.head()"
   ]
  },
  {
   "cell_type": "markdown",
   "id": "2caac583",
   "metadata": {},
   "source": [
    "**Future Scope - Feature Engineering:**\n",
    "- Could build categorical column for 'email domain', pulling out websites (yahoo, gustr, gmail etc.)\n",
    "- Could also append info of user who invited via 'invited_by_user_id'\n",
    " - Would be valuable to append some form of 'engagement level' of referring user. Perhaps, mailing list opt-ins, or 'marketing drip enabled'.\n",
    " - Furthermore, we could construct a column that represents the engagement or subscription level of a certain org_id so that when a user is invited, odds of becoming an 'adopted user' increase based on what we have seen, historically, from the org ('adopted user' % per org)."
   ]
  },
  {
   "cell_type": "code",
   "execution_count": 4,
   "id": "16fc4fd2",
   "metadata": {},
   "outputs": [
    {
     "data": {
      "text/html": [
       "<div>\n",
       "<style scoped>\n",
       "    .dataframe tbody tr th:only-of-type {\n",
       "        vertical-align: middle;\n",
       "    }\n",
       "\n",
       "    .dataframe tbody tr th {\n",
       "        vertical-align: top;\n",
       "    }\n",
       "\n",
       "    .dataframe thead th {\n",
       "        text-align: right;\n",
       "    }\n",
       "</style>\n",
       "<table border=\"1\" class=\"dataframe\">\n",
       "  <thead>\n",
       "    <tr style=\"text-align: right;\">\n",
       "      <th></th>\n",
       "      <th>creation_source</th>\n",
       "      <th>opted_in_to_mailing_list</th>\n",
       "      <th>enabled_for_marketing_drip</th>\n",
       "      <th>org_id</th>\n",
       "      <th>invited_by_user_id</th>\n",
       "      <th>usage_history</th>\n",
       "      <th>account_age</th>\n",
       "    </tr>\n",
       "    <tr>\n",
       "      <th>object_id</th>\n",
       "      <th></th>\n",
       "      <th></th>\n",
       "      <th></th>\n",
       "      <th></th>\n",
       "      <th></th>\n",
       "      <th></th>\n",
       "      <th></th>\n",
       "    </tr>\n",
       "  </thead>\n",
       "  <tbody>\n",
       "    <tr>\n",
       "      <th>1</th>\n",
       "      <td>GUEST_INVITE</td>\n",
       "      <td>1</td>\n",
       "      <td>0</td>\n",
       "      <td>11</td>\n",
       "      <td>10803.0</td>\n",
       "      <td>0</td>\n",
       "      <td>45</td>\n",
       "    </tr>\n",
       "    <tr>\n",
       "      <th>2</th>\n",
       "      <td>ORG_INVITE</td>\n",
       "      <td>0</td>\n",
       "      <td>0</td>\n",
       "      <td>1</td>\n",
       "      <td>316.0</td>\n",
       "      <td>136</td>\n",
       "      <td>203</td>\n",
       "    </tr>\n",
       "    <tr>\n",
       "      <th>3</th>\n",
       "      <td>ORG_INVITE</td>\n",
       "      <td>0</td>\n",
       "      <td>0</td>\n",
       "      <td>94</td>\n",
       "      <td>1525.0</td>\n",
       "      <td>0</td>\n",
       "      <td>443</td>\n",
       "    </tr>\n",
       "    <tr>\n",
       "      <th>4</th>\n",
       "      <td>GUEST_INVITE</td>\n",
       "      <td>0</td>\n",
       "      <td>0</td>\n",
       "      <td>1</td>\n",
       "      <td>5151.0</td>\n",
       "      <td>1</td>\n",
       "      <td>381</td>\n",
       "    </tr>\n",
       "    <tr>\n",
       "      <th>5</th>\n",
       "      <td>GUEST_INVITE</td>\n",
       "      <td>0</td>\n",
       "      <td>0</td>\n",
       "      <td>193</td>\n",
       "      <td>5240.0</td>\n",
       "      <td>5</td>\n",
       "      <td>505</td>\n",
       "    </tr>\n",
       "  </tbody>\n",
       "</table>\n",
       "</div>"
      ],
      "text/plain": [
       "          creation_source  opted_in_to_mailing_list  \\\n",
       "object_id                                             \n",
       "1            GUEST_INVITE                         1   \n",
       "2              ORG_INVITE                         0   \n",
       "3              ORG_INVITE                         0   \n",
       "4            GUEST_INVITE                         0   \n",
       "5            GUEST_INVITE                         0   \n",
       "\n",
       "           enabled_for_marketing_drip  org_id  invited_by_user_id  \\\n",
       "object_id                                                           \n",
       "1                                   0      11             10803.0   \n",
       "2                                   0       1               316.0   \n",
       "3                                   0      94              1525.0   \n",
       "4                                   0       1              5151.0   \n",
       "5                                   0     193              5240.0   \n",
       "\n",
       "           usage_history  account_age  \n",
       "object_id                              \n",
       "1                      0           45  \n",
       "2                    136          203  \n",
       "3                      0          443  \n",
       "4                      1          381  \n",
       "5                      5          505  "
      ]
     },
     "execution_count": 4,
     "metadata": {},
     "output_type": "execute_result"
    }
   ],
   "source": [
    "users_df['last_session_creation_time'] = pd.to_datetime(users_df['last_session_creation_time'], \n",
    "                                                        unit='s')\n",
    "users_df['creation_time'] = pd.to_datetime(users_df['creation_time'])\n",
    "users_df['invited_by_user_id'] = users_df['invited_by_user_id'].astype(int, errors='ignore').fillna(0)\n",
    "\n",
    "# define 'usage_history' as last session time - creation time\n",
    "users_df['usage_history'] = users_df['last_session_creation_time'] - users_df['creation_time']\n",
    "users_df['usage_history'] = users_df['usage_history'].dt.days\n",
    "users_df['usage_history'] = users_df['usage_history'].fillna(0).astype(int)\n",
    "\n",
    "# Using latest 'last session creation' as 'pull date'\n",
    "latest = max(users_df['last_session_creation_time'])\n",
    "\n",
    "users_df['account_age'] = latest - users_df['creation_time']\n",
    "users_df['account_age'] = users_df['account_age'].dt.days\n",
    "\n",
    "users_df = users_df.drop(columns=['creation_time', 'last_session_creation_time', 'name', 'email'])\n",
    "users_df.head()"
   ]
  },
  {
   "cell_type": "code",
   "execution_count": 5,
   "id": "aa777c6b",
   "metadata": {
    "scrolled": false
   },
   "outputs": [
    {
     "name": "stdout",
     "output_type": "stream",
     "text": [
      "<class 'pandas.core.frame.DataFrame'>\n",
      "Int64Index: 12000 entries, 1 to 12000\n",
      "Data columns (total 7 columns):\n",
      " #   Column                      Non-Null Count  Dtype  \n",
      "---  ------                      --------------  -----  \n",
      " 0   creation_source             12000 non-null  object \n",
      " 1   opted_in_to_mailing_list    12000 non-null  int64  \n",
      " 2   enabled_for_marketing_drip  12000 non-null  int64  \n",
      " 3   org_id                      12000 non-null  int64  \n",
      " 4   invited_by_user_id          12000 non-null  float64\n",
      " 5   usage_history               12000 non-null  int32  \n",
      " 6   account_age                 12000 non-null  int64  \n",
      "dtypes: float64(1), int32(1), int64(4), object(1)\n",
      "memory usage: 703.1+ KB\n"
     ]
    }
   ],
   "source": [
    "users_df.info()"
   ]
  },
  {
   "cell_type": "markdown",
   "id": "38b3cfe9",
   "metadata": {},
   "source": [
    "Note: 12,000 total registered users in this dataset."
   ]
  },
  {
   "cell_type": "markdown",
   "id": "49672ff2",
   "metadata": {},
   "source": [
    "# Target variable construction"
   ]
  },
  {
   "cell_type": "code",
   "execution_count": 6,
   "id": "eac6f86d",
   "metadata": {},
   "outputs": [
    {
     "data": {
      "text/html": [
       "<div>\n",
       "<style scoped>\n",
       "    .dataframe tbody tr th:only-of-type {\n",
       "        vertical-align: middle;\n",
       "    }\n",
       "\n",
       "    .dataframe tbody tr th {\n",
       "        vertical-align: top;\n",
       "    }\n",
       "\n",
       "    .dataframe thead th {\n",
       "        text-align: right;\n",
       "    }\n",
       "</style>\n",
       "<table border=\"1\" class=\"dataframe\">\n",
       "  <thead>\n",
       "    <tr style=\"text-align: right;\">\n",
       "      <th></th>\n",
       "      <th>time_stamp</th>\n",
       "      <th>user_id</th>\n",
       "      <th>visited</th>\n",
       "    </tr>\n",
       "  </thead>\n",
       "  <tbody>\n",
       "    <tr>\n",
       "      <th>0</th>\n",
       "      <td>2014-04-22 03:53:30</td>\n",
       "      <td>1</td>\n",
       "      <td>1</td>\n",
       "    </tr>\n",
       "    <tr>\n",
       "      <th>1</th>\n",
       "      <td>2013-11-15 03:45:04</td>\n",
       "      <td>2</td>\n",
       "      <td>1</td>\n",
       "    </tr>\n",
       "    <tr>\n",
       "      <th>2</th>\n",
       "      <td>2013-11-29 03:45:04</td>\n",
       "      <td>2</td>\n",
       "      <td>1</td>\n",
       "    </tr>\n",
       "    <tr>\n",
       "      <th>3</th>\n",
       "      <td>2013-12-09 03:45:04</td>\n",
       "      <td>2</td>\n",
       "      <td>1</td>\n",
       "    </tr>\n",
       "    <tr>\n",
       "      <th>4</th>\n",
       "      <td>2013-12-25 03:45:04</td>\n",
       "      <td>2</td>\n",
       "      <td>1</td>\n",
       "    </tr>\n",
       "  </tbody>\n",
       "</table>\n",
       "</div>"
      ],
      "text/plain": [
       "            time_stamp  user_id  visited\n",
       "0  2014-04-22 03:53:30        1        1\n",
       "1  2013-11-15 03:45:04        2        1\n",
       "2  2013-11-29 03:45:04        2        1\n",
       "3  2013-12-09 03:45:04        2        1\n",
       "4  2013-12-25 03:45:04        2        1"
      ]
     },
     "execution_count": 6,
     "metadata": {},
     "output_type": "execute_result"
    }
   ],
   "source": [
    "logins_df = pd.read_csv('takehome_user_engagement.csv')\n",
    "logins_df.head()"
   ]
  },
  {
   "cell_type": "code",
   "execution_count": 7,
   "id": "a6fa880c",
   "metadata": {},
   "outputs": [],
   "source": [
    "logins_df['time_stamp'] = pd.to_datetime(logins_df['time_stamp'])"
   ]
  },
  {
   "cell_type": "code",
   "execution_count": 8,
   "id": "15513ec6",
   "metadata": {},
   "outputs": [
    {
     "name": "stdout",
     "output_type": "stream",
     "text": [
      "<class 'pandas.core.frame.DataFrame'>\n",
      "RangeIndex: 207917 entries, 0 to 207916\n",
      "Data columns (total 3 columns):\n",
      " #   Column      Non-Null Count   Dtype         \n",
      "---  ------      --------------   -----         \n",
      " 0   time_stamp  207917 non-null  datetime64[ns]\n",
      " 1   user_id     207917 non-null  int64         \n",
      " 2   visited     207917 non-null  int64         \n",
      "dtypes: datetime64[ns](1), int64(2)\n",
      "memory usage: 4.8 MB\n"
     ]
    }
   ],
   "source": [
    "logins_df.info()"
   ]
  },
  {
   "cell_type": "markdown",
   "id": "3a1822cd",
   "metadata": {},
   "source": [
    "**Note:** 'visited' is column of 1s ... good for .sum() to get counts"
   ]
  },
  {
   "cell_type": "code",
   "execution_count": 9,
   "id": "ff4ba804",
   "metadata": {},
   "outputs": [
    {
     "data": {
      "text/plain": [
       "0"
      ]
     },
     "execution_count": 9,
     "metadata": {},
     "output_type": "execute_result"
    }
   ],
   "source": [
    "logins_df.duplicated().sum()"
   ]
  },
  {
   "cell_type": "code",
   "execution_count": 10,
   "id": "bb1a82f1",
   "metadata": {},
   "outputs": [
    {
     "data": {
      "text/plain": [
       "8823"
      ]
     },
     "execution_count": 10,
     "metadata": {},
     "output_type": "execute_result"
    }
   ],
   "source": [
    "len(logins_df.user_id.value_counts())"
   ]
  },
  {
   "cell_type": "code",
   "execution_count": 11,
   "id": "5c4f1daf",
   "metadata": {},
   "outputs": [
    {
     "name": "stdout",
     "output_type": "stream",
     "text": [
      "         visited\n",
      "user_id         \n",
      "2             14\n",
      "10           284\n",
      "20             7\n",
      "33            18\n",
      "42           342\n"
     ]
    },
    {
     "data": {
      "text/plain": [
       "2248"
      ]
     },
     "execution_count": 11,
     "metadata": {},
     "output_type": "execute_result"
    }
   ],
   "source": [
    "gr = logins_df.groupby(by=['user_id']).sum()\n",
    "gr = gr[gr['visited'] > 2]\n",
    "print(gr.head())\n",
    "len(gr.index)"
   ]
  },
  {
   "cell_type": "markdown",
   "id": "813cb021",
   "metadata": {},
   "source": [
    "Here we see that, of 8,823 unique users in the 'logins' dataset, only 2,248 have a TOTAL login count of 3+ (about 25% of user_ids)"
   ]
  },
  {
   "cell_type": "code",
   "execution_count": 12,
   "id": "ef9b275b",
   "metadata": {},
   "outputs": [
    {
     "name": "stdout",
     "output_type": "stream",
     "text": [
      "207917\n"
     ]
    },
    {
     "data": {
      "text/html": [
       "<div>\n",
       "<style scoped>\n",
       "    .dataframe tbody tr th:only-of-type {\n",
       "        vertical-align: middle;\n",
       "    }\n",
       "\n",
       "    .dataframe tbody tr th {\n",
       "        vertical-align: top;\n",
       "    }\n",
       "\n",
       "    .dataframe thead th {\n",
       "        text-align: right;\n",
       "    }\n",
       "</style>\n",
       "<table border=\"1\" class=\"dataframe\">\n",
       "  <thead>\n",
       "    <tr style=\"text-align: right;\">\n",
       "      <th></th>\n",
       "      <th>time_stamp</th>\n",
       "      <th>user_id</th>\n",
       "      <th>visited</th>\n",
       "    </tr>\n",
       "  </thead>\n",
       "  <tbody>\n",
       "    <tr>\n",
       "      <th>0</th>\n",
       "      <td>2014-04-22 03:53:30</td>\n",
       "      <td>1</td>\n",
       "      <td>1</td>\n",
       "    </tr>\n",
       "    <tr>\n",
       "      <th>1</th>\n",
       "      <td>2013-11-15 03:45:04</td>\n",
       "      <td>2</td>\n",
       "      <td>1</td>\n",
       "    </tr>\n",
       "    <tr>\n",
       "      <th>2</th>\n",
       "      <td>2013-11-29 03:45:04</td>\n",
       "      <td>2</td>\n",
       "      <td>1</td>\n",
       "    </tr>\n",
       "    <tr>\n",
       "      <th>3</th>\n",
       "      <td>2013-12-09 03:45:04</td>\n",
       "      <td>2</td>\n",
       "      <td>1</td>\n",
       "    </tr>\n",
       "    <tr>\n",
       "      <th>4</th>\n",
       "      <td>2013-12-25 03:45:04</td>\n",
       "      <td>2</td>\n",
       "      <td>1</td>\n",
       "    </tr>\n",
       "  </tbody>\n",
       "</table>\n",
       "</div>"
      ],
      "text/plain": [
       "           time_stamp  user_id  visited\n",
       "0 2014-04-22 03:53:30        1        1\n",
       "1 2013-11-15 03:45:04        2        1\n",
       "2 2013-11-29 03:45:04        2        1\n",
       "3 2013-12-09 03:45:04        2        1\n",
       "4 2013-12-25 03:45:04        2        1"
      ]
     },
     "execution_count": 12,
     "metadata": {},
     "output_type": "execute_result"
    }
   ],
   "source": [
    "print(len(logins_df))\n",
    "logins_df.head()"
   ]
  },
  {
   "cell_type": "code",
   "execution_count": 13,
   "id": "2fffaa4a",
   "metadata": {},
   "outputs": [],
   "source": [
    "# Use timedelta object to measure week against '3 login window'\n",
    "\n",
    "def adopted_filter(df, days=7, logins=3):\n",
    "    df['date'] = df['time_stamp'].dt.date\n",
    "    df = df.drop_duplicates(subset='date').sort_values('date')\n",
    "    passed_days = df['date'].diff(periods=logins-1)\n",
    "    return any(passed_days <= timedelta(days=days))\n",
    "\n",
    "# returns True if any '3 login window per user' less than 1 week"
   ]
  },
  {
   "cell_type": "code",
   "execution_count": 14,
   "id": "94cec20f",
   "metadata": {},
   "outputs": [
    {
     "name": "stdout",
     "output_type": "stream",
     "text": [
      "1656 adopted users out of 8823 total users\n"
     ]
    }
   ],
   "source": [
    "adopted = logins_df.groupby('user_id').apply(adopted_filter)\n",
    "\n",
    "print('{} adopted users out of {} total users'.format(sum(adopted), len(adopted)))"
   ]
  },
  {
   "cell_type": "code",
   "execution_count": 15,
   "id": "5955ad55",
   "metadata": {},
   "outputs": [
    {
     "data": {
      "text/plain": [
       "pandas.core.series.Series"
      ]
     },
     "execution_count": 15,
     "metadata": {},
     "output_type": "execute_result"
    }
   ],
   "source": [
    "type(adopted)"
   ]
  },
  {
   "cell_type": "code",
   "execution_count": 16,
   "id": "4ffdd3f0",
   "metadata": {},
   "outputs": [
    {
     "data": {
      "text/html": [
       "<div>\n",
       "<style scoped>\n",
       "    .dataframe tbody tr th:only-of-type {\n",
       "        vertical-align: middle;\n",
       "    }\n",
       "\n",
       "    .dataframe tbody tr th {\n",
       "        vertical-align: top;\n",
       "    }\n",
       "\n",
       "    .dataframe thead th {\n",
       "        text-align: right;\n",
       "    }\n",
       "</style>\n",
       "<table border=\"1\" class=\"dataframe\">\n",
       "  <thead>\n",
       "    <tr style=\"text-align: right;\">\n",
       "      <th></th>\n",
       "      <th>creation_source</th>\n",
       "      <th>opted_in_to_mailing_list</th>\n",
       "      <th>enabled_for_marketing_drip</th>\n",
       "      <th>org_id</th>\n",
       "      <th>invited_by_user_id</th>\n",
       "      <th>usage_history</th>\n",
       "      <th>account_age</th>\n",
       "      <th>adopted</th>\n",
       "    </tr>\n",
       "  </thead>\n",
       "  <tbody>\n",
       "    <tr>\n",
       "      <th>1</th>\n",
       "      <td>GUEST_INVITE</td>\n",
       "      <td>1</td>\n",
       "      <td>0</td>\n",
       "      <td>11</td>\n",
       "      <td>10803.0</td>\n",
       "      <td>0</td>\n",
       "      <td>45</td>\n",
       "      <td>0</td>\n",
       "    </tr>\n",
       "    <tr>\n",
       "      <th>2</th>\n",
       "      <td>ORG_INVITE</td>\n",
       "      <td>0</td>\n",
       "      <td>0</td>\n",
       "      <td>1</td>\n",
       "      <td>316.0</td>\n",
       "      <td>136</td>\n",
       "      <td>203</td>\n",
       "      <td>1</td>\n",
       "    </tr>\n",
       "    <tr>\n",
       "      <th>3</th>\n",
       "      <td>ORG_INVITE</td>\n",
       "      <td>0</td>\n",
       "      <td>0</td>\n",
       "      <td>94</td>\n",
       "      <td>1525.0</td>\n",
       "      <td>0</td>\n",
       "      <td>443</td>\n",
       "      <td>0</td>\n",
       "    </tr>\n",
       "    <tr>\n",
       "      <th>4</th>\n",
       "      <td>GUEST_INVITE</td>\n",
       "      <td>0</td>\n",
       "      <td>0</td>\n",
       "      <td>1</td>\n",
       "      <td>5151.0</td>\n",
       "      <td>1</td>\n",
       "      <td>381</td>\n",
       "      <td>0</td>\n",
       "    </tr>\n",
       "    <tr>\n",
       "      <th>5</th>\n",
       "      <td>GUEST_INVITE</td>\n",
       "      <td>0</td>\n",
       "      <td>0</td>\n",
       "      <td>193</td>\n",
       "      <td>5240.0</td>\n",
       "      <td>5</td>\n",
       "      <td>505</td>\n",
       "      <td>0</td>\n",
       "    </tr>\n",
       "  </tbody>\n",
       "</table>\n",
       "</div>"
      ],
      "text/plain": [
       "  creation_source  opted_in_to_mailing_list  enabled_for_marketing_drip  \\\n",
       "1    GUEST_INVITE                         1                           0   \n",
       "2      ORG_INVITE                         0                           0   \n",
       "3      ORG_INVITE                         0                           0   \n",
       "4    GUEST_INVITE                         0                           0   \n",
       "5    GUEST_INVITE                         0                           0   \n",
       "\n",
       "   org_id  invited_by_user_id  usage_history  account_age  adopted  \n",
       "1      11             10803.0              0           45        0  \n",
       "2       1               316.0            136          203        1  \n",
       "3      94              1525.0              0          443        0  \n",
       "4       1              5151.0              1          381        0  \n",
       "5     193              5240.0              5          505        0  "
      ]
     },
     "execution_count": 16,
     "metadata": {},
     "output_type": "execute_result"
    }
   ],
   "source": [
    "model_data = pd.concat([users_df, adopted], axis=1, join='inner')\n",
    "# inner join filters for only users who we have login data for\n",
    "model_data = model_data.rename(columns={0:'adopted'})\n",
    "model_data['adopted'] = model_data['adopted'].astype(int)\n",
    "model_data.head()"
   ]
  },
  {
   "cell_type": "code",
   "execution_count": 17,
   "id": "49463806",
   "metadata": {},
   "outputs": [
    {
     "data": {
      "text/html": [
       "<div>\n",
       "<style scoped>\n",
       "    .dataframe tbody tr th:only-of-type {\n",
       "        vertical-align: middle;\n",
       "    }\n",
       "\n",
       "    .dataframe tbody tr th {\n",
       "        vertical-align: top;\n",
       "    }\n",
       "\n",
       "    .dataframe thead th {\n",
       "        text-align: right;\n",
       "    }\n",
       "</style>\n",
       "<table border=\"1\" class=\"dataframe\">\n",
       "  <thead>\n",
       "    <tr style=\"text-align: right;\">\n",
       "      <th></th>\n",
       "      <th>opted_in_to_mailing_list</th>\n",
       "      <th>enabled_for_marketing_drip</th>\n",
       "      <th>org_id</th>\n",
       "      <th>invited_by_user_id</th>\n",
       "      <th>usage_history</th>\n",
       "      <th>account_age</th>\n",
       "      <th>adopted</th>\n",
       "    </tr>\n",
       "  </thead>\n",
       "  <tbody>\n",
       "    <tr>\n",
       "      <th>count</th>\n",
       "      <td>8823.000000</td>\n",
       "      <td>8823.000000</td>\n",
       "      <td>8823.000000</td>\n",
       "      <td>8823.000000</td>\n",
       "      <td>8823.000000</td>\n",
       "      <td>8823.000000</td>\n",
       "      <td>8823.000000</td>\n",
       "    </tr>\n",
       "    <tr>\n",
       "      <th>mean</th>\n",
       "      <td>0.252295</td>\n",
       "      <td>0.151989</td>\n",
       "      <td>142.572254</td>\n",
       "      <td>3237.316786</td>\n",
       "      <td>59.222147</td>\n",
       "      <td>322.466508</td>\n",
       "      <td>0.187691</td>\n",
       "    </tr>\n",
       "    <tr>\n",
       "      <th>std</th>\n",
       "      <td>0.434354</td>\n",
       "      <td>0.359031</td>\n",
       "      <td>124.176422</td>\n",
       "      <td>3888.088044</td>\n",
       "      <td>144.172167</td>\n",
       "      <td>215.987805</td>\n",
       "      <td>0.390488</td>\n",
       "    </tr>\n",
       "    <tr>\n",
       "      <th>min</th>\n",
       "      <td>0.000000</td>\n",
       "      <td>0.000000</td>\n",
       "      <td>0.000000</td>\n",
       "      <td>0.000000</td>\n",
       "      <td>0.000000</td>\n",
       "      <td>6.000000</td>\n",
       "      <td>0.000000</td>\n",
       "    </tr>\n",
       "    <tr>\n",
       "      <th>25%</th>\n",
       "      <td>0.000000</td>\n",
       "      <td>0.000000</td>\n",
       "      <td>30.000000</td>\n",
       "      <td>0.000000</td>\n",
       "      <td>0.000000</td>\n",
       "      <td>127.000000</td>\n",
       "      <td>0.000000</td>\n",
       "    </tr>\n",
       "    <tr>\n",
       "      <th>50%</th>\n",
       "      <td>0.000000</td>\n",
       "      <td>0.000000</td>\n",
       "      <td>109.000000</td>\n",
       "      <td>1055.000000</td>\n",
       "      <td>1.000000</td>\n",
       "      <td>300.000000</td>\n",
       "      <td>0.000000</td>\n",
       "    </tr>\n",
       "    <tr>\n",
       "      <th>75%</th>\n",
       "      <td>1.000000</td>\n",
       "      <td>0.000000</td>\n",
       "      <td>239.000000</td>\n",
       "      <td>6405.000000</td>\n",
       "      <td>20.000000</td>\n",
       "      <td>503.000000</td>\n",
       "      <td>0.000000</td>\n",
       "    </tr>\n",
       "    <tr>\n",
       "      <th>max</th>\n",
       "      <td>1.000000</td>\n",
       "      <td>1.000000</td>\n",
       "      <td>416.000000</td>\n",
       "      <td>11999.000000</td>\n",
       "      <td>729.000000</td>\n",
       "      <td>736.000000</td>\n",
       "      <td>1.000000</td>\n",
       "    </tr>\n",
       "  </tbody>\n",
       "</table>\n",
       "</div>"
      ],
      "text/plain": [
       "       opted_in_to_mailing_list  enabled_for_marketing_drip       org_id  \\\n",
       "count               8823.000000                 8823.000000  8823.000000   \n",
       "mean                   0.252295                    0.151989   142.572254   \n",
       "std                    0.434354                    0.359031   124.176422   \n",
       "min                    0.000000                    0.000000     0.000000   \n",
       "25%                    0.000000                    0.000000    30.000000   \n",
       "50%                    0.000000                    0.000000   109.000000   \n",
       "75%                    1.000000                    0.000000   239.000000   \n",
       "max                    1.000000                    1.000000   416.000000   \n",
       "\n",
       "       invited_by_user_id  usage_history  account_age      adopted  \n",
       "count         8823.000000    8823.000000  8823.000000  8823.000000  \n",
       "mean          3237.316786      59.222147   322.466508     0.187691  \n",
       "std           3888.088044     144.172167   215.987805     0.390488  \n",
       "min              0.000000       0.000000     6.000000     0.000000  \n",
       "25%              0.000000       0.000000   127.000000     0.000000  \n",
       "50%           1055.000000       1.000000   300.000000     0.000000  \n",
       "75%           6405.000000      20.000000   503.000000     0.000000  \n",
       "max          11999.000000     729.000000   736.000000     1.000000  "
      ]
     },
     "execution_count": 17,
     "metadata": {},
     "output_type": "execute_result"
    }
   ],
   "source": [
    "model_data.describe()"
   ]
  },
  {
   "cell_type": "code",
   "execution_count": 18,
   "id": "56744431",
   "metadata": {},
   "outputs": [
    {
     "name": "stdout",
     "output_type": "stream",
     "text": [
      "Pos class pct: 18.77\n"
     ]
    }
   ],
   "source": [
    "print('Pos class pct: {}'.format(round(100*model_data.adopted.describe()['mean'], 2)))"
   ]
  },
  {
   "cell_type": "markdown",
   "id": "1f237c28",
   "metadata": {},
   "source": [
    "# Modeling / Feature Importances"
   ]
  },
  {
   "cell_type": "code",
   "execution_count": 19,
   "id": "9c03bc0b",
   "metadata": {},
   "outputs": [],
   "source": [
    "from sklearn.model_selection import GridSearchCV, train_test_split\n",
    "# from sklearn.preprocessing import StandardScaler # won't need to be scaling\n",
    "# some numeric, some categorical data; small dataset:\n",
    "from sklearn.ensemble import RandomForestClassifier\n",
    "from sklearn.metrics import classification_report, roc_auc_score, plot_roc_curve"
   ]
  },
  {
   "cell_type": "code",
   "execution_count": 20,
   "id": "f875c5a8",
   "metadata": {},
   "outputs": [
    {
     "data": {
      "text/plain": [
       "Index(['creation_source', 'opted_in_to_mailing_list',\n",
       "       'enabled_for_marketing_drip', 'org_id', 'invited_by_user_id',\n",
       "       'usage_history', 'account_age', 'adopted'],\n",
       "      dtype='object')"
      ]
     },
     "execution_count": 20,
     "metadata": {},
     "output_type": "execute_result"
    }
   ],
   "source": [
    "model_data.keys()"
   ]
  },
  {
   "cell_type": "code",
   "execution_count": 21,
   "id": "39a8ecc6",
   "metadata": {
    "scrolled": true
   },
   "outputs": [
    {
     "name": "stdout",
     "output_type": "stream",
     "text": [
      "<class 'pandas.core.frame.DataFrame'>\n",
      "Int64Index: 8823 entries, 1 to 12000\n",
      "Data columns (total 8 columns):\n",
      " #   Column                      Non-Null Count  Dtype  \n",
      "---  ------                      --------------  -----  \n",
      " 0   creation_source             8823 non-null   object \n",
      " 1   opted_in_to_mailing_list    8823 non-null   int64  \n",
      " 2   enabled_for_marketing_drip  8823 non-null   int64  \n",
      " 3   org_id                      8823 non-null   int64  \n",
      " 4   invited_by_user_id          8823 non-null   float64\n",
      " 5   usage_history               8823 non-null   int32  \n",
      " 6   account_age                 8823 non-null   int64  \n",
      " 7   adopted                     8823 non-null   int32  \n",
      "dtypes: float64(1), int32(2), int64(4), object(1)\n",
      "memory usage: 551.4+ KB\n"
     ]
    }
   ],
   "source": [
    "model_data.info()"
   ]
  },
  {
   "cell_type": "code",
   "execution_count": 22,
   "id": "41d1f6a3",
   "metadata": {},
   "outputs": [],
   "source": [
    "model_data = model_data.drop(columns=['org_id', 'invited_by_user_id'])"
   ]
  },
  {
   "cell_type": "code",
   "execution_count": 23,
   "id": "354830df",
   "metadata": {},
   "outputs": [
    {
     "data": {
      "text/html": [
       "<div>\n",
       "<style scoped>\n",
       "    .dataframe tbody tr th:only-of-type {\n",
       "        vertical-align: middle;\n",
       "    }\n",
       "\n",
       "    .dataframe tbody tr th {\n",
       "        vertical-align: top;\n",
       "    }\n",
       "\n",
       "    .dataframe thead th {\n",
       "        text-align: right;\n",
       "    }\n",
       "</style>\n",
       "<table border=\"1\" class=\"dataframe\">\n",
       "  <thead>\n",
       "    <tr style=\"text-align: right;\">\n",
       "      <th></th>\n",
       "      <th>opted_in_to_mailing_list</th>\n",
       "      <th>enabled_for_marketing_drip</th>\n",
       "      <th>usage_history</th>\n",
       "      <th>account_age</th>\n",
       "      <th>adopted</th>\n",
       "      <th>creation_source_ORG_INVITE</th>\n",
       "      <th>creation_source_PERSONAL_PROJECTS</th>\n",
       "      <th>creation_source_SIGNUP</th>\n",
       "      <th>creation_source_SIGNUP_GOOGLE_AUTH</th>\n",
       "    </tr>\n",
       "  </thead>\n",
       "  <tbody>\n",
       "    <tr>\n",
       "      <th>1</th>\n",
       "      <td>1</td>\n",
       "      <td>0</td>\n",
       "      <td>0</td>\n",
       "      <td>45</td>\n",
       "      <td>0</td>\n",
       "      <td>0</td>\n",
       "      <td>0</td>\n",
       "      <td>0</td>\n",
       "      <td>0</td>\n",
       "    </tr>\n",
       "    <tr>\n",
       "      <th>2</th>\n",
       "      <td>0</td>\n",
       "      <td>0</td>\n",
       "      <td>136</td>\n",
       "      <td>203</td>\n",
       "      <td>1</td>\n",
       "      <td>1</td>\n",
       "      <td>0</td>\n",
       "      <td>0</td>\n",
       "      <td>0</td>\n",
       "    </tr>\n",
       "    <tr>\n",
       "      <th>3</th>\n",
       "      <td>0</td>\n",
       "      <td>0</td>\n",
       "      <td>0</td>\n",
       "      <td>443</td>\n",
       "      <td>0</td>\n",
       "      <td>1</td>\n",
       "      <td>0</td>\n",
       "      <td>0</td>\n",
       "      <td>0</td>\n",
       "    </tr>\n",
       "    <tr>\n",
       "      <th>4</th>\n",
       "      <td>0</td>\n",
       "      <td>0</td>\n",
       "      <td>1</td>\n",
       "      <td>381</td>\n",
       "      <td>0</td>\n",
       "      <td>0</td>\n",
       "      <td>0</td>\n",
       "      <td>0</td>\n",
       "      <td>0</td>\n",
       "    </tr>\n",
       "    <tr>\n",
       "      <th>5</th>\n",
       "      <td>0</td>\n",
       "      <td>0</td>\n",
       "      <td>5</td>\n",
       "      <td>505</td>\n",
       "      <td>0</td>\n",
       "      <td>0</td>\n",
       "      <td>0</td>\n",
       "      <td>0</td>\n",
       "      <td>0</td>\n",
       "    </tr>\n",
       "  </tbody>\n",
       "</table>\n",
       "</div>"
      ],
      "text/plain": [
       "   opted_in_to_mailing_list  enabled_for_marketing_drip  usage_history  \\\n",
       "1                         1                           0              0   \n",
       "2                         0                           0            136   \n",
       "3                         0                           0              0   \n",
       "4                         0                           0              1   \n",
       "5                         0                           0              5   \n",
       "\n",
       "   account_age  adopted  creation_source_ORG_INVITE  \\\n",
       "1           45        0                           0   \n",
       "2          203        1                           1   \n",
       "3          443        0                           1   \n",
       "4          381        0                           0   \n",
       "5          505        0                           0   \n",
       "\n",
       "   creation_source_PERSONAL_PROJECTS  creation_source_SIGNUP  \\\n",
       "1                                  0                       0   \n",
       "2                                  0                       0   \n",
       "3                                  0                       0   \n",
       "4                                  0                       0   \n",
       "5                                  0                       0   \n",
       "\n",
       "   creation_source_SIGNUP_GOOGLE_AUTH  \n",
       "1                                   0  \n",
       "2                                   0  \n",
       "3                                   0  \n",
       "4                                   0  \n",
       "5                                   0  "
      ]
     },
     "execution_count": 23,
     "metadata": {},
     "output_type": "execute_result"
    }
   ],
   "source": [
    "model_data_1 = pd.get_dummies(model_data, drop_first=True)\n",
    "model_data_1.head()"
   ]
  },
  {
   "cell_type": "code",
   "execution_count": 24,
   "id": "821082ed",
   "metadata": {},
   "outputs": [
    {
     "data": {
      "text/plain": [
       "((8823, 8), (8823,))"
      ]
     },
     "execution_count": 24,
     "metadata": {},
     "output_type": "execute_result"
    }
   ],
   "source": [
    "y = model_data_1[['adopted']].values.ravel()\n",
    "X = model_data_1.drop(columns=['adopted'])\n",
    "\n",
    "X.shape, y.shape"
   ]
  },
  {
   "cell_type": "code",
   "execution_count": 25,
   "id": "b7edb8e0",
   "metadata": {},
   "outputs": [
    {
     "data": {
      "text/plain": [
       "((5882, 8), (2941, 8), (5882,), (2941,))"
      ]
     },
     "execution_count": 25,
     "metadata": {},
     "output_type": "execute_result"
    }
   ],
   "source": [
    "X_tr, X_te, y_tr, y_te = train_test_split(X, y, stratify=y, test_size=1/3, random_state=42)\n",
    "X_tr.shape, X_te.shape, y_tr.shape, y_te.shape"
   ]
  },
  {
   "cell_type": "code",
   "execution_count": 26,
   "id": "cd148dde",
   "metadata": {},
   "outputs": [
    {
     "name": "stdout",
     "output_type": "stream",
     "text": [
      "Best params: {'criterion': 'entropy', 'n_estimators': 100}\n",
      "Best score: 0.9620184209152889\n"
     ]
    }
   ],
   "source": [
    "clf = RandomForestClassifier(random_state=42)\n",
    "\n",
    "param_grid = {'n_estimators':[10, 50, 100, 200],\n",
    "             'criterion':['gini','entropy']}\n",
    "\n",
    "cvmod = GridSearchCV(clf, param_grid, scoring='f1_weighted', cv=5)\n",
    "\n",
    "cvmod.fit(X_tr, y_tr)\n",
    "\n",
    "print('Best params:', cvmod.best_params_)\n",
    "print('Best score:', cvmod.best_score_)"
   ]
  },
  {
   "cell_type": "code",
   "execution_count": 27,
   "id": "8978763c",
   "metadata": {},
   "outputs": [
    {
     "name": "stdout",
     "output_type": "stream",
     "text": [
      "roc_auc: 0.9265481585285215\n",
      "              precision    recall  f1-score   support\n",
      "\n",
      "           0       0.97      0.98      0.98      2389\n",
      "           1       0.91      0.87      0.89       552\n",
      "\n",
      "    accuracy                           0.96      2941\n",
      "   macro avg       0.94      0.93      0.93      2941\n",
      "weighted avg       0.96      0.96      0.96      2941\n",
      "\n"
     ]
    }
   ],
   "source": [
    "model = RandomForestClassifier(criterion='entropy', n_estimators=100, random_state=42)\n",
    "\n",
    "model.fit(X_tr, y_tr)\n",
    "y_pred = model.predict(X_te)\n",
    "\n",
    "print('roc_auc:', roc_auc_score(y_te, y_pred))\n",
    "print(classification_report(y_te, y_pred))"
   ]
  },
  {
   "cell_type": "code",
   "execution_count": 28,
   "id": "2f89e80b",
   "metadata": {},
   "outputs": [
    {
     "data": {
      "image/png": "[encoded data removed]",
      "text/plain": [
       "<Figure size 432x288 with 1 Axes>"
      ]
     },
     "metadata": {
      "needs_background": "light"
     },
     "output_type": "display_data"
    }
   ],
   "source": [
    "warnings.simplefilter(action='ignore', category= FutureWarning)\n",
    "\n",
    "_ = plot_roc_curve(model, X_te, y_te, pos_label=1)\n",
    "plt.plot([0, 1], [0, 1], 'r--')\n",
    "plt.show();"
   ]
  },
  {
   "cell_type": "code",
   "execution_count": 29,
   "id": "2e267acd",
   "metadata": {},
   "outputs": [
    {
     "name": "stdout",
     "output_type": "stream",
     "text": [
      "                             Features  Importance scores\n",
      "2                       usage_history           0.868280\n",
      "3                         account_age           0.110892\n",
      "0            opted_in_to_mailing_list           0.004787\n",
      "4          creation_source_ORG_INVITE           0.003882\n",
      "6              creation_source_SIGNUP           0.003604\n",
      "1          enabled_for_marketing_drip           0.003526\n",
      "5   creation_source_PERSONAL_PROJECTS           0.002526\n",
      "7  creation_source_SIGNUP_GOOGLE_AUTH           0.002503\n"
     ]
    }
   ],
   "source": [
    "features = X_tr.keys()\n",
    "imps = model.feature_importances_.ravel()\n",
    "imp_df = pd.DataFrame((zip(features, imps)), columns =['Features', 'Importance scores'])\n",
    "imp_df = imp_df.sort_values('Importance scores', ascending=False)\n",
    "print(imp_df)"
   ]
  },
  {
   "cell_type": "code",
   "execution_count": 30,
   "id": "590f1463",
   "metadata": {},
   "outputs": [
    {
     "data": {
      "image/png": "[encoded data removed]",
      "text/plain": [
       "<Figure size 720x360 with 1 Axes>"
      ]
     },
     "metadata": {
      "needs_background": "light"
     },
     "output_type": "display_data"
    }
   ],
   "source": [
    "plt.figure(figsize=(10,5))\n",
    "_=plt.barh(imp_df['Features'], imp_df['Importance scores'], align='center', color='b')\n",
    "plt.xlabel('Relative Importance',fontsize=15)\n",
    "plt.ylabel('Features',fontsize=15)\n",
    "plt.title('Feature Importances for Final Model',fontsize=15)\n",
    "plt.yticks(imp_df['Features'], imp_df['Features'])\n",
    "plt.show();"
   ]
  },
  {
   "cell_type": "markdown",
   "id": "211616a5",
   "metadata": {},
   "source": [
    "# Conclusions\n",
    "\n",
    "**'usage_history'** is clearly the most important feature, with **'account_age'** coming in second. There is not much the company can do to *influence* account age, however, they can *respond* by offering incentives to users to stay on their platform, once registered.\n",
    "\n",
    "It looks like the marketing drip emails and mailing list opt-ins are proving innefective for increasing user logins. However, it should be noted that simply 'upping logins' may not be the primary goal of these resources.\n",
    "\n",
    "There may be some attention to be paid to creation_source's, though nothing stands out too much from these results. The position of ORG_INVITE over others makes sense though, as this indicates a user who has good reason to keep working with the platform. Additionally, SIGNUP_GOOGLE_AUTH at the bottom may be due to individuals logging in 'the easiest way possible' which may indicate a lack of real interest in using the platform."
   ]
  }
 ],
 "metadata": {
  "kernelspec": {
   "display_name": "Python 3 (ipykernel)",
   "language": "python",
   "name": "python3"
  },
  "language_info": {
   "codemirror_mode": {
    "name": "ipython",
    "version": 3
   },
   "file_extension": ".py",
   "mimetype": "text/x-python",
   "name": "python",
   "nbconvert_exporter": "python",
   "pygments_lexer": "ipython3",
   "version": "3.8.13"
  }
 },
 "nbformat": 4,
 "nbformat_minor": 5
}
