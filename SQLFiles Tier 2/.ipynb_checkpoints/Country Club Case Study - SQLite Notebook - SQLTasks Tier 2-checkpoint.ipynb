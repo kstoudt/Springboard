{
 "cells": [
  {
   "cell_type": "markdown",
   "id": "f626fb20",
   "metadata": {},
   "source": [
    "**Springboard DSCT: 8.3 - SQL Case Study - PART 2: SQLite**"
   ]
  },
  {
   "cell_type": "markdown",
   "id": "2e0e148b",
   "metadata": {},
   "source": [
    "\n",
    "**Initial Note:** Errors on the PHPMyAdmin server resulted in Q9 being answered in this notebook. Q8 included for context.\n"
   ]
  },
  {
   "cell_type": "markdown",
   "id": "5f6de929",
   "metadata": {},
   "source": [
    "Setting up useful references:"
   ]
  },
  {
   "cell_type": "code",
   "execution_count": 1,
   "id": "baed0c91",
   "metadata": {},
   "outputs": [
    {
     "name": "stdout",
     "output_type": "stream",
     "text": [
      "['Bookings', 'Facilities', 'Members']\n"
     ]
    },
    {
     "name": "stderr",
     "output_type": "stream",
     "text": [
      "C:\\Users\\Kstou\\AppData\\Local\\Temp/ipykernel_27736/4197245412.py:4: SADeprecationWarning: The Engine.table_names() method is deprecated and will be removed in a future release.  Please refer to Inspector.get_table_names(). (deprecated since: 1.4)\n",
      "  table_names = engine.table_names()\n"
     ]
    }
   ],
   "source": [
    "from sqlalchemy import *\n",
    "import pandas as pd\n",
    "engine = create_engine('sqlite:///sqlite_db_pythonsqlite.db')\n",
    "table_names = engine.table_names()\n",
    "print(table_names)"
   ]
  },
  {
   "cell_type": "code",
   "execution_count": 2,
   "id": "3ccf08cb",
   "metadata": {},
   "outputs": [
    {
     "name": "stdout",
     "output_type": "stream",
     "text": [
      "   bookid  facid  memid            starttime  slots\n",
      "0       0      3      1  2012-07-03 11:00:00      2\n",
      "1       1      4      1  2012-07-03 08:00:00      2\n",
      "2       2      6      0  2012-07-03 18:00:00      2\n",
      "3       3      7      1  2012-07-03 19:00:00      2\n",
      "4       4      8      1  2012-07-03 10:00:00      1\n"
     ]
    }
   ],
   "source": [
    "with engine.connect() as con:\n",
    "    r = con.execute('SELECT * FROM Bookings')\n",
    "    B_df = pd.DataFrame(r.fetchall())\n",
    "    B_df.columns = r.keys()\n",
    "print(B_df.head())"
   ]
  },
  {
   "cell_type": "code",
   "execution_count": 3,
   "id": "185e1399",
   "metadata": {},
   "outputs": [
    {
     "name": "stdout",
     "output_type": "stream",
     "text": [
      "   facid             name  membercost  guestcost  initialoutlay  \\\n",
      "0      0   Tennis Court 1         5.0       25.0          10000   \n",
      "1      1   Tennis Court 2         5.0       25.0           8000   \n",
      "2      2  Badminton Court         0.0       15.5           4000   \n",
      "3      3     Table Tennis         0.0        5.0            320   \n",
      "4      4   Massage Room 1         9.9       80.0           4000   \n",
      "\n",
      "   monthlymaintenance  \n",
      "0                 200  \n",
      "1                 200  \n",
      "2                  50  \n",
      "3                  10  \n",
      "4                3000  \n"
     ]
    }
   ],
   "source": [
    "F_df = pd.read_sql_query('SELECT * FROM Facilities', engine)\n",
    "print(F_df.head())"
   ]
  },
  {
   "cell_type": "code",
   "execution_count": 4,
   "id": "fca2e88e",
   "metadata": {},
   "outputs": [
    {
     "name": "stdout",
     "output_type": "stream",
     "text": [
      "   memid   surname firstname                       address  zipcode  \\\n",
      "0      0     GUEST     GUEST                         GUEST        0   \n",
      "1      1     Smith    Darren    8 Bloomsbury Close, Boston     4321   \n",
      "2      2     Smith     Tracy  8 Bloomsbury Close, New York     4321   \n",
      "3      3    Rownam       Tim        23 Highway Way, Boston    23423   \n",
      "4      4  Joplette    Janice    20 Crossing Road, New York      234   \n",
      "\n",
      "        telephone recommendedby             joindate  \n",
      "0  (000) 000-0000                2012-07-01 00:00:00  \n",
      "1    555-555-5555                2012-07-02 12:02:05  \n",
      "2    555-555-5555                2012-07-02 12:08:23  \n",
      "3  (844) 693-0723                2012-07-03 09:32:15  \n",
      "4  (833) 942-4710             1  2012-07-03 10:25:05  \n"
     ]
    }
   ],
   "source": [
    "M_df = pd.read_sql_query('SELECT * FROM Members', engine)\n",
    "print(M_df.head())"
   ]
  },
  {
   "cell_type": "code",
   "execution_count": 5,
   "id": "e793c823",
   "metadata": {},
   "outputs": [
    {
     "name": "stdout",
     "output_type": "stream",
     "text": [
      "<class 'pandas.core.frame.DataFrame'>\n",
      "RangeIndex: 4043 entries, 0 to 4042\n",
      "Data columns (total 5 columns):\n",
      " #   Column     Non-Null Count  Dtype \n",
      "---  ------     --------------  ----- \n",
      " 0   bookid     4043 non-null   int64 \n",
      " 1   facid      4043 non-null   int64 \n",
      " 2   memid      4043 non-null   int64 \n",
      " 3   starttime  4043 non-null   object\n",
      " 4   slots      4043 non-null   int64 \n",
      "dtypes: int64(4), object(1)\n",
      "memory usage: 158.1+ KB\n",
      "None\n",
      "<class 'pandas.core.frame.DataFrame'>\n",
      "RangeIndex: 9 entries, 0 to 8\n",
      "Data columns (total 6 columns):\n",
      " #   Column              Non-Null Count  Dtype  \n",
      "---  ------              --------------  -----  \n",
      " 0   facid               9 non-null      int64  \n",
      " 1   name                9 non-null      object \n",
      " 2   membercost          9 non-null      float64\n",
      " 3   guestcost           9 non-null      float64\n",
      " 4   initialoutlay       9 non-null      int64  \n",
      " 5   monthlymaintenance  9 non-null      int64  \n",
      "dtypes: float64(2), int64(3), object(1)\n",
      "memory usage: 560.0+ bytes\n",
      "None\n",
      "<class 'pandas.core.frame.DataFrame'>\n",
      "RangeIndex: 31 entries, 0 to 30\n",
      "Data columns (total 8 columns):\n",
      " #   Column         Non-Null Count  Dtype \n",
      "---  ------         --------------  ----- \n",
      " 0   memid          31 non-null     int64 \n",
      " 1   surname        31 non-null     object\n",
      " 2   firstname      31 non-null     object\n",
      " 3   address        31 non-null     object\n",
      " 4   zipcode        31 non-null     int64 \n",
      " 5   telephone      31 non-null     object\n",
      " 6   recommendedby  31 non-null     object\n",
      " 7   joindate       31 non-null     object\n",
      "dtypes: int64(2), object(6)\n",
      "memory usage: 2.1+ KB\n",
      "None\n"
     ]
    }
   ],
   "source": [
    "print(B_df.info())\n",
    "print(F_df.info())\n",
    "print(M_df.info())"
   ]
  },
  {
   "cell_type": "markdown",
   "id": "dc1d3adf",
   "metadata": {},
   "source": [
    "**Q8**: Produce a list of bookings on the day of 2012-09-14 which\n",
    "will cost the member (or guest) more than 30 Dollars. Remember that guests have\n",
    "different costs to members (the listed costs are per half-hour 'slot'), and\n",
    "the guest user's ID is always 0. Include in your output the name of the\n",
    "facility, the name of the member formatted as a single column, and the cost.\n",
    "Order by descending cost, and do not use any subqueries.\n",
    "\n",
    "**Q9**: This time, produce the same result as in Q8, but using a subquery."
   ]
  },
  {
   "cell_type": "code",
   "execution_count": 6,
   "id": "d120baeb",
   "metadata": {},
   "outputs": [
    {
     "name": "stdout",
     "output_type": "stream",
     "text": [
      "   firstname  surname        Facility   cost            starttime\n",
      "0      GUEST    GUEST  Massage Room 2  320.0  2012-09-14 11:00:00\n",
      "1      GUEST    GUEST  Massage Room 1  160.0  2012-09-14 09:00:00\n",
      "2      GUEST    GUEST  Massage Room 1  160.0  2012-09-14 13:00:00\n",
      "3      GUEST    GUEST  Massage Room 1  160.0  2012-09-14 16:00:00\n",
      "4      GUEST    GUEST  Tennis Court 2  150.0  2012-09-14 17:00:00\n",
      "5      GUEST    GUEST  Tennis Court 1   75.0  2012-09-14 16:00:00\n",
      "6      GUEST    GUEST  Tennis Court 1   75.0  2012-09-14 19:00:00\n",
      "7      GUEST    GUEST  Tennis Court 2   75.0  2012-09-14 14:00:00\n",
      "8      GUEST    GUEST    Squash Court   70.0  2012-09-14 09:30:00\n",
      "9     Jemima  Farrell  Massage Room 1   39.6  2012-09-14 14:00:00\n",
      "10     GUEST    GUEST    Squash Court   35.0  2012-09-14 12:30:00\n",
      "11     GUEST    GUEST    Squash Court   35.0  2012-09-14 15:00:00\n"
     ]
    }
   ],
   "source": [
    "Q_9 = pd.read_sql_query(\"\"\"SELECT firstname, surname, name AS Facility,\n",
    "CASE WHEN memid = 0\n",
    "THEN guestcost * slots\n",
    "ELSE membercost * slots\n",
    "END AS cost, starttime\n",
    "FROM (SELECT * FROM Bookings AS b\n",
    "JOIN Members AS m ON b.memid = m.memid\n",
    "JOIN Facilities AS f ON b.facid = f.facid\n",
    "WHERE starttime LIKE '2012-09-14%'\n",
    "AND CASE WHEN m.memid = 0\n",
    "THEN guestcost * slots\n",
    "ELSE membercost * slots\n",
    "END >30)\n",
    "ORDER BY cost DESC;\"\"\", engine)\n",
    "print(Q_9)"
   ]
  },
  {
   "cell_type": "markdown",
   "id": "71031008",
   "metadata": {},
   "source": [
    "**Q10:** Produce a list of facilities with a total revenue less than 1000.\n",
    "The output of facility name and total revenue, sorted by revenue. Remember\n",
    "that there's a different cost for guests and members!"
   ]
  },
  {
   "cell_type": "code",
   "execution_count": 7,
   "id": "39af10d5",
   "metadata": {},
   "outputs": [
    {
     "name": "stdout",
     "output_type": "stream",
     "text": [
      "              cost\n",
      "count  4043.000000\n",
      "mean     26.970245\n",
      "std      56.086200\n",
      "min       0.000000\n",
      "25%       0.000000\n",
      "50%       7.000000\n",
      "75%      19.800000\n",
      "max     640.000000\n",
      "               Total Revenue\n",
      "name                        \n",
      "Pool Table             270.0\n",
      "Snooker Table          240.0\n",
      "Table Tennis           180.0\n"
     ]
    }
   ],
   "source": [
    "df_10 = pd.read_sql_query(\"\"\"\n",
    "SELECT name, CASE WHEN memid = 0 THEN guestcost * slots ELSE membercost * slots END AS cost \n",
    "FROM Bookings JOIN Members USING(memid) JOIN Facilities USING(facid);\n",
    "\"\"\", engine)\n",
    "print(df_10.describe())\n",
    "df_10 = df_10.groupby('name').sum().sort_values('cost', ascending=False)\n",
    "df_10 = df_10[df_10['cost']<1000]\n",
    "df_10.rename(columns={'cost':'Total Revenue'}, inplace=True)\n",
    "print(df_10)"
   ]
  },
  {
   "cell_type": "markdown",
   "id": "eab29307",
   "metadata": {},
   "source": [
    "**Q11:** Produce a report of members and who recommended them in alphabetic surname,firstname order"
   ]
  },
  {
   "cell_type": "code",
   "execution_count": 8,
   "id": "037805c5",
   "metadata": {},
   "outputs": [
    {
     "name": "stdout",
     "output_type": "stream",
     "text": [
      "    memid mem_firstname        mem_surname  rec_id rec_firstname rec_surname\n",
      "0      21          Anna          Mackenzie       1        Darren       Smith\n",
      "1      12          Anne              Baker       9        Ponder    Stibbons\n",
      "2      10       Charles               Owen       1        Darren       Smith\n",
      "3      11         David              Jones       4        Janice    Joplette\n",
      "4      17         David             Pinker      13        Jemima     Farrell\n",
      "5      26       Douglas              Jones      11         David       Jones\n",
      "6      36         Erica            Crumpet       2         Tracy       Smith\n",
      "7      15      Florence              Bader       9        Ponder    Stibbons\n",
      "8       5        Gerald            Butters       1        Darren       Smith\n",
      "9      27     Henrietta             Rumney      20       Matthew     Genting\n",
      "10     29         Henry  Worthington-Smyth       2         Tracy       Smith\n",
      "11     14          Jack              Smith       1        Darren       Smith\n",
      "12      4        Janice           Joplette       1        Darren       Smith\n",
      "13     22          Joan             Coplin      16       Timothy       Baker\n",
      "14     35          John               Hunt      30     Millicent     Purview\n",
      "15     20       Matthew            Genting       5        Gerald     Butters\n",
      "16     30     Millicent            Purview       2         Tracy       Smith\n",
      "17      7         Nancy               Dare       4        Janice    Joplette\n",
      "18      9        Ponder           Stibbons       6        Burton       Tracy\n",
      "19     24     Ramnaresh             Sarwin      15      Florence       Bader\n",
      "20      8           Tim             Boothe       3           Tim      Rownam\n",
      "21     16       Timothy              Baker      13        Jemima     Farrell\n"
     ]
    }
   ],
   "source": [
    "df_11 = pd.read_sql_query(\"\"\"\n",
    "SELECT m1.memid, m1.firstname AS mem_firstname, m1.surname AS mem_surname, \n",
    "m2.memid AS rec_id, m2.firstname AS rec_firstname, m2.surname AS rec_surname\n",
    "FROM Members AS m1\n",
    "JOIN Members AS m2\n",
    "ON m1.recommendedby = m2.memid\n",
    "ORDER BY m1.firstname, m1.surname;\n",
    "\"\"\", engine)\n",
    "print(df_11)"
   ]
  },
  {
   "cell_type": "markdown",
   "id": "03b7498b",
   "metadata": {},
   "source": [
    "**Q12:** Find the facilities with their usage by member, but not guests"
   ]
  },
  {
   "cell_type": "code",
   "execution_count": 9,
   "id": "e40c6ddc",
   "metadata": {},
   "outputs": [
    {
     "name": "stdout",
     "output_type": "stream",
     "text": [
      "     facid  memid  firstname     surname\n",
      "0        0      2      Tracy       Smith\n",
      "22       0     36      Erica     Crumpet\n",
      "21       0     35       John        Hunt\n",
      "20       0     28      David     Farrell\n",
      "19       0     26    Douglas       Jones\n",
      "..     ...    ...        ...         ...\n",
      "176      8      2      Tracy       Smith\n",
      "175      8      1     Darren       Smith\n",
      "200      8     30  Millicent     Purview\n",
      "187      8     13     Jemima     Farrell\n",
      "201      8     33   Hyacinth  Tupperware\n",
      "\n",
      "[202 rows x 4 columns]\n"
     ]
    }
   ],
   "source": [
    "df_12 = pd.read_sql_query(\"\"\"\n",
    "SELECT b.facid, m.memid, m.firstname, m.surname \n",
    "FROM Bookings AS b \n",
    "JOIN Members AS m\n",
    "USING(memid) \n",
    "WHERE b.memid != 0\n",
    "GROUP BY facid, memid;\n",
    "\"\"\", engine)\n",
    "df_12 = df_12.sort_values('facid')\n",
    "print(df_12)"
   ]
  },
  {
   "cell_type": "markdown",
   "id": "384e3fa7",
   "metadata": {},
   "source": [
    "**Q13:**"
   ]
  },
  {
   "cell_type": "code",
   "execution_count": 10,
   "id": "7a62b64d",
   "metadata": {},
   "outputs": [
    {
     "name": "stdout",
     "output_type": "stream",
     "text": [
      "      facid month  memid  slots firstname            surname\n",
      "0         3    07      1      2    Darren              Smith\n",
      "1         4    07      1      2    Darren              Smith\n",
      "2         7    07      1      2    Darren              Smith\n",
      "3         8    07      1      1    Darren              Smith\n",
      "4         8    07      1      1    Darren              Smith\n",
      "...     ...   ...    ...    ...       ...                ...\n",
      "3155      8    09     29      2     Henry  Worthington-Smyth\n",
      "3156      8    09     29      1     Henry  Worthington-Smyth\n",
      "3157      8    09     21      1      Anna          Mackenzie\n",
      "3158      8    09     16      1   Timothy              Baker\n",
      "3159      8    09     29      1     Henry  Worthington-Smyth\n",
      "\n",
      "[3160 rows x 6 columns]\n"
     ]
    }
   ],
   "source": [
    "df_13 = pd.read_sql_query(\"\"\"\n",
    "SELECT facid, strftime('%m', starttime) AS month, memid, slots, firstname, surname \n",
    "FROM (SELECT b.facid, b.memid, b.starttime, b.slots, m.firstname, m.surname\n",
    "FROM Bookings AS b \n",
    "JOIN Members AS m \n",
    "USING(memid))\n",
    "WHERE memid != 0;\n",
    "\"\"\", engine)\n",
    "print(df_13)"
   ]
  }
 ],
 "metadata": {
  "kernelspec": {
   "display_name": "Python 3 (ipykernel)",
   "language": "python",
   "name": "python3"
  },
  "language_info": {
   "codemirror_mode": {
    "name": "ipython",
    "version": 3
   },
   "file_extension": ".py",
   "mimetype": "text/x-python",
   "name": "python",
   "nbconvert_exporter": "python",
   "pygments_lexer": "ipython3",
   "version": "3.8.12"
  }
 },
 "nbformat": 4,
 "nbformat_minor": 5
}
