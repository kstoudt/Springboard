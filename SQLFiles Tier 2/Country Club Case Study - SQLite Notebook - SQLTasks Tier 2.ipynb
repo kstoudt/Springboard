{
 "cells": [
  {
   "cell_type": "markdown",
   "id": "f626fb20",
   "metadata": {},
   "source": [
    "**Springboard DSCT: 8.3 - SQL Case Study - PART 2: SQLite**"
   ]
  },
  {
   "cell_type": "markdown",
   "id": "2e0e148b",
   "metadata": {},
   "source": [
    "Initial Note: Errors on the PHPMyAdmin server resulted in Q9 being answered in this notebook. Q8 included for context.\n",
    "\n",
    "QUESTIONS:\n",
    "\n",
    "**Q8**: Produce a list of bookings on the day of 2012-09-14 which\n",
    "will cost the member (or guest) more than 30 Dollars. Remember that guests have\n",
    "different costs to members (the listed costs are per half-hour 'slot'), and\n",
    "the guest user's ID is always 0. Include in your output the name of the\n",
    "facility, the name of the member formatted as a single column, and the cost.\n",
    "Order by descending cost, and do not use any subqueries.\n",
    "\n",
    "**Q9**: This time, produce the same result as in Q8, but using a subquery.\n",
    "\n",
    "**Q10:** Produce a list of facilities with a total revenue less than 1000.\n",
    "The output of facility name and total revenue, sorted by revenue. Remember\n",
    "that there's a different cost for guests and members!\n",
    "\n",
    "**Q11:** Produce a report of members and who recommended them in alphabetic surname,firstname order\n",
    "\n",
    "\n",
    "**Q12:** Find the facilities with their usage by member, but not guests\n",
    "\n",
    "\n",
    "**Q13:** Find the facilities usage by month, but not guests"
   ]
  },
  {
   "cell_type": "code",
   "execution_count": 1,
   "id": "baed0c91",
   "metadata": {},
   "outputs": [
    {
     "name": "stdout",
     "output_type": "stream",
     "text": [
      "['Bookings', 'Facilities', 'Members']\n"
     ]
    },
    {
     "name": "stderr",
     "output_type": "stream",
     "text": [
      "C:\\Users\\Kstou\\AppData\\Local\\Temp/ipykernel_29012/4197245412.py:4: SADeprecationWarning: The Engine.table_names() method is deprecated and will be removed in a future release.  Please refer to Inspector.get_table_names(). (deprecated since: 1.4)\n",
      "  table_names = engine.table_names()\n"
     ]
    }
   ],
   "source": [
    "from sqlalchemy import *\n",
    "import pandas as pd\n",
    "engine = create_engine('sqlite:///sqlite_db_pythonsqlite.db')\n",
    "table_names = engine.table_names()\n",
    "print(table_names)"
   ]
  },
  {
   "cell_type": "code",
   "execution_count": 2,
   "id": "3ccf08cb",
   "metadata": {},
   "outputs": [
    {
     "name": "stdout",
     "output_type": "stream",
     "text": [
      "   bookid  facid  memid            starttime  slots\n",
      "0       0      3      1  2012-07-03 11:00:00      2\n",
      "1       1      4      1  2012-07-03 08:00:00      2\n",
      "2       2      6      0  2012-07-03 18:00:00      2\n",
      "3       3      7      1  2012-07-03 19:00:00      2\n",
      "4       4      8      1  2012-07-03 10:00:00      1\n"
     ]
    }
   ],
   "source": [
    "with engine.connect() as con:\n",
    "    r = con.execute('SELECT * FROM Bookings')\n",
    "    B_df = pd.DataFrame(r.fetchall())\n",
    "    B_df.columns = r.keys()\n",
    "\n",
    "    print(B_df.head())"
   ]
  },
  {
   "cell_type": "code",
   "execution_count": 3,
   "id": "185e1399",
   "metadata": {},
   "outputs": [
    {
     "name": "stdout",
     "output_type": "stream",
     "text": [
      "   facid             name  membercost  guestcost  initialoutlay  \\\n",
      "0      0   Tennis Court 1         5.0       25.0          10000   \n",
      "1      1   Tennis Court 2         5.0       25.0           8000   \n",
      "2      2  Badminton Court         0.0       15.5           4000   \n",
      "3      3     Table Tennis         0.0        5.0            320   \n",
      "4      4   Massage Room 1         9.9       80.0           4000   \n",
      "\n",
      "   monthlymaintenance  \n",
      "0                 200  \n",
      "1                 200  \n",
      "2                  50  \n",
      "3                  10  \n",
      "4                3000  \n"
     ]
    }
   ],
   "source": [
    "F_df = pd.read_sql_query('SELECT * FROM Facilities', engine)\n",
    "print(F_df.head())"
   ]
  },
  {
   "cell_type": "code",
   "execution_count": 4,
   "id": "fca2e88e",
   "metadata": {},
   "outputs": [
    {
     "name": "stdout",
     "output_type": "stream",
     "text": [
      "   memid   surname firstname                       address  zipcode  \\\n",
      "0      0     GUEST     GUEST                         GUEST        0   \n",
      "1      1     Smith    Darren    8 Bloomsbury Close, Boston     4321   \n",
      "2      2     Smith     Tracy  8 Bloomsbury Close, New York     4321   \n",
      "3      3    Rownam       Tim        23 Highway Way, Boston    23423   \n",
      "4      4  Joplette    Janice    20 Crossing Road, New York      234   \n",
      "\n",
      "        telephone recommendedby             joindate  \n",
      "0  (000) 000-0000                2012-07-01 00:00:00  \n",
      "1    555-555-5555                2012-07-02 12:02:05  \n",
      "2    555-555-5555                2012-07-02 12:08:23  \n",
      "3  (844) 693-0723                2012-07-03 09:32:15  \n",
      "4  (833) 942-4710             1  2012-07-03 10:25:05  \n"
     ]
    }
   ],
   "source": [
    "M_df = pd.read_sql_query('SELECT * FROM Members', engine)\n",
    "print(M_df.head())"
   ]
  },
  {
   "cell_type": "markdown",
   "id": "2b7cbb97",
   "metadata": {},
   "source": [
    "**Running the Query from Q9:**"
   ]
  },
  {
   "cell_type": "code",
   "execution_count": 30,
   "id": "d120baeb",
   "metadata": {},
   "outputs": [
    {
     "name": "stdout",
     "output_type": "stream",
     "text": [
      "   firstname  surname        Facility   cost            starttime\n",
      "0      GUEST    GUEST  Massage Room 2  320.0  2012-09-14 11:00:00\n",
      "1      GUEST    GUEST  Massage Room 1  160.0  2012-09-14 09:00:00\n",
      "2      GUEST    GUEST  Massage Room 1  160.0  2012-09-14 13:00:00\n",
      "3      GUEST    GUEST  Massage Room 1  160.0  2012-09-14 16:00:00\n",
      "4      GUEST    GUEST  Tennis Court 2  150.0  2012-09-14 17:00:00\n",
      "5      GUEST    GUEST  Tennis Court 1   75.0  2012-09-14 16:00:00\n",
      "6      GUEST    GUEST  Tennis Court 1   75.0  2012-09-14 19:00:00\n",
      "7      GUEST    GUEST  Tennis Court 2   75.0  2012-09-14 14:00:00\n",
      "8      GUEST    GUEST    Squash Court   70.0  2012-09-14 09:30:00\n",
      "9     Jemima  Farrell  Massage Room 1   39.6  2012-09-14 14:00:00\n",
      "10     GUEST    GUEST    Squash Court   35.0  2012-09-14 12:30:00\n",
      "11     GUEST    GUEST    Squash Court   35.0  2012-09-14 15:00:00\n"
     ]
    }
   ],
   "source": [
    "Question_9 = pd.read_sql_query(\"\"\"SELECT firstname, surname, name AS Facility,\n",
    "CASE WHEN memid = 0\n",
    "THEN guestcost * slots\n",
    "ELSE membercost * slots\n",
    "END AS cost, starttime\n",
    "FROM (SELECT * FROM Bookings AS b\n",
    "JOIN Members AS m ON b.memid = m.memid\n",
    "JOIN Facilities AS f ON b.facid = f.facid\n",
    "WHERE starttime LIKE '2012-09-14%'\n",
    "AND CASE WHEN m.memid = 0\n",
    "THEN guestcost * slots\n",
    "ELSE membercost * slots\n",
    "END >30)\n",
    "ORDER BY cost DESC;\"\"\", engine)\n",
    "print(Question_9)"
   ]
  },
  {
   "cell_type": "code",
   "execution_count": null,
   "id": "3242c700",
   "metadata": {},
   "outputs": [],
   "source": []
  }
 ],
 "metadata": {
  "kernelspec": {
   "display_name": "Python 3 (ipykernel)",
   "language": "python",
   "name": "python3"
  },
  "language_info": {
   "codemirror_mode": {
    "name": "ipython",
    "version": 3
   },
   "file_extension": ".py",
   "mimetype": "text/x-python",
   "name": "python",
   "nbconvert_exporter": "python",
   "pygments_lexer": "ipython3",
   "version": "3.8.12"
  }
 },
 "nbformat": 4,
 "nbformat_minor": 5
}
