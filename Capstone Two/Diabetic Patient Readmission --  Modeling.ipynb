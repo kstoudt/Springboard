{
 "cells": [
  {
   "cell_type": "markdown",
   "id": "2290b883",
   "metadata": {},
   "source": [
    "# **Diabetic Patient Readmission: Modeling**\n",
    "\n",
    "This dataset was analyzed by numerous Virginia Commonwealth University faculty in a recent research article which is accompanied by feature descriptions. These can be found at https://www.hindawi.com/journals/bmri/2014/781670/tab1/."
   ]
  },
  {
   "cell_type": "code",
   "execution_count": 1,
   "id": "439d816c",
   "metadata": {},
   "outputs": [],
   "source": [
    "#conda install -c conda-forge imbalanced-learn      https://imbalanced-learn.org/stable/references/index.html#api\n",
    "\n",
    "import os\n",
    "\n",
    "import warnings\n",
    "warnings.simplefilter(action='ignore', category=FutureWarning)\n",
    "warnings.simplefilter(action='ignore', category=UserWarning)\n",
    "\n",
    "import numpy as np\n",
    "import pandas as pd\n",
    "\n",
    "import matplotlib.pyplot as plt\n",
    "import seaborn as sns\n",
    "\n",
    "from sklearn.pipeline import Pipeline\n",
    "\n",
    "from sklearn.model_selection import train_test_split, cross_validate, RandomizedSearchCV\n",
    "\n",
    "from sklearn.preprocessing import StandardScaler\n",
    "\n",
    "from sklearn.neighbors import KNeighborsClassifier\n",
    "from sklearn.ensemble import RandomForestClassifier\n",
    "import xgboost as xgb\n",
    "\n",
    "from sklearn.feature_selection import chi2\n",
    "from sklearn.metrics import classification_report, accuracy_score, roc_auc_score, plot_roc_curve, roc_curve\n",
    "\n",
    "from timeit import default_timer as timer\n",
    "\n",
    "np.random.seed(42)"
   ]
  },
  {
   "cell_type": "code",
   "execution_count": 2,
   "id": "26e710e6",
   "metadata": {},
   "outputs": [
    {
     "data": {
      "text/html": [
       "<div>\n",
       "<style scoped>\n",
       "    .dataframe tbody tr th:only-of-type {\n",
       "        vertical-align: middle;\n",
       "    }\n",
       "\n",
       "    .dataframe tbody tr th {\n",
       "        vertical-align: top;\n",
       "    }\n",
       "\n",
       "    .dataframe thead th {\n",
       "        text-align: right;\n",
       "    }\n",
       "</style>\n",
       "<table border=\"1\" class=\"dataframe\">\n",
       "  <thead>\n",
       "    <tr style=\"text-align: right;\">\n",
       "      <th></th>\n",
       "      <th>encounter_id</th>\n",
       "      <th>patient_nbr</th>\n",
       "      <th>race</th>\n",
       "      <th>gender</th>\n",
       "      <th>age</th>\n",
       "      <th>admission_type_id</th>\n",
       "      <th>discharge_disposition_id</th>\n",
       "      <th>admission_source_id</th>\n",
       "      <th>time_in_hospital</th>\n",
       "      <th>medical_specialty</th>\n",
       "      <th>...</th>\n",
       "      <th>tolazamide</th>\n",
       "      <th>insulin</th>\n",
       "      <th>glyburide-metformin</th>\n",
       "      <th>glipizide-metformin</th>\n",
       "      <th>glimepiride-pioglitazone</th>\n",
       "      <th>metformin-rosiglitazone</th>\n",
       "      <th>metformin-pioglitazone</th>\n",
       "      <th>change</th>\n",
       "      <th>diabetesMed</th>\n",
       "      <th>readmitted</th>\n",
       "    </tr>\n",
       "  </thead>\n",
       "  <tbody>\n",
       "    <tr>\n",
       "      <th>0</th>\n",
       "      <td>2278392</td>\n",
       "      <td>8222157</td>\n",
       "      <td>Caucasian</td>\n",
       "      <td>Female</td>\n",
       "      <td>[0-10)</td>\n",
       "      <td>6</td>\n",
       "      <td>25</td>\n",
       "      <td>1</td>\n",
       "      <td>1</td>\n",
       "      <td>Pediatrics-Endocrinology</td>\n",
       "      <td>...</td>\n",
       "      <td>No</td>\n",
       "      <td>No</td>\n",
       "      <td>No</td>\n",
       "      <td>No</td>\n",
       "      <td>No</td>\n",
       "      <td>No</td>\n",
       "      <td>No</td>\n",
       "      <td>No</td>\n",
       "      <td>No</td>\n",
       "      <td>Other</td>\n",
       "    </tr>\n",
       "    <tr>\n",
       "      <th>1</th>\n",
       "      <td>149190</td>\n",
       "      <td>55629189</td>\n",
       "      <td>Caucasian</td>\n",
       "      <td>Female</td>\n",
       "      <td>[10-20)</td>\n",
       "      <td>1</td>\n",
       "      <td>1</td>\n",
       "      <td>7</td>\n",
       "      <td>3</td>\n",
       "      <td>missing</td>\n",
       "      <td>...</td>\n",
       "      <td>No</td>\n",
       "      <td>Up</td>\n",
       "      <td>No</td>\n",
       "      <td>No</td>\n",
       "      <td>No</td>\n",
       "      <td>No</td>\n",
       "      <td>No</td>\n",
       "      <td>Ch</td>\n",
       "      <td>Yes</td>\n",
       "      <td>Other</td>\n",
       "    </tr>\n",
       "    <tr>\n",
       "      <th>2</th>\n",
       "      <td>500364</td>\n",
       "      <td>82442376</td>\n",
       "      <td>Caucasian</td>\n",
       "      <td>Male</td>\n",
       "      <td>[30-40)</td>\n",
       "      <td>1</td>\n",
       "      <td>1</td>\n",
       "      <td>7</td>\n",
       "      <td>2</td>\n",
       "      <td>missing</td>\n",
       "      <td>...</td>\n",
       "      <td>No</td>\n",
       "      <td>Up</td>\n",
       "      <td>No</td>\n",
       "      <td>No</td>\n",
       "      <td>No</td>\n",
       "      <td>No</td>\n",
       "      <td>No</td>\n",
       "      <td>Ch</td>\n",
       "      <td>Yes</td>\n",
       "      <td>Other</td>\n",
       "    </tr>\n",
       "    <tr>\n",
       "      <th>3</th>\n",
       "      <td>16680</td>\n",
       "      <td>42519267</td>\n",
       "      <td>Caucasian</td>\n",
       "      <td>Male</td>\n",
       "      <td>[40-50)</td>\n",
       "      <td>1</td>\n",
       "      <td>1</td>\n",
       "      <td>7</td>\n",
       "      <td>1</td>\n",
       "      <td>missing</td>\n",
       "      <td>...</td>\n",
       "      <td>No</td>\n",
       "      <td>Steady</td>\n",
       "      <td>No</td>\n",
       "      <td>No</td>\n",
       "      <td>No</td>\n",
       "      <td>No</td>\n",
       "      <td>No</td>\n",
       "      <td>Ch</td>\n",
       "      <td>Yes</td>\n",
       "      <td>Other</td>\n",
       "    </tr>\n",
       "    <tr>\n",
       "      <th>4</th>\n",
       "      <td>35754</td>\n",
       "      <td>82637451</td>\n",
       "      <td>Caucasian</td>\n",
       "      <td>Male</td>\n",
       "      <td>[50-60)</td>\n",
       "      <td>2</td>\n",
       "      <td>1</td>\n",
       "      <td>2</td>\n",
       "      <td>3</td>\n",
       "      <td>missing</td>\n",
       "      <td>...</td>\n",
       "      <td>No</td>\n",
       "      <td>Steady</td>\n",
       "      <td>No</td>\n",
       "      <td>No</td>\n",
       "      <td>No</td>\n",
       "      <td>No</td>\n",
       "      <td>No</td>\n",
       "      <td>No</td>\n",
       "      <td>Yes</td>\n",
       "      <td>Other</td>\n",
       "    </tr>\n",
       "  </tbody>\n",
       "</table>\n",
       "<p>5 rows × 45 columns</p>\n",
       "</div>"
      ],
      "text/plain": [
       "   encounter_id  patient_nbr       race  gender      age  admission_type_id  \\\n",
       "0       2278392      8222157  Caucasian  Female   [0-10)                  6   \n",
       "1        149190     55629189  Caucasian  Female  [10-20)                  1   \n",
       "2        500364     82442376  Caucasian    Male  [30-40)                  1   \n",
       "3         16680     42519267  Caucasian    Male  [40-50)                  1   \n",
       "4         35754     82637451  Caucasian    Male  [50-60)                  2   \n",
       "\n",
       "   discharge_disposition_id  admission_source_id  time_in_hospital  \\\n",
       "0                        25                    1                 1   \n",
       "1                         1                    7                 3   \n",
       "2                         1                    7                 2   \n",
       "3                         1                    7                 1   \n",
       "4                         1                    2                 3   \n",
       "\n",
       "          medical_specialty  ...  tolazamide  insulin  glyburide-metformin  \\\n",
       "0  Pediatrics-Endocrinology  ...          No       No                   No   \n",
       "1                   missing  ...          No       Up                   No   \n",
       "2                   missing  ...          No       Up                   No   \n",
       "3                   missing  ...          No   Steady                   No   \n",
       "4                   missing  ...          No   Steady                   No   \n",
       "\n",
       "   glipizide-metformin  glimepiride-pioglitazone metformin-rosiglitazone  \\\n",
       "0                   No                        No                      No   \n",
       "1                   No                        No                      No   \n",
       "2                   No                        No                      No   \n",
       "3                   No                        No                      No   \n",
       "4                   No                        No                      No   \n",
       "\n",
       "  metformin-pioglitazone change  diabetesMed readmitted  \n",
       "0                     No     No           No      Other  \n",
       "1                     No     Ch          Yes      Other  \n",
       "2                     No     Ch          Yes      Other  \n",
       "3                     No     Ch          Yes      Other  \n",
       "4                     No     No          Yes      Other  \n",
       "\n",
       "[5 rows x 45 columns]"
      ]
     },
     "execution_count": 2,
     "metadata": {},
     "output_type": "execute_result"
    }
   ],
   "source": [
    "df1 = pd.read_csv(\"clean_data2.csv\")\n",
    "df1.head()"
   ]
  },
  {
   "cell_type": "code",
   "execution_count": 3,
   "id": "26f17e7c",
   "metadata": {},
   "outputs": [
    {
     "name": "stdout",
     "output_type": "stream",
     "text": [
      "Percent \"other\" in \"readmitted\": 91.579\n"
     ]
    }
   ],
   "source": [
    "print('Percent \"other\" in \"readmitted\":',100 * round(1-(df1['readmitted'].value_counts()[1] / \n",
    "                                                        df1['readmitted'].value_counts().sum()), 5))"
   ]
  },
  {
   "cell_type": "markdown",
   "id": "ed079062",
   "metadata": {},
   "source": [
    "# Pre-processing:"
   ]
  },
  {
   "cell_type": "code",
   "execution_count": 4,
   "id": "0e2ff79f",
   "metadata": {},
   "outputs": [],
   "source": [
    "df1 = df1.drop(columns=['encounter_id','patient_nbr'])    #irrelevant for modeling"
   ]
  },
  {
   "cell_type": "code",
   "execution_count": 5,
   "id": "ad1dad74",
   "metadata": {},
   "outputs": [
    {
     "data": {
      "text/plain": [
       "((64781, 42), (64781,))"
      ]
     },
     "execution_count": 5,
     "metadata": {},
     "output_type": "execute_result"
    }
   ],
   "source": [
    "X = df1.drop(columns=['readmitted'])\n",
    "y = df1[['readmitted']].values.ravel()\n",
    "X.shape, y.shape"
   ]
  },
  {
   "cell_type": "code",
   "execution_count": 6,
   "id": "f5339212",
   "metadata": {
    "scrolled": true
   },
   "outputs": [
    {
     "data": {
      "text/html": [
       "<div>\n",
       "<style scoped>\n",
       "    .dataframe tbody tr th:only-of-type {\n",
       "        vertical-align: middle;\n",
       "    }\n",
       "\n",
       "    .dataframe tbody tr th {\n",
       "        vertical-align: top;\n",
       "    }\n",
       "\n",
       "    .dataframe thead th {\n",
       "        text-align: right;\n",
       "    }\n",
       "</style>\n",
       "<table border=\"1\" class=\"dataframe\">\n",
       "  <thead>\n",
       "    <tr style=\"text-align: right;\">\n",
       "      <th></th>\n",
       "      <th>admission_type_id</th>\n",
       "      <th>discharge_disposition_id</th>\n",
       "      <th>admission_source_id</th>\n",
       "      <th>time_in_hospital</th>\n",
       "      <th>num_lab_procedures</th>\n",
       "      <th>num_procedures</th>\n",
       "      <th>num_medications</th>\n",
       "      <th>number_outpatient</th>\n",
       "      <th>number_emergency</th>\n",
       "      <th>number_diagnoses</th>\n",
       "      <th>...</th>\n",
       "      <th>insulin_Steady</th>\n",
       "      <th>insulin_Up</th>\n",
       "      <th>glyburide-metformin_No</th>\n",
       "      <th>glyburide-metformin_Steady</th>\n",
       "      <th>glyburide-metformin_Up</th>\n",
       "      <th>glipizide-metformin_Steady</th>\n",
       "      <th>metformin-rosiglitazone_Steady</th>\n",
       "      <th>metformin-pioglitazone_Steady</th>\n",
       "      <th>change_No</th>\n",
       "      <th>diabetesMed_Yes</th>\n",
       "    </tr>\n",
       "  </thead>\n",
       "  <tbody>\n",
       "    <tr>\n",
       "      <th>0</th>\n",
       "      <td>6</td>\n",
       "      <td>25</td>\n",
       "      <td>1</td>\n",
       "      <td>1</td>\n",
       "      <td>41</td>\n",
       "      <td>0</td>\n",
       "      <td>1</td>\n",
       "      <td>0</td>\n",
       "      <td>0</td>\n",
       "      <td>1</td>\n",
       "      <td>...</td>\n",
       "      <td>0</td>\n",
       "      <td>0</td>\n",
       "      <td>1</td>\n",
       "      <td>0</td>\n",
       "      <td>0</td>\n",
       "      <td>0</td>\n",
       "      <td>0</td>\n",
       "      <td>0</td>\n",
       "      <td>1</td>\n",
       "      <td>0</td>\n",
       "    </tr>\n",
       "    <tr>\n",
       "      <th>1</th>\n",
       "      <td>1</td>\n",
       "      <td>1</td>\n",
       "      <td>7</td>\n",
       "      <td>3</td>\n",
       "      <td>59</td>\n",
       "      <td>0</td>\n",
       "      <td>18</td>\n",
       "      <td>0</td>\n",
       "      <td>0</td>\n",
       "      <td>9</td>\n",
       "      <td>...</td>\n",
       "      <td>0</td>\n",
       "      <td>1</td>\n",
       "      <td>1</td>\n",
       "      <td>0</td>\n",
       "      <td>0</td>\n",
       "      <td>0</td>\n",
       "      <td>0</td>\n",
       "      <td>0</td>\n",
       "      <td>0</td>\n",
       "      <td>1</td>\n",
       "    </tr>\n",
       "    <tr>\n",
       "      <th>2</th>\n",
       "      <td>1</td>\n",
       "      <td>1</td>\n",
       "      <td>7</td>\n",
       "      <td>2</td>\n",
       "      <td>44</td>\n",
       "      <td>1</td>\n",
       "      <td>16</td>\n",
       "      <td>0</td>\n",
       "      <td>0</td>\n",
       "      <td>7</td>\n",
       "      <td>...</td>\n",
       "      <td>0</td>\n",
       "      <td>1</td>\n",
       "      <td>1</td>\n",
       "      <td>0</td>\n",
       "      <td>0</td>\n",
       "      <td>0</td>\n",
       "      <td>0</td>\n",
       "      <td>0</td>\n",
       "      <td>0</td>\n",
       "      <td>1</td>\n",
       "    </tr>\n",
       "    <tr>\n",
       "      <th>3</th>\n",
       "      <td>1</td>\n",
       "      <td>1</td>\n",
       "      <td>7</td>\n",
       "      <td>1</td>\n",
       "      <td>51</td>\n",
       "      <td>0</td>\n",
       "      <td>8</td>\n",
       "      <td>0</td>\n",
       "      <td>0</td>\n",
       "      <td>5</td>\n",
       "      <td>...</td>\n",
       "      <td>1</td>\n",
       "      <td>0</td>\n",
       "      <td>1</td>\n",
       "      <td>0</td>\n",
       "      <td>0</td>\n",
       "      <td>0</td>\n",
       "      <td>0</td>\n",
       "      <td>0</td>\n",
       "      <td>0</td>\n",
       "      <td>1</td>\n",
       "    </tr>\n",
       "    <tr>\n",
       "      <th>4</th>\n",
       "      <td>2</td>\n",
       "      <td>1</td>\n",
       "      <td>2</td>\n",
       "      <td>3</td>\n",
       "      <td>31</td>\n",
       "      <td>6</td>\n",
       "      <td>16</td>\n",
       "      <td>0</td>\n",
       "      <td>0</td>\n",
       "      <td>9</td>\n",
       "      <td>...</td>\n",
       "      <td>1</td>\n",
       "      <td>0</td>\n",
       "      <td>1</td>\n",
       "      <td>0</td>\n",
       "      <td>0</td>\n",
       "      <td>0</td>\n",
       "      <td>0</td>\n",
       "      <td>0</td>\n",
       "      <td>1</td>\n",
       "      <td>1</td>\n",
       "    </tr>\n",
       "  </tbody>\n",
       "</table>\n",
       "<p>5 rows × 2298 columns</p>\n",
       "</div>"
      ],
      "text/plain": [
       "   admission_type_id  discharge_disposition_id  admission_source_id  \\\n",
       "0                  6                        25                    1   \n",
       "1                  1                         1                    7   \n",
       "2                  1                         1                    7   \n",
       "3                  1                         1                    7   \n",
       "4                  2                         1                    2   \n",
       "\n",
       "   time_in_hospital  num_lab_procedures  num_procedures  num_medications  \\\n",
       "0                 1                  41               0                1   \n",
       "1                 3                  59               0               18   \n",
       "2                 2                  44               1               16   \n",
       "3                 1                  51               0                8   \n",
       "4                 3                  31               6               16   \n",
       "\n",
       "   number_outpatient  number_emergency  number_diagnoses  ...  insulin_Steady  \\\n",
       "0                  0                 0                 1  ...               0   \n",
       "1                  0                 0                 9  ...               0   \n",
       "2                  0                 0                 7  ...               0   \n",
       "3                  0                 0                 5  ...               1   \n",
       "4                  0                 0                 9  ...               1   \n",
       "\n",
       "   insulin_Up  glyburide-metformin_No  glyburide-metformin_Steady  \\\n",
       "0           0                       1                           0   \n",
       "1           1                       1                           0   \n",
       "2           1                       1                           0   \n",
       "3           0                       1                           0   \n",
       "4           0                       1                           0   \n",
       "\n",
       "   glyburide-metformin_Up  glipizide-metformin_Steady  \\\n",
       "0                       0                           0   \n",
       "1                       0                           0   \n",
       "2                       0                           0   \n",
       "3                       0                           0   \n",
       "4                       0                           0   \n",
       "\n",
       "   metformin-rosiglitazone_Steady  metformin-pioglitazone_Steady  change_No  \\\n",
       "0                               0                              0          1   \n",
       "1                               0                              0          0   \n",
       "2                               0                              0          0   \n",
       "3                               0                              0          0   \n",
       "4                               0                              0          1   \n",
       "\n",
       "   diabetesMed_Yes  \n",
       "0                0  \n",
       "1                1  \n",
       "2                1  \n",
       "3                1  \n",
       "4                1  \n",
       "\n",
       "[5 rows x 2298 columns]"
      ]
     },
     "execution_count": 6,
     "metadata": {},
     "output_type": "execute_result"
    }
   ],
   "source": [
    "X = pd.get_dummies(X, drop_first=True)\n",
    "X.head()"
   ]
  },
  {
   "cell_type": "code",
   "execution_count": 7,
   "id": "35acadf9",
   "metadata": {
    "scrolled": true
   },
   "outputs": [],
   "source": [
    "scaler = StandardScaler()\n",
    "X_scaled = scaler.fit_transform(X)"
   ]
  },
  {
   "cell_type": "markdown",
   "id": "5fd2db68",
   "metadata": {},
   "source": [
    "# Train-test split:"
   ]
  },
  {
   "cell_type": "code",
   "execution_count": 8,
   "id": "716c6521",
   "metadata": {},
   "outputs": [],
   "source": [
    "# Split the data into train and test sets\n",
    "X_train, X_test, y_train, y_test = train_test_split(X_scaled, y, test_size = 0.25, random_state=42)"
   ]
  },
  {
   "cell_type": "code",
   "execution_count": 9,
   "id": "1c57b4f2",
   "metadata": {},
   "outputs": [
    {
     "name": "stdout",
     "output_type": "stream",
     "text": [
      "(48585, 2298) (16196, 2298) (48585,) (16196,)\n"
     ]
    }
   ],
   "source": [
    "print(X_train.shape, X_test.shape, y_train.shape, y_test.shape)"
   ]
  },
  {
   "cell_type": "code",
   "execution_count": 10,
   "id": "83128a06",
   "metadata": {},
   "outputs": [
    {
     "name": "stdout",
     "output_type": "stream",
     "text": [
      "Percent \"other\" in \"readmitted\" of y_train: 91.598\n"
     ]
    }
   ],
   "source": [
    "print('Percent \"other\" in \"readmitted\" of y_train:', 100*(round(1-(pd.DataFrame(y_train).value_counts()[1] / \n",
    "                                                        pd.DataFrame(y_train).value_counts().sum()), 5)))"
   ]
  },
  {
   "cell_type": "code",
   "execution_count": 11,
   "id": "26f9efe6",
   "metadata": {},
   "outputs": [
    {
     "data": {
      "text/plain": [
       "Other    44503\n",
       "<30       4082\n",
       "dtype: int64"
      ]
     },
     "execution_count": 11,
     "metadata": {},
     "output_type": "execute_result"
    }
   ],
   "source": [
    "y_test_df = pd.DataFrame(y_train)\n",
    "y_test_df.value_counts()"
   ]
  },
  {
   "cell_type": "code",
   "execution_count": 12,
   "id": "33bc3821",
   "metadata": {},
   "outputs": [
    {
     "name": "stdout",
     "output_type": "stream",
     "text": [
      "10.9\n"
     ]
    }
   ],
   "source": [
    "scale_pos_weight = round(44503/4082,2)\n",
    "print(scale_pos_weight)"
   ]
  },
  {
   "cell_type": "markdown",
   "id": "00a55483",
   "metadata": {},
   "source": [
    "The above will be useful to know for future model evalutaion and some tuning."
   ]
  },
  {
   "cell_type": "markdown",
   "id": "0186a7b9",
   "metadata": {},
   "source": [
    "# Model Tuning and Evaluation:"
   ]
  },
  {
   "cell_type": "markdown",
   "id": "5dc900ef",
   "metadata": {},
   "source": [
    "**K-Nearest Neighbors:**"
   ]
  },
  {
   "cell_type": "code",
   "execution_count": 11,
   "id": "04662b85",
   "metadata": {
    "scrolled": true
   },
   "outputs": [],
   "source": [
    "knn = KNeighborsClassifier()\n",
    "\n",
    "param_dist = {'n_neighbors': np.arange(1,40),\n",
    "              'leaf_size': np.arange(1,50),\n",
    "              'p': [1,2]}\n",
    "\n",
    "knn_cv = RandomizedSearchCV(knn, param_dist, cv=5, verbose=2, n_jobs=-1)"
   ]
  },
  {
   "cell_type": "code",
   "execution_count": 12,
   "id": "aedae487",
   "metadata": {},
   "outputs": [
    {
     "name": "stdout",
     "output_type": "stream",
     "text": [
      "Fitting 5 folds for each of 10 candidates, totalling 50 fits\n",
      "8949 seconds elapsed.\n"
     ]
    }
   ],
   "source": [
    "start = timer()\n",
    "\n",
    "knn_cv = knn_cv.fit(X_train, y_train)\n",
    "\n",
    "end = timer()\n",
    "print(f'{round(end - start)} seconds elapsed.')"
   ]
  },
  {
   "cell_type": "code",
   "execution_count": 13,
   "id": "722498d6",
   "metadata": {},
   "outputs": [
    {
     "name": "stdout",
     "output_type": "stream",
     "text": [
      "Best Score:0.9159822990634969\n",
      "Best Parameters: {'p': 1, 'n_neighbors': 28, 'leaf_size': 41}\n"
     ]
    }
   ],
   "source": [
    "print(\"Best Score:\" + str(knn_cv.best_score_))\n",
    "print(\"Best Parameters: \" + str(knn_cv.best_params_))"
   ]
  },
  {
   "cell_type": "code",
   "execution_count": 11,
   "id": "d37de9ef",
   "metadata": {},
   "outputs": [],
   "source": [
    "params = {'p': 1, 'n_neighbors': 28, 'leaf_size': 41}\n",
    "best_knn = KNeighborsClassifier(**params, n_jobs=-1) # ** unpacks dict values to function arguments"
   ]
  },
  {
   "cell_type": "code",
   "execution_count": 13,
   "id": "054c9675",
   "metadata": {},
   "outputs": [
    {
     "name": "stdout",
     "output_type": "stream",
     "text": [
      "Training Accuracy: 0.9159822990634969\n",
      "1514 seconds elapsed.\n"
     ]
    }
   ],
   "source": [
    "start = timer()\n",
    "\n",
    "best_knn = best_knn.fit(X_train, y_train)\n",
    "\n",
    "print('Training Accuracy:', best_knn.score(X_train, y_train))\n",
    "\n",
    "end = timer()\n",
    "print(f'{round(end-start)} seconds elapsed.')"
   ]
  },
  {
   "cell_type": "markdown",
   "id": "fe9c9115",
   "metadata": {},
   "source": [
    "91.598 percent accurate is mediocre in light of the fact that an estimator which simply predicts 'other' every time would achieve the same score on the training data."
   ]
  },
  {
   "cell_type": "code",
   "execution_count": 14,
   "id": "d70d17f4",
   "metadata": {},
   "outputs": [
    {
     "name": "stdout",
     "output_type": "stream",
     "text": [
      "              precision    recall  f1-score   support\n",
      "\n",
      "         <30       0.00      0.00      0.00      1373\n",
      "       Other       0.92      1.00      0.96     14823\n",
      "\n",
      "    accuracy                           0.92     16196\n",
      "   macro avg       0.46      0.50      0.48     16196\n",
      "weighted avg       0.84      0.92      0.87     16196\n",
      "\n"
     ]
    }
   ],
   "source": [
    "y_pred = best_knn.predict(X_test)\n",
    "print(classification_report(y_test, y_pred, labels=best_knn.classes_))"
   ]
  },
  {
   "cell_type": "code",
   "execution_count": 35,
   "id": "b777e116",
   "metadata": {},
   "outputs": [
    {
     "name": "stdout",
     "output_type": "stream",
     "text": [
      "Train AUC: 0.721088731825609\n",
      "Test AUC: 0.5706338926548618\n"
     ]
    }
   ],
   "source": [
    "auc_score_tr = roc_auc_score(y_train, best_knn.predict_proba(X_train)[:,1])\n",
    "auc_score_te = roc_auc_score(y_test, best_knn.predict_proba(X_test)[:,1])\n",
    "\n",
    "print('Train AUC:', auc_score_tr)\n",
    "print('Test AUC:', auc_score_te)"
   ]
  },
  {
   "cell_type": "markdown",
   "id": "b7e3ba90",
   "metadata": {},
   "source": [
    "Not the best AUC from the K-Nearest Neighbors model."
   ]
  },
  {
   "cell_type": "markdown",
   "id": "49f4ffe3",
   "metadata": {},
   "source": [
    "**Random Forest:**"
   ]
  },
  {
   "cell_type": "code",
   "execution_count": 14,
   "id": "87fe93a2",
   "metadata": {},
   "outputs": [],
   "source": [
    "max_depth = np.arange(10, 100, 10)\n",
    "max_depth = np.append(max_depth, None)\n",
    "\n",
    "rfclf = RandomForestClassifier(class_weight='balanced')\n",
    "\n",
    "param_dist = {'max_depth': max_depth, 'n_estimators': np.arange(200, 2000, 200)}\n",
    "\n",
    "rfclf_cv = RandomizedSearchCV(rfclf, param_dist, cv=5, verbose=2, n_jobs=-1)"
   ]
  },
  {
   "cell_type": "code",
   "execution_count": 15,
   "id": "f281cb65",
   "metadata": {},
   "outputs": [
    {
     "name": "stdout",
     "output_type": "stream",
     "text": [
      "Fitting 5 folds for each of 10 candidates, totalling 50 fits\n",
      "15801 seconds elapsed.\n"
     ]
    }
   ],
   "source": [
    "start = timer()\n",
    "\n",
    "rfclf_cv = rfclf_cv.fit(X_train, y_train)\n",
    "\n",
    "end = timer()\n",
    "print(f'{round(end - start)} seconds elapsed.')"
   ]
  },
  {
   "cell_type": "code",
   "execution_count": 16,
   "id": "587764d8",
   "metadata": {},
   "outputs": [
    {
     "name": "stdout",
     "output_type": "stream",
     "text": [
      "Best Score:0.9159822990634969\n",
      "Best Parameters: {'n_estimators': 1800, 'max_depth': 90}\n"
     ]
    }
   ],
   "source": [
    "print(\"Best Score:\" + str(rfclf_cv.best_score_))\n",
    "print(\"Best Parameters: \" + str(rfclf_cv.best_params_))"
   ]
  },
  {
   "cell_type": "markdown",
   "id": "ed0e9ccc",
   "metadata": {},
   "source": [
    "The best Random Forest Classifier to come out of RandomizedSearchCV seems to be overfitting"
   ]
  },
  {
   "cell_type": "code",
   "execution_count": 16,
   "id": "965b4eba",
   "metadata": {},
   "outputs": [],
   "source": [
    "params = {'n_estimators': 1800, 'max_depth': 90, 'class_weight':'balanced'}\n",
    "best_rf = RandomForestClassifier(**params, n_jobs=-1)"
   ]
  },
  {
   "cell_type": "code",
   "execution_count": 17,
   "id": "e68e9463",
   "metadata": {},
   "outputs": [
    {
     "name": "stdout",
     "output_type": "stream",
     "text": [
      "Training Accuracy: 1.0\n",
      "517 seconds elapsed.\n"
     ]
    }
   ],
   "source": [
    "start = timer()\n",
    "\n",
    "best_rf = best_rf.fit(X_train, y_train)\n",
    "\n",
    "print('Training Accuracy:', best_rf.score(X_train, y_train))\n",
    "\n",
    "end = timer()\n",
    "print(f'{round(end-start)} seconds elapsed.')"
   ]
  },
  {
   "cell_type": "code",
   "execution_count": 18,
   "id": "ec6ac200",
   "metadata": {},
   "outputs": [
    {
     "name": "stdout",
     "output_type": "stream",
     "text": [
      "              precision    recall  f1-score   support\n",
      "\n",
      "         <30       0.00      0.00      0.00      1373\n",
      "       Other       0.92      1.00      0.96     14823\n",
      "\n",
      "    accuracy                           0.92     16196\n",
      "   macro avg       0.46      0.50      0.48     16196\n",
      "weighted avg       0.84      0.92      0.87     16196\n",
      "\n"
     ]
    }
   ],
   "source": [
    "y_pred = best_rf.predict(X_test)\n",
    "print(classification_report(y_test, y_pred, labels=best_rf.classes_))"
   ]
  },
  {
   "cell_type": "code",
   "execution_count": 37,
   "id": "23e60242",
   "metadata": {},
   "outputs": [
    {
     "name": "stdout",
     "output_type": "stream",
     "text": [
      "Train AUC: 1.0\n",
      "Test AUC: 0.6291421586077698\n"
     ]
    }
   ],
   "source": [
    "auc_score_tr = roc_auc_score(y_train, best_rf.predict_proba(X_train)[:,1])\n",
    "auc_score_te = roc_auc_score(y_test, best_rf.predict_proba(X_test)[:,1])\n",
    "\n",
    "print('Train AUC:', auc_score_tr)\n",
    "print('Test AUC:', auc_score_te)"
   ]
  },
  {
   "cell_type": "markdown",
   "id": "44db543d",
   "metadata": {},
   "source": [
    "The roughly-tuned Random Forest classifier is very overfit to the training data, but is still managing a better AUC on the test data than the K-Nearest Neighbors model.\n",
    "<br><br>\n",
    "Unfortunately, neither of these two inital models seem to be doing a great job of identifying the patterns that constitute our positive class."
   ]
  },
  {
   "cell_type": "markdown",
   "id": "2569eccc",
   "metadata": {},
   "source": [
    "**XGBoost:**"
   ]
  },
  {
   "cell_type": "code",
   "execution_count": 13,
   "id": "c031210a",
   "metadata": {},
   "outputs": [],
   "source": [
    "xgbclf = xgb.XGBClassifier(objective='binary:logistic')\n",
    "\n",
    "param_dist = {'learning_rate': np.arange(0.0, 1.0, 0.1),\n",
    "              'n_estimators': np.arange(100, 1000, 100),\n",
    "              'max_depth': np.arange(3, 15, 2),\n",
    "              'scale_pos_weight': np.arange(8.0, 11.0, 0.5)}\n",
    "\n",
    "xgbclf_cv = RandomizedSearchCV(xgbclf, param_dist, cv=5, verbose=2, n_jobs=-1)"
   ]
  },
  {
   "cell_type": "markdown",
   "id": "aa5a26b2",
   "metadata": {},
   "source": [
    "Note: scale_pos_weight argument balances class weights and is = # of neg observations / # of pos observations"
   ]
  },
  {
   "cell_type": "code",
   "execution_count": 14,
   "id": "8c8b4319",
   "metadata": {},
   "outputs": [
    {
     "name": "stdout",
     "output_type": "stream",
     "text": [
      "Fitting 5 folds for each of 10 candidates, totalling 50 fits\n",
      "[08:18:37] WARNING: ..\\src\\learner.cc:1115: Starting in XGBoost 1.3.0, the default evaluation metric used with the objective 'binary:logistic' was changed from 'error' to 'logloss'. Explicitly set eval_metric if you'd like to restore the old behavior.\n",
      "27752 seconds elapsed.\n"
     ]
    }
   ],
   "source": [
    "start = timer()\n",
    "\n",
    "xgbclf_cv = xgbclf_cv.fit(X_train, y_train)\n",
    "\n",
    "end = timer()\n",
    "print(f'{round(end - start)} seconds elapsed.')"
   ]
  },
  {
   "cell_type": "code",
   "execution_count": 15,
   "id": "584dd246",
   "metadata": {},
   "outputs": [
    {
     "name": "stdout",
     "output_type": "stream",
     "text": [
      "Best Score:0.9160028815478028\n",
      "Best Parameters: {'scale_pos_weight': 10.0, 'n_estimators': 600, 'max_depth': 7, 'learning_rate': 0.1}\n"
     ]
    }
   ],
   "source": [
    "print(\"Best Score:\" + str(xgbclf_cv.best_score_))\n",
    "print(\"Best Parameters: \" + str(xgbclf_cv.best_params_))"
   ]
  },
  {
   "cell_type": "code",
   "execution_count": 16,
   "id": "98d486ec",
   "metadata": {},
   "outputs": [],
   "source": [
    "params = xgbclf_cv.best_params_\n",
    "best_xgb = xgb.XGBClassifier(**params, objective='binary:logistic', n_jobs=-1)"
   ]
  },
  {
   "cell_type": "code",
   "execution_count": 17,
   "id": "6efe47b3",
   "metadata": {},
   "outputs": [
    {
     "name": "stdout",
     "output_type": "stream",
     "text": [
      "[08:27:07] WARNING: ..\\src\\learner.cc:1115: Starting in XGBoost 1.3.0, the default evaluation metric used with the objective 'binary:logistic' was changed from 'error' to 'logloss'. Explicitly set eval_metric if you'd like to restore the old behavior.\n",
      "Training Accuracy: 0.9171143357003191\n",
      "510 seconds elapsed.\n"
     ]
    }
   ],
   "source": [
    "start = timer()\n",
    "\n",
    "best_xgb = best_xgb.fit(X_train, y_train)\n",
    "\n",
    "print('Training Accuracy:', best_xgb.score(X_train, y_train))\n",
    "\n",
    "end = timer()\n",
    "print(f'{round(end-start)} seconds elapsed.')"
   ]
  },
  {
   "cell_type": "code",
   "execution_count": 18,
   "id": "c48412cb",
   "metadata": {},
   "outputs": [
    {
     "name": "stdout",
     "output_type": "stream",
     "text": [
      "              precision    recall  f1-score   support\n",
      "\n",
      "         <30       0.80      0.00      0.01      1373\n",
      "       Other       0.92      1.00      0.96     14823\n",
      "\n",
      "    accuracy                           0.92     16196\n",
      "   macro avg       0.86      0.50      0.48     16196\n",
      "weighted avg       0.91      0.92      0.88     16196\n",
      "\n"
     ]
    }
   ],
   "source": [
    "y_pred = best_xgb.predict(X_test)\n",
    "print(classification_report(y_test, y_pred, labels=best_xgb.classes_))"
   ]
  },
  {
   "cell_type": "markdown",
   "id": "8a435f22",
   "metadata": {},
   "source": [
    "Immediately the precision score on our target class is looking much better than with any other model. A non-zero f1-score is also promising."
   ]
  },
  {
   "cell_type": "code",
   "execution_count": 19,
   "id": "db710f65",
   "metadata": {},
   "outputs": [
    {
     "data": {
      "text/plain": [
       "array(['<30', 'Other'], dtype=object)"
      ]
     },
     "execution_count": 19,
     "metadata": {},
     "output_type": "execute_result"
    }
   ],
   "source": [
    "best_xgb.classes_"
   ]
  },
  {
   "cell_type": "code",
   "execution_count": 20,
   "id": "4f1e3ebf",
   "metadata": {},
   "outputs": [
    {
     "name": "stdout",
     "output_type": "stream",
     "text": [
      "Train AUC: 0.8822310345707967\n",
      "Test AUC: 0.630612113937421\n"
     ]
    }
   ],
   "source": [
    "auc_score_tr = roc_auc_score(y_train, best_xgb.predict_proba(X_train)[:,1])\n",
    "auc_score_te = roc_auc_score(y_test, best_xgb.predict_proba(X_test)[:,1])\n",
    "\n",
    "print('Train AUC:', auc_score_tr)\n",
    "print('Test AUC:', auc_score_te)"
   ]
  },
  {
   "cell_type": "code",
   "execution_count": 21,
   "id": "3a7be5c2",
   "metadata": {},
   "outputs": [
    {
     "name": "stdout",
     "output_type": "stream",
     "text": [
      "                                Features  Importance scores\n",
      "1019                          diag_2_413           0.007994\n",
      "210                         diag_1_250.6           0.004935\n",
      "1               discharge_disposition_id           0.004827\n",
      "1799                          diag_3_493           0.004763\n",
      "650                           diag_1_820           0.004735\n",
      "92    medical_specialty_Surgery-Vascular           0.004614\n",
      "1037                          diag_2_433           0.004503\n",
      "344                           diag_1_411           0.004444\n",
      "247                           diag_1_291           0.004409\n",
      "996                            diag_2_38           0.004126\n",
      "2009                          diag_3_788           0.004032\n",
      "457                           diag_1_552           0.003995\n",
      "1746                          diag_3_426           0.003953\n",
      "359                           diag_1_427           0.003922\n",
      "343                           diag_1_410           0.003854\n",
      "2128                          diag_3_996           0.003662\n",
      "233                           diag_1_276           0.003596\n",
      "1649                          diag_3_300           0.003594\n",
      "1089                          diag_2_496           0.003590\n",
      "1013                          diag_2_404           0.003577\n",
      "2270                        glipizide_Up           0.003528\n",
      "360                           diag_1_428           0.003519\n",
      "2257                      repaglinide_Up           0.003495\n",
      "643                           diag_1_812           0.003480\n",
      "1728                          diag_3_403           0.003453\n",
      "2007                          diag_3_786           0.003441\n",
      "581                           diag_1_715           0.003359\n",
      "465                           diag_1_564           0.003336\n",
      "33    medical_specialty_Emergency/Trauma           0.003317\n",
      "2255                      repaglinide_No           0.003308\n",
      "2256                  repaglinide_Steady           0.003290\n",
      "1846                          diag_3_560           0.003290\n",
      "464                           diag_1_562           0.003260\n",
      "1793                          diag_3_486           0.003250\n",
      "1748                          diag_3_428           0.003235\n",
      "1744                          diag_3_424           0.003206\n",
      "1134                          diag_2_560           0.003203\n",
      "1593                        diag_3_250.6           0.003201\n",
      "772                           diag_1_V57           0.003172\n",
      "2259                  nateglinide_Steady           0.003155\n",
      "1642                          diag_3_294           0.003142\n",
      "214                        diag_1_250.82           0.003142\n",
      "212                         diag_1_250.8           0.003128\n",
      "1156                          diag_2_585           0.003122\n",
      "25                          age_[90-100)           0.003111\n",
      "1042                          diag_2_438           0.003110\n",
      "1403                          diag_2_997           0.003080\n",
      "1281                          diag_2_789           0.003077\n",
      "1277                          diag_2_785           0.003074\n",
      "487                           diag_1_584           0.003057\n"
     ]
    }
   ],
   "source": [
    "features = X.keys()\n",
    "imp = list(best_xgb.feature_importances_)\n",
    "imp_df = pd.DataFrame((zip(features, imp)), columns =['Features', 'Importance scores'])\n",
    "imp_df = imp_df.sort_values('Importance scores', ascending=False)\n",
    "print(imp_df.head(50))"
   ]
  },
  {
   "cell_type": "markdown",
   "id": "8f882809",
   "metadata": {},
   "source": [
    "It makes sense to see discharge_disposition_id at the top of this table, as it is indicative of the state of a patient upon discharge.\n",
    "\n",
    "Diagnoses of 250.x indicate a diabetes-related diagnosis and so it makes sens to see many of these showing up here as well.\n",
    "\n",
    "It is also sensible to see the affiliated medical specialties of Surgery-Vascular and Emergency/Trauma.\n",
    "\n",
    "The medication Repaglinide also emerges as one of the more important factors. This, as well as the other present medications and ICD-9 codes, could be further discussed with domain experts to ensure the relative hierarchy of these features make sense."
   ]
  },
  {
   "cell_type": "code",
   "execution_count": 22,
   "id": "e7a379fa",
   "metadata": {},
   "outputs": [
    {
     "data": {
      "image/png": "[encoded data removed]",
      "text/plain": [
       "<Figure size 720x360 with 1 Axes>"
      ]
     },
     "metadata": {
      "needs_background": "light"
     },
     "output_type": "display_data"
    }
   ],
   "source": [
    "plt.figure(figsize=(10,5))\n",
    "_=plt.barh(imp_df['Features'].head(30), imp_df['Importance scores'].head(30), align='center', color='b')\n",
    "plt.xlabel('Relative Importance',fontsize=15)\n",
    "plt.ylabel('Features',fontsize=15)\n",
    "plt.title('Feature Importances for XGBClassifier',fontsize=15)\n",
    "plt.yticks(imp_df['Features'].head(30), imp_df['Features'].head(30).index)\n",
    "plt.show()"
   ]
  },
  {
   "cell_type": "code",
   "execution_count": 23,
   "id": "2831ec34",
   "metadata": {},
   "outputs": [
    {
     "data": {
      "text/plain": [
       "12.136096507310867"
      ]
     },
     "execution_count": 23,
     "metadata": {},
     "output_type": "execute_result"
    }
   ],
   "source": [
    "100*imp_df['Importance scores'].head(30).sum()"
   ]
  },
  {
   "cell_type": "code",
   "execution_count": 24,
   "id": "6f16e01b",
   "metadata": {},
   "outputs": [
    {
     "data": {
      "text/plain": [
       "1.3054830287206267"
      ]
     },
     "execution_count": 24,
     "metadata": {},
     "output_type": "execute_result"
    }
   ],
   "source": [
    "100*30/2298"
   ]
  },
  {
   "cell_type": "markdown",
   "id": "68b843ad",
   "metadata": {},
   "source": [
    "The above shows that the top 30 features explain 12.14% of the variance seen in the dataset, while making up only 1.31% of the total considered features. This shows a fair relationship to the top 30, but the model is definitely evaluating across *a lot* of features to attain a classification."
   ]
  },
  {
   "cell_type": "code",
   "execution_count": 25,
   "id": "1a763bff",
   "metadata": {
    "scrolled": true
   },
   "outputs": [
    {
     "data": {
      "image/png": "[encoded data removed]",
      "text/plain": [
       "<Figure size 432x288 with 1 Axes>"
      ]
     },
     "metadata": {
      "needs_background": "light"
     },
     "output_type": "display_data"
    }
   ],
   "source": [
    "_=plot_roc_curve(best_xgb, X_train, y_train, pos_label='<30')\n",
    "plt.plot([0, 1], [0, 1], 'k--', color='r')\n",
    "plt.show()"
   ]
  },
  {
   "cell_type": "markdown",
   "id": "f9494d5e",
   "metadata": {},
   "source": [
    "A decent AUC"
   ]
  },
  {
   "cell_type": "markdown",
   "id": "cdfb928e",
   "metadata": {},
   "source": [
    "**Thresholding the xgb classifier:**"
   ]
  },
  {
   "cell_type": "code",
   "execution_count": 26,
   "id": "6aa531dd",
   "metadata": {},
   "outputs": [
    {
     "name": "stdout",
     "output_type": "stream",
     "text": [
      "Best Threshold = 0.012019575\n",
      "OptTPR: 0.7760901518863302 OptFPR: 0.19364986630114825\n"
     ]
    }
   ],
   "source": [
    "# 2nd arg for roc_curve must be POSITIVE class probas\n",
    "fpr, tpr, thresholds = roc_curve(y_train, best_xgb.predict_proba(X_train)[:,0], pos_label='<30')\n",
    "gmean = np.sqrt(tpr * (1 - fpr))\n",
    "index = np.argmax(gmean)\n",
    "best_thresh = thresholds[index]\n",
    "print('Best Threshold =', best_thresh)\n",
    "print('OptTPR:',tpr[index],'OptFPR:',fpr[index])"
   ]
  },
  {
   "cell_type": "markdown",
   "id": "2b04a13a",
   "metadata": {},
   "source": [
    "A TPR of 0.776 and FPR of 0.194 is the most optimized result yet. The model is honing in on a better understanding of the target class."
   ]
  },
  {
   "cell_type": "code",
   "execution_count": 27,
   "id": "ddaf2da6",
   "metadata": {},
   "outputs": [
    {
     "data": {
      "text/html": [
       "<div>\n",
       "<style scoped>\n",
       "    .dataframe tbody tr th:only-of-type {\n",
       "        vertical-align: middle;\n",
       "    }\n",
       "\n",
       "    .dataframe tbody tr th {\n",
       "        vertical-align: top;\n",
       "    }\n",
       "\n",
       "    .dataframe thead th {\n",
       "        text-align: right;\n",
       "    }\n",
       "</style>\n",
       "<table border=\"1\" class=\"dataframe\">\n",
       "  <thead>\n",
       "    <tr style=\"text-align: right;\">\n",
       "      <th></th>\n",
       "      <th>fpr</th>\n",
       "      <th>tpr</th>\n",
       "      <th>threshold</th>\n",
       "      <th>gmean</th>\n",
       "    </tr>\n",
       "  </thead>\n",
       "  <tbody>\n",
       "    <tr>\n",
       "      <th>0</th>\n",
       "      <td>1.000000</td>\n",
       "      <td>1.000000</td>\n",
       "      <td>0.000145</td>\n",
       "      <td>0.000000</td>\n",
       "    </tr>\n",
       "    <tr>\n",
       "      <th>1</th>\n",
       "      <td>0.897647</td>\n",
       "      <td>1.000000</td>\n",
       "      <td>0.002994</td>\n",
       "      <td>0.319926</td>\n",
       "    </tr>\n",
       "    <tr>\n",
       "      <th>2</th>\n",
       "      <td>0.897760</td>\n",
       "      <td>1.000000</td>\n",
       "      <td>0.002992</td>\n",
       "      <td>0.319750</td>\n",
       "    </tr>\n",
       "    <tr>\n",
       "      <th>3</th>\n",
       "      <td>0.897805</td>\n",
       "      <td>1.000000</td>\n",
       "      <td>0.002992</td>\n",
       "      <td>0.319680</td>\n",
       "    </tr>\n",
       "    <tr>\n",
       "      <th>4</th>\n",
       "      <td>0.897827</td>\n",
       "      <td>1.000000</td>\n",
       "      <td>0.002991</td>\n",
       "      <td>0.319645</td>\n",
       "    </tr>\n",
       "    <tr>\n",
       "      <th>...</th>\n",
       "      <td>...</td>\n",
       "      <td>...</td>\n",
       "      <td>...</td>\n",
       "      <td>...</td>\n",
       "    </tr>\n",
       "    <tr>\n",
       "      <th>14356</th>\n",
       "      <td>0.000045</td>\n",
       "      <td>0.120284</td>\n",
       "      <td>0.118858</td>\n",
       "      <td>0.346812</td>\n",
       "    </tr>\n",
       "    <tr>\n",
       "      <th>14357</th>\n",
       "      <td>0.000000</td>\n",
       "      <td>0.115140</td>\n",
       "      <td>0.125090</td>\n",
       "      <td>0.339322</td>\n",
       "    </tr>\n",
       "    <tr>\n",
       "      <th>14358</th>\n",
       "      <td>0.000022</td>\n",
       "      <td>0.115140</td>\n",
       "      <td>0.124809</td>\n",
       "      <td>0.339319</td>\n",
       "    </tr>\n",
       "    <tr>\n",
       "      <th>14359</th>\n",
       "      <td>0.000000</td>\n",
       "      <td>0.000245</td>\n",
       "      <td>0.908958</td>\n",
       "      <td>0.015652</td>\n",
       "    </tr>\n",
       "    <tr>\n",
       "      <th>14360</th>\n",
       "      <td>0.000000</td>\n",
       "      <td>0.000000</td>\n",
       "      <td>1.908958</td>\n",
       "      <td>0.000000</td>\n",
       "    </tr>\n",
       "  </tbody>\n",
       "</table>\n",
       "<p>14361 rows × 4 columns</p>\n",
       "</div>"
      ],
      "text/plain": [
       "            fpr       tpr  threshold     gmean\n",
       "0      1.000000  1.000000   0.000145  0.000000\n",
       "1      0.897647  1.000000   0.002994  0.319926\n",
       "2      0.897760  1.000000   0.002992  0.319750\n",
       "3      0.897805  1.000000   0.002992  0.319680\n",
       "4      0.897827  1.000000   0.002991  0.319645\n",
       "...         ...       ...        ...       ...\n",
       "14356  0.000045  0.120284   0.118858  0.346812\n",
       "14357  0.000000  0.115140   0.125090  0.339322\n",
       "14358  0.000022  0.115140   0.124809  0.339319\n",
       "14359  0.000000  0.000245   0.908958  0.015652\n",
       "14360  0.000000  0.000000   1.908958  0.000000\n",
       "\n",
       "[14361 rows x 4 columns]"
      ]
     },
     "execution_count": 27,
     "metadata": {},
     "output_type": "execute_result"
    }
   ],
   "source": [
    "roc_data = pd.DataFrame(zip(fpr,tpr,thresholds,gmean),columns=['fpr','tpr','threshold','gmean'])\n",
    "roc_data = roc_data.sort_values('tpr', ascending=False).reset_index(drop=True)\n",
    "roc_data"
   ]
  },
  {
   "cell_type": "code",
   "execution_count": 28,
   "id": "224a415b",
   "metadata": {},
   "outputs": [
    {
     "data": {
      "text/plain": [
       "10625"
      ]
     },
     "execution_count": 28,
     "metadata": {},
     "output_type": "execute_result"
    }
   ],
   "source": [
    "np.argmax(roc_data.gmean)"
   ]
  },
  {
   "cell_type": "code",
   "execution_count": 29,
   "id": "93110f34",
   "metadata": {
    "scrolled": true
   },
   "outputs": [
    {
     "data": {
      "text/html": [
       "<div>\n",
       "<style scoped>\n",
       "    .dataframe tbody tr th:only-of-type {\n",
       "        vertical-align: middle;\n",
       "    }\n",
       "\n",
       "    .dataframe tbody tr th {\n",
       "        vertical-align: top;\n",
       "    }\n",
       "\n",
       "    .dataframe thead th {\n",
       "        text-align: right;\n",
       "    }\n",
       "</style>\n",
       "<table border=\"1\" class=\"dataframe\">\n",
       "  <thead>\n",
       "    <tr style=\"text-align: right;\">\n",
       "      <th></th>\n",
       "      <th>fpr</th>\n",
       "      <th>tpr</th>\n",
       "      <th>threshold</th>\n",
       "      <th>gmean</th>\n",
       "    </tr>\n",
       "  </thead>\n",
       "  <tbody>\n",
       "    <tr>\n",
       "      <th>10620</th>\n",
       "      <td>0.194594</td>\n",
       "      <td>0.776335</td>\n",
       "      <td>0.011992</td>\n",
       "      <td>0.790737</td>\n",
       "    </tr>\n",
       "    <tr>\n",
       "      <th>10621</th>\n",
       "      <td>0.195043</td>\n",
       "      <td>0.776335</td>\n",
       "      <td>0.011983</td>\n",
       "      <td>0.790517</td>\n",
       "    </tr>\n",
       "    <tr>\n",
       "      <th>10622</th>\n",
       "      <td>0.194818</td>\n",
       "      <td>0.776335</td>\n",
       "      <td>0.011988</td>\n",
       "      <td>0.790627</td>\n",
       "    </tr>\n",
       "    <tr>\n",
       "      <th>10623</th>\n",
       "      <td>0.194773</td>\n",
       "      <td>0.776335</td>\n",
       "      <td>0.011989</td>\n",
       "      <td>0.790649</td>\n",
       "    </tr>\n",
       "    <tr>\n",
       "      <th>10624</th>\n",
       "      <td>0.194459</td>\n",
       "      <td>0.776090</td>\n",
       "      <td>0.011996</td>\n",
       "      <td>0.790679</td>\n",
       "    </tr>\n",
       "    <tr>\n",
       "      <th>10625</th>\n",
       "      <td>0.193650</td>\n",
       "      <td>0.776090</td>\n",
       "      <td>0.012020</td>\n",
       "      <td>0.791075</td>\n",
       "    </tr>\n",
       "    <tr>\n",
       "      <th>10626</th>\n",
       "      <td>0.194504</td>\n",
       "      <td>0.776090</td>\n",
       "      <td>0.011996</td>\n",
       "      <td>0.790657</td>\n",
       "    </tr>\n",
       "    <tr>\n",
       "      <th>10627</th>\n",
       "      <td>0.194594</td>\n",
       "      <td>0.776090</td>\n",
       "      <td>0.011993</td>\n",
       "      <td>0.790612</td>\n",
       "    </tr>\n",
       "    <tr>\n",
       "      <th>10628</th>\n",
       "      <td>0.193650</td>\n",
       "      <td>0.775845</td>\n",
       "      <td>0.012021</td>\n",
       "      <td>0.790951</td>\n",
       "    </tr>\n",
       "    <tr>\n",
       "      <th>10629</th>\n",
       "      <td>0.193605</td>\n",
       "      <td>0.775845</td>\n",
       "      <td>0.012025</td>\n",
       "      <td>0.790973</td>\n",
       "    </tr>\n",
       "  </tbody>\n",
       "</table>\n",
       "</div>"
      ],
      "text/plain": [
       "            fpr       tpr  threshold     gmean\n",
       "10620  0.194594  0.776335   0.011992  0.790737\n",
       "10621  0.195043  0.776335   0.011983  0.790517\n",
       "10622  0.194818  0.776335   0.011988  0.790627\n",
       "10623  0.194773  0.776335   0.011989  0.790649\n",
       "10624  0.194459  0.776090   0.011996  0.790679\n",
       "10625  0.193650  0.776090   0.012020  0.791075\n",
       "10626  0.194504  0.776090   0.011996  0.790657\n",
       "10627  0.194594  0.776090   0.011993  0.790612\n",
       "10628  0.193650  0.775845   0.012021  0.790951\n",
       "10629  0.193605  0.775845   0.012025  0.790973"
      ]
     },
     "execution_count": 29,
     "metadata": {},
     "output_type": "execute_result"
    }
   ],
   "source": [
    "roc_data.iloc[10620:10630]"
   ]
  },
  {
   "cell_type": "code",
   "execution_count": 30,
   "id": "cc46efd3",
   "metadata": {},
   "outputs": [
    {
     "data": {
      "text/plain": [
       "array(['<30', 'Other'], dtype=object)"
      ]
     },
     "execution_count": 30,
     "metadata": {},
     "output_type": "execute_result"
    }
   ],
   "source": [
    "best_xgb.classes_"
   ]
  },
  {
   "cell_type": "code",
   "execution_count": 31,
   "id": "207b2aaf",
   "metadata": {},
   "outputs": [
    {
     "name": "stdout",
     "output_type": "stream",
     "text": [
      "   Pos_class_proba     class\n",
      "0         0.007046  0.992954\n",
      "1         0.006253  0.993747\n",
      "2         0.001424  0.998576\n",
      "3         0.004121  0.995879\n",
      "4         0.006551  0.993449\n",
      "   Pos_class_proba  class\n",
      "0         0.007046  Other\n",
      "1         0.006253  Other\n",
      "2         0.001424  Other\n",
      "3         0.004121  Other\n",
      "4         0.006551  Other\n"
     ]
    }
   ],
   "source": [
    "threshold = 0.012020\n",
    "\n",
    "X_test_proba = pd.DataFrame(best_xgb.predict_proba(X_test), columns=['Pos_class_proba','class'])\n",
    "\n",
    "print(X_test_proba.head())\n",
    "\n",
    "for i in range(len(X_test_proba)):\n",
    "    if X_test_proba['Pos_class_proba'].iloc[i] > threshold:\n",
    "        X_test_proba['class'].iloc[i] = '<30'\n",
    "    else:\n",
    "        X_test_proba['class'].iloc[i] = 'Other'\n",
    "\n",
    "print(X_test_proba.head())\n",
    "\n",
    "y_pred_thresh = X_test_proba"
   ]
  },
  {
   "cell_type": "code",
   "execution_count": 32,
   "id": "1fcd1b9a",
   "metadata": {},
   "outputs": [
    {
     "data": {
      "text/plain": [
       "Other    11909\n",
       "<30       4287\n",
       "Name: class, dtype: int64"
      ]
     },
     "execution_count": 32,
     "metadata": {},
     "output_type": "execute_result"
    }
   ],
   "source": [
    "y_pred_thresh['class'].value_counts()"
   ]
  },
  {
   "cell_type": "code",
   "execution_count": 33,
   "id": "8260cbd3",
   "metadata": {},
   "outputs": [
    {
     "name": "stdout",
     "output_type": "stream",
     "text": [
      "              precision    recall  f1-score   support\n",
      "\n",
      "         <30       0.13      0.41      0.20      1373\n",
      "       Other       0.93      0.75      0.83     14823\n",
      "\n",
      "    accuracy                           0.72     16196\n",
      "   macro avg       0.53      0.58      0.52     16196\n",
      "weighted avg       0.86      0.72      0.78     16196\n",
      "\n"
     ]
    }
   ],
   "source": [
    "print(classification_report(y_test, y_pred_thresh['class'], labels=best_xgb.classes_))"
   ]
  },
  {
   "cell_type": "markdown",
   "id": "70253519",
   "metadata": {},
   "source": [
    "Our best-looking classification report yet. The highest f1-score on our target class by a huge margin."
   ]
  },
  {
   "cell_type": "code",
   "execution_count": 34,
   "id": "90baf382",
   "metadata": {},
   "outputs": [
    {
     "data": {
      "text/plain": [
       "Other    14823\n",
       "<30       1373\n",
       "dtype: int64"
      ]
     },
     "execution_count": 34,
     "metadata": {},
     "output_type": "execute_result"
    }
   ],
   "source": [
    "y_test_df = pd.DataFrame(y_test)\n",
    "y_test_df.value_counts()"
   ]
  },
  {
   "cell_type": "markdown",
   "id": "344e3914",
   "metadata": {},
   "source": [
    "**XGB With Over-Sampling of the minority (Target) class:**"
   ]
  },
  {
   "cell_type": "code",
   "execution_count": 82,
   "id": "2d776b32",
   "metadata": {},
   "outputs": [
    {
     "name": "stdout",
     "output_type": "stream",
     "text": [
      "1 seconds elapsed.\n"
     ]
    }
   ],
   "source": [
    "from imblearn.over_sampling import RandomOverSampler\n",
    "\n",
    "start=timer()\n",
    "\n",
    "ros = RandomOverSampler(sampling_strategy=1, random_state=None)     #set 1:1 ratio for pos_class:neg_class\n",
    "Xtr_res, ytr_res = ros.fit_resample(X_train, y_train)\n",
    "\n",
    "end=timer()\n",
    "print(f'{round(end-start)} seconds elapsed.')"
   ]
  },
  {
   "cell_type": "code",
   "execution_count": 83,
   "id": "4cadd8c4",
   "metadata": {},
   "outputs": [
    {
     "data": {
      "text/plain": [
       "((48585, 2298), (48585,))"
      ]
     },
     "execution_count": 83,
     "metadata": {},
     "output_type": "execute_result"
    }
   ],
   "source": [
    "X_train.shape, y_train.shape"
   ]
  },
  {
   "cell_type": "code",
   "execution_count": 84,
   "id": "a019ad44",
   "metadata": {},
   "outputs": [
    {
     "data": {
      "text/plain": [
       "((89006, 2298), (89006,))"
      ]
     },
     "execution_count": 84,
     "metadata": {},
     "output_type": "execute_result"
    }
   ],
   "source": [
    "Xtr_res.shape, ytr_res.shape"
   ]
  },
  {
   "cell_type": "code",
   "execution_count": 85,
   "id": "e4d523c9",
   "metadata": {},
   "outputs": [
    {
     "data": {
      "text/plain": [
       "<30      44503\n",
       "Other    44503\n",
       "dtype: int64"
      ]
     },
     "execution_count": 85,
     "metadata": {},
     "output_type": "execute_result"
    }
   ],
   "source": [
    "pd.DataFrame(ytr_res).value_counts()"
   ]
  },
  {
   "cell_type": "code",
   "execution_count": 86,
   "id": "df3f4195",
   "metadata": {},
   "outputs": [
    {
     "data": {
      "text/plain": [
       "0.5"
      ]
     },
     "execution_count": 86,
     "metadata": {},
     "output_type": "execute_result"
    }
   ],
   "source": [
    "pd.DataFrame(ytr_res).value_counts()[1]/pd.DataFrame(ytr_res).value_counts().sum()"
   ]
  },
  {
   "cell_type": "code",
   "execution_count": 91,
   "id": "4feff04d",
   "metadata": {},
   "outputs": [],
   "source": [
    "res_xgbclf = xgb.XGBClassifier(objective='binary:logistic')\n",
    "\n",
    "param_dist = {'learning_rate': np.arange(0.0, 1.0, 0.1),\n",
    "              'n_estimators': np.arange(100, 1000, 100),\n",
    "              'max_depth': np.arange(3, 15, 2)}\n",
    "\n",
    "res_xgbclf_cv = RandomizedSearchCV(res_xgbclf, param_dist, cv=5, verbose=2, n_jobs=-1)"
   ]
  },
  {
   "cell_type": "code",
   "execution_count": null,
   "id": "ba47d1f5",
   "metadata": {},
   "outputs": [],
   "source": [
    "start = timer()\n",
    "\n",
    "res_xgbclf_cv = res_xgbclf_cv.fit(Xtr_res, ytr_res)\n",
    "\n",
    "end = timer()\n",
    "print(f'{round(end - start)} seconds elapsed.')"
   ]
  },
  {
   "cell_type": "code",
   "execution_count": null,
   "id": "fcc50eb2",
   "metadata": {},
   "outputs": [],
   "source": [
    "print(\"Best Score:\" + str(res_xgbclf_cv.best_score_))\n",
    "print(\"Best Parameters: \" + str(res_xgbclf_cv.best_params_))"
   ]
  },
  {
   "cell_type": "code",
   "execution_count": 92,
   "id": "0eae4249",
   "metadata": {},
   "outputs": [],
   "source": [
    "params = {'n_estimators': 500, 'max_depth': 13, 'learning_rate': 0.5}\n",
    "best_xgb_res = xgb.XGBClassifier(**params, objective='binary:logistic', n_jobs=-1)"
   ]
  },
  {
   "cell_type": "code",
   "execution_count": 93,
   "id": "708073a6",
   "metadata": {},
   "outputs": [
    {
     "name": "stdout",
     "output_type": "stream",
     "text": [
      "[12:11:19] WARNING: ..\\src\\learner.cc:1115: Starting in XGBoost 1.3.0, the default evaluation metric used with the objective 'binary:logistic' was changed from 'error' to 'logloss'. Explicitly set eval_metric if you'd like to restore the old behavior.\n",
      "Training Accuracy: 1.0\n",
      "1393 seconds elapsed.\n"
     ]
    }
   ],
   "source": [
    "start = timer()\n",
    "\n",
    "best_xgb_res = best_xgb_res.fit(Xtr_res, ytr_res)\n",
    "\n",
    "print('Training Accuracy:', best_xgb_res.score(Xtr_res, ytr_res))\n",
    "\n",
    "end = timer()\n",
    "print(f'{round(end-start)} seconds elapsed.')"
   ]
  },
  {
   "cell_type": "code",
   "execution_count": 94,
   "id": "7ef5231f",
   "metadata": {},
   "outputs": [
    {
     "name": "stdout",
     "output_type": "stream",
     "text": [
      "              precision    recall  f1-score   support\n",
      "\n",
      "         <30       0.18      0.06      0.09      1373\n",
      "       Other       0.92      0.97      0.95     14823\n",
      "\n",
      "    accuracy                           0.90     16196\n",
      "   macro avg       0.55      0.52      0.52     16196\n",
      "weighted avg       0.86      0.90      0.87     16196\n",
      "\n"
     ]
    }
   ],
   "source": [
    "y_pred_res = best_xgb_res.predict(X_test)\n",
    "print(classification_report(y_test, y_pred_res, labels=best_xgb_res.classes_))"
   ]
  },
  {
   "cell_type": "markdown",
   "id": "d3a4c297",
   "metadata": {},
   "source": [
    "A good improvement for simply oversampling to a 1:1 ratio on a roughly-tuned XGBClassifier model."
   ]
  },
  {
   "cell_type": "code",
   "execution_count": 95,
   "id": "3678cd72",
   "metadata": {},
   "outputs": [
    {
     "name": "stdout",
     "output_type": "stream",
     "text": [
      "                            Features  Importance scores\n",
      "0                  admission_type_id           0.000516\n",
      "1           discharge_disposition_id           0.001118\n",
      "2                admission_source_id           0.000525\n",
      "3                   time_in_hospital           0.000474\n",
      "4                 num_lab_procedures           0.000497\n",
      "...                              ...                ...\n",
      "2293      glipizide-metformin_Steady           0.000000\n",
      "2294  metformin-rosiglitazone_Steady           0.000000\n",
      "2295   metformin-pioglitazone_Steady           0.000000\n",
      "2296                       change_No           0.000444\n",
      "2297                 diabetesMed_Yes           0.000602\n",
      "\n",
      "[2298 rows x 2 columns]\n",
      "                                        Features  Importance scores\n",
      "1154                                  diag_2_583           0.008278\n",
      "1450                                 diag_2_E936           0.006679\n",
      "1563                                  diag_3_236           0.005233\n",
      "314                                   diag_1_374           0.004345\n",
      "395                                    diag_1_47           0.004245\n",
      "1995                                  diag_3_755           0.004164\n",
      "61    medical_specialty_Pediatrics-Endocrinology           0.003927\n",
      "1957                                  diag_3_712           0.003895\n",
      "223                                   diag_1_255           0.003829\n",
      "1517                                  diag_3_154           0.003691\n",
      "73                  medical_specialty_Psychology           0.003437\n",
      "1858                                  diag_3_573           0.003390\n",
      "2228                                  diag_3_V49           0.003057\n",
      "772                                   diag_1_V57           0.002940\n",
      "139                                   diag_1_189           0.002885\n",
      "1889                                  diag_3_607           0.002843\n",
      "1132                                  diag_2_557           0.002736\n",
      "759                                   diag_1_997           0.002734\n",
      "1159                                  diag_2_590           0.002700\n",
      "55              medical_specialty_Otolaryngology           0.002639\n",
      "240                                   diag_1_284           0.002605\n",
      "1467                                  diag_2_V10           0.002552\n",
      "1841                                  diag_3_553           0.002542\n",
      "113                                   diag_1_151           0.002512\n",
      "894                                   diag_2_260           0.002486\n",
      "1932                                  diag_3_681           0.002346\n",
      "798                                   diag_2_153           0.002331\n",
      "164                                   diag_1_218           0.002305\n",
      "116                                   diag_1_154           0.002302\n",
      "1783                                  diag_3_466           0.002234\n"
     ]
    }
   ],
   "source": [
    "features = X.keys()\n",
    "imp = list(best_xgb_res.feature_importances_)\n",
    "imp_df = pd.DataFrame((zip(features, imp)), columns=['Features', 'Importance scores'])\n",
    "print(imp_df)\n",
    "imp_df = imp_df.sort_values('Importance scores', ascending=False)\n",
    "print(imp_df.head(30))"
   ]
  },
  {
   "cell_type": "code",
   "execution_count": 96,
   "id": "5ba1ac7a",
   "metadata": {},
   "outputs": [
    {
     "data": {
      "image/png": "[encoded data removed]",
      "text/plain": [
       "<Figure size 432x288 with 1 Axes>"
      ]
     },
     "metadata": {
      "needs_background": "light"
     },
     "output_type": "display_data"
    }
   ],
   "source": [
    "_=plot_roc_curve(best_xgb_res, Xtr_res, ytr_res, pos_label='<30')\n",
    "plt.plot([0, 1], [0, 1], 'k--', color='r')\n",
    "plt.show()"
   ]
  },
  {
   "cell_type": "markdown",
   "id": "8bcecbae",
   "metadata": {},
   "source": [
    "The model is overfitting, and will likely not generalize well."
   ]
  },
  {
   "cell_type": "code",
   "execution_count": 97,
   "id": "cb3203da",
   "metadata": {
    "scrolled": true
   },
   "outputs": [
    {
     "data": {
      "image/png": "[encoded data removed]",
      "text/plain": [
       "<Figure size 432x288 with 1 Axes>"
      ]
     },
     "metadata": {
      "needs_background": "light"
     },
     "output_type": "display_data"
    }
   ],
   "source": [
    "_=plot_roc_curve(best_xgb_res, X_test, y_test, pos_label='<30')\n",
    "plt.plot([0, 1], [0, 1], 'k--', color='r')\n",
    "plt.show()"
   ]
  },
  {
   "cell_type": "markdown",
   "id": "5e8e261a",
   "metadata": {},
   "source": [
    "0.59 is a poor AUC, but with more tuning, the oversampling method would probably prove beneficial, especially when combined with the scale_pos_weight argument that better-handles the imbalanced classes."
   ]
  },
  {
   "cell_type": "code",
   "execution_count": 98,
   "id": "0f5c9cf4",
   "metadata": {},
   "outputs": [
    {
     "name": "stdout",
     "output_type": "stream",
     "text": [
      "Best Threshold = 0.90365255\n",
      "OptTPR: 1.0 OptFPR: 0.0\n"
     ]
    }
   ],
   "source": [
    "# 2nd arg for roc_curve must be POSITIVE class probas\n",
    "fpr, tpr, thresholds = roc_curve(y_test, best_xgb_res.predict_proba(X_test)[:,0], pos_label='<30')\n",
    "gmean = np.sqrt(tpr * (1 - fpr))\n",
    "index = np.argmax(gmean)\n",
    "best_thresh = thresholds[index]\n",
    "print('Best Threshold =', best_thresh)\n",
    "print('OptTPR:',tpr[index],'OptFPR:',fpr[index])"
   ]
  },
  {
   "cell_type": "code",
   "execution_count": 99,
   "id": "a2a862c1",
   "metadata": {},
   "outputs": [
    {
     "name": "stdout",
     "output_type": "stream",
     "text": [
      "Best Threshold = 0.0069440007\n",
      "OptTPR: 0.6307356154406409 OptFPR: 0.4978749241044323\n"
     ]
    }
   ],
   "source": [
    "# 2nd arg for roc_curve must be POSITIVE class probas\n",
    "fpr, tpr, thresholds = roc_curve(y_test, best_xgb_res.predict_proba(X_test)[:,0], pos_label='<30')\n",
    "gmean = np.sqrt(tpr * (1 - fpr))\n",
    "index = np.argmax(gmean)\n",
    "best_thresh = thresholds[index]\n",
    "print('Best Threshold =', best_thresh)\n",
    "print('OptTPR:',tpr[index],'OptFPR:',fpr[index])"
   ]
  },
  {
   "cell_type": "markdown",
   "id": "b2cba5d3",
   "metadata": {},
   "source": [
    "The best model would most likely be an XGBClassifier with the use of thresholding and oversampling on the minority class."
   ]
  }
 ],
 "metadata": {
  "kernelspec": {
   "display_name": "Python 3 (ipykernel)",
   "language": "python",
   "name": "python3"
  },
  "language_info": {
   "codemirror_mode": {
    "name": "ipython",
    "version": 3
   },
   "file_extension": ".py",
   "mimetype": "text/x-python",
   "name": "python",
   "nbconvert_exporter": "python",
   "pygments_lexer": "ipython3",
   "version": "3.8.13"
  }
 },
 "nbformat": 4,
 "nbformat_minor": 5
}
