{
 "cells": [
  {
   "cell_type": "markdown",
   "id": "2290b883",
   "metadata": {},
   "source": [
    "# **Diabetic Patient Readmission: Modeling**\n",
    "\n",
    "This dataset was analyzed by numerous Virginia Commonwealth University faculty in a recent research article which is accompanied by feature descriptions. These can be found at https://www.hindawi.com/journals/bmri/2014/781670/tab1/."
   ]
  },
  {
   "cell_type": "code",
   "execution_count": 1,
   "id": "439d816c",
   "metadata": {},
   "outputs": [],
   "source": [
    "#conda install -c conda-forge imbalanced-learn      https://imbalanced-learn.org/stable/references/index.html#api\n",
    "\n",
    "import os\n",
    "\n",
    "import warnings\n",
    "warnings.simplefilter(action='ignore', category=FutureWarning)\n",
    "warnings.simplefilter(action='ignore', category=UserWarning)\n",
    "\n",
    "import numpy as np\n",
    "import pandas as pd\n",
    "\n",
    "import matplotlib.pyplot as plt\n",
    "import seaborn as sns\n",
    "\n",
    "from sklearn.pipeline import Pipeline\n",
    "\n",
    "from sklearn.model_selection import train_test_split, cross_validate, RandomizedSearchCV\n",
    "\n",
    "from sklearn.preprocessing import StandardScaler\n",
    "\n",
    "from sklearn.neighbors import KNeighborsClassifier\n",
    "from sklearn.ensemble import RandomForestClassifier\n",
    "import xgboost as xgb\n",
    "\n",
    "from sklearn.feature_selection import chi2\n",
    "from sklearn.metrics import classification_report, accuracy_score, roc_auc_score, plot_roc_curve, roc_curve\n",
    "\n",
    "from timeit import default_timer as timer\n",
    "\n",
    "np.random.seed(42)"
   ]
  },
  {
   "cell_type": "code",
   "execution_count": 2,
   "id": "26e710e6",
   "metadata": {},
   "outputs": [
    {
     "data": {
      "text/html": [
       "<div>\n",
       "<style scoped>\n",
       "    .dataframe tbody tr th:only-of-type {\n",
       "        vertical-align: middle;\n",
       "    }\n",
       "\n",
       "    .dataframe tbody tr th {\n",
       "        vertical-align: top;\n",
       "    }\n",
       "\n",
       "    .dataframe thead th {\n",
       "        text-align: right;\n",
       "    }\n",
       "</style>\n",
       "<table border=\"1\" class=\"dataframe\">\n",
       "  <thead>\n",
       "    <tr style=\"text-align: right;\">\n",
       "      <th></th>\n",
       "      <th>encounter_id</th>\n",
       "      <th>patient_nbr</th>\n",
       "      <th>race</th>\n",
       "      <th>gender</th>\n",
       "      <th>age</th>\n",
       "      <th>admission_type_id</th>\n",
       "      <th>discharge_disposition_id</th>\n",
       "      <th>admission_source_id</th>\n",
       "      <th>time_in_hospital</th>\n",
       "      <th>medical_specialty</th>\n",
       "      <th>...</th>\n",
       "      <th>tolazamide</th>\n",
       "      <th>insulin</th>\n",
       "      <th>glyburide-metformin</th>\n",
       "      <th>glipizide-metformin</th>\n",
       "      <th>glimepiride-pioglitazone</th>\n",
       "      <th>metformin-rosiglitazone</th>\n",
       "      <th>metformin-pioglitazone</th>\n",
       "      <th>change</th>\n",
       "      <th>diabetesMed</th>\n",
       "      <th>readmitted</th>\n",
       "    </tr>\n",
       "  </thead>\n",
       "  <tbody>\n",
       "    <tr>\n",
       "      <th>0</th>\n",
       "      <td>2278392</td>\n",
       "      <td>8222157</td>\n",
       "      <td>Caucasian</td>\n",
       "      <td>Female</td>\n",
       "      <td>[0-10)</td>\n",
       "      <td>6</td>\n",
       "      <td>25</td>\n",
       "      <td>1</td>\n",
       "      <td>1</td>\n",
       "      <td>Pediatrics-Endocrinology</td>\n",
       "      <td>...</td>\n",
       "      <td>No</td>\n",
       "      <td>No</td>\n",
       "      <td>No</td>\n",
       "      <td>No</td>\n",
       "      <td>No</td>\n",
       "      <td>No</td>\n",
       "      <td>No</td>\n",
       "      <td>No</td>\n",
       "      <td>No</td>\n",
       "      <td>Other</td>\n",
       "    </tr>\n",
       "    <tr>\n",
       "      <th>1</th>\n",
       "      <td>149190</td>\n",
       "      <td>55629189</td>\n",
       "      <td>Caucasian</td>\n",
       "      <td>Female</td>\n",
       "      <td>[10-20)</td>\n",
       "      <td>1</td>\n",
       "      <td>1</td>\n",
       "      <td>7</td>\n",
       "      <td>3</td>\n",
       "      <td>missing</td>\n",
       "      <td>...</td>\n",
       "      <td>No</td>\n",
       "      <td>Up</td>\n",
       "      <td>No</td>\n",
       "      <td>No</td>\n",
       "      <td>No</td>\n",
       "      <td>No</td>\n",
       "      <td>No</td>\n",
       "      <td>Ch</td>\n",
       "      <td>Yes</td>\n",
       "      <td>Other</td>\n",
       "    </tr>\n",
       "    <tr>\n",
       "      <th>2</th>\n",
       "      <td>500364</td>\n",
       "      <td>82442376</td>\n",
       "      <td>Caucasian</td>\n",
       "      <td>Male</td>\n",
       "      <td>[30-40)</td>\n",
       "      <td>1</td>\n",
       "      <td>1</td>\n",
       "      <td>7</td>\n",
       "      <td>2</td>\n",
       "      <td>missing</td>\n",
       "      <td>...</td>\n",
       "      <td>No</td>\n",
       "      <td>Up</td>\n",
       "      <td>No</td>\n",
       "      <td>No</td>\n",
       "      <td>No</td>\n",
       "      <td>No</td>\n",
       "      <td>No</td>\n",
       "      <td>Ch</td>\n",
       "      <td>Yes</td>\n",
       "      <td>Other</td>\n",
       "    </tr>\n",
       "    <tr>\n",
       "      <th>3</th>\n",
       "      <td>16680</td>\n",
       "      <td>42519267</td>\n",
       "      <td>Caucasian</td>\n",
       "      <td>Male</td>\n",
       "      <td>[40-50)</td>\n",
       "      <td>1</td>\n",
       "      <td>1</td>\n",
       "      <td>7</td>\n",
       "      <td>1</td>\n",
       "      <td>missing</td>\n",
       "      <td>...</td>\n",
       "      <td>No</td>\n",
       "      <td>Steady</td>\n",
       "      <td>No</td>\n",
       "      <td>No</td>\n",
       "      <td>No</td>\n",
       "      <td>No</td>\n",
       "      <td>No</td>\n",
       "      <td>Ch</td>\n",
       "      <td>Yes</td>\n",
       "      <td>Other</td>\n",
       "    </tr>\n",
       "    <tr>\n",
       "      <th>4</th>\n",
       "      <td>35754</td>\n",
       "      <td>82637451</td>\n",
       "      <td>Caucasian</td>\n",
       "      <td>Male</td>\n",
       "      <td>[50-60)</td>\n",
       "      <td>2</td>\n",
       "      <td>1</td>\n",
       "      <td>2</td>\n",
       "      <td>3</td>\n",
       "      <td>missing</td>\n",
       "      <td>...</td>\n",
       "      <td>No</td>\n",
       "      <td>Steady</td>\n",
       "      <td>No</td>\n",
       "      <td>No</td>\n",
       "      <td>No</td>\n",
       "      <td>No</td>\n",
       "      <td>No</td>\n",
       "      <td>No</td>\n",
       "      <td>Yes</td>\n",
       "      <td>Other</td>\n",
       "    </tr>\n",
       "  </tbody>\n",
       "</table>\n",
       "<p>5 rows × 45 columns</p>\n",
       "</div>"
      ],
      "text/plain": [
       "   encounter_id  patient_nbr       race  gender      age  admission_type_id  \\\n",
       "0       2278392      8222157  Caucasian  Female   [0-10)                  6   \n",
       "1        149190     55629189  Caucasian  Female  [10-20)                  1   \n",
       "2        500364     82442376  Caucasian    Male  [30-40)                  1   \n",
       "3         16680     42519267  Caucasian    Male  [40-50)                  1   \n",
       "4         35754     82637451  Caucasian    Male  [50-60)                  2   \n",
       "\n",
       "   discharge_disposition_id  admission_source_id  time_in_hospital  \\\n",
       "0                        25                    1                 1   \n",
       "1                         1                    7                 3   \n",
       "2                         1                    7                 2   \n",
       "3                         1                    7                 1   \n",
       "4                         1                    2                 3   \n",
       "\n",
       "          medical_specialty  ...  tolazamide  insulin  glyburide-metformin  \\\n",
       "0  Pediatrics-Endocrinology  ...          No       No                   No   \n",
       "1                   missing  ...          No       Up                   No   \n",
       "2                   missing  ...          No       Up                   No   \n",
       "3                   missing  ...          No   Steady                   No   \n",
       "4                   missing  ...          No   Steady                   No   \n",
       "\n",
       "   glipizide-metformin  glimepiride-pioglitazone metformin-rosiglitazone  \\\n",
       "0                   No                        No                      No   \n",
       "1                   No                        No                      No   \n",
       "2                   No                        No                      No   \n",
       "3                   No                        No                      No   \n",
       "4                   No                        No                      No   \n",
       "\n",
       "  metformin-pioglitazone change  diabetesMed readmitted  \n",
       "0                     No     No           No      Other  \n",
       "1                     No     Ch          Yes      Other  \n",
       "2                     No     Ch          Yes      Other  \n",
       "3                     No     Ch          Yes      Other  \n",
       "4                     No     No          Yes      Other  \n",
       "\n",
       "[5 rows x 45 columns]"
      ]
     },
     "execution_count": 2,
     "metadata": {},
     "output_type": "execute_result"
    }
   ],
   "source": [
    "df1 = pd.read_csv(\"clean_data2.csv\")\n",
    "df1.head()"
   ]
  },
  {
   "cell_type": "code",
   "execution_count": 3,
   "id": "26f17e7c",
   "metadata": {},
   "outputs": [
    {
     "name": "stdout",
     "output_type": "stream",
     "text": [
      "Percent \"other\" in \"readmitted\": 91.579\n"
     ]
    }
   ],
   "source": [
    "print('Percent \"other\" in \"readmitted\":',100 * round(1-(df1['readmitted'].value_counts()[1] / \n",
    "                                                        df1['readmitted'].value_counts().sum()), 5))"
   ]
  },
  {
   "cell_type": "markdown",
   "id": "ed079062",
   "metadata": {},
   "source": [
    "# Pre-processing:"
   ]
  },
  {
   "cell_type": "code",
   "execution_count": 4,
   "id": "0e2ff79f",
   "metadata": {},
   "outputs": [],
   "source": [
    "df1 = df1.drop(columns=['encounter_id','patient_nbr'])    #irrelevant for modeling"
   ]
  },
  {
   "cell_type": "code",
   "execution_count": 5,
   "id": "ad1dad74",
   "metadata": {},
   "outputs": [
    {
     "data": {
      "text/plain": [
       "((64781, 42), (64781,))"
      ]
     },
     "execution_count": 5,
     "metadata": {},
     "output_type": "execute_result"
    }
   ],
   "source": [
    "X = df1.drop(columns=['readmitted'])\n",
    "y = df1[['readmitted']].values.ravel()\n",
    "X.shape, y.shape"
   ]
  },
  {
   "cell_type": "code",
   "execution_count": 6,
   "id": "f5339212",
   "metadata": {
    "scrolled": true
   },
   "outputs": [
    {
     "data": {
      "text/html": [
       "<div>\n",
       "<style scoped>\n",
       "    .dataframe tbody tr th:only-of-type {\n",
       "        vertical-align: middle;\n",
       "    }\n",
       "\n",
       "    .dataframe tbody tr th {\n",
       "        vertical-align: top;\n",
       "    }\n",
       "\n",
       "    .dataframe thead th {\n",
       "        text-align: right;\n",
       "    }\n",
       "</style>\n",
       "<table border=\"1\" class=\"dataframe\">\n",
       "  <thead>\n",
       "    <tr style=\"text-align: right;\">\n",
       "      <th></th>\n",
       "      <th>admission_type_id</th>\n",
       "      <th>discharge_disposition_id</th>\n",
       "      <th>admission_source_id</th>\n",
       "      <th>time_in_hospital</th>\n",
       "      <th>num_lab_procedures</th>\n",
       "      <th>num_procedures</th>\n",
       "      <th>num_medications</th>\n",
       "      <th>number_outpatient</th>\n",
       "      <th>number_emergency</th>\n",
       "      <th>number_diagnoses</th>\n",
       "      <th>...</th>\n",
       "      <th>insulin_Steady</th>\n",
       "      <th>insulin_Up</th>\n",
       "      <th>glyburide-metformin_No</th>\n",
       "      <th>glyburide-metformin_Steady</th>\n",
       "      <th>glyburide-metformin_Up</th>\n",
       "      <th>glipizide-metformin_Steady</th>\n",
       "      <th>metformin-rosiglitazone_Steady</th>\n",
       "      <th>metformin-pioglitazone_Steady</th>\n",
       "      <th>change_No</th>\n",
       "      <th>diabetesMed_Yes</th>\n",
       "    </tr>\n",
       "  </thead>\n",
       "  <tbody>\n",
       "    <tr>\n",
       "      <th>0</th>\n",
       "      <td>6</td>\n",
       "      <td>25</td>\n",
       "      <td>1</td>\n",
       "      <td>1</td>\n",
       "      <td>41</td>\n",
       "      <td>0</td>\n",
       "      <td>1</td>\n",
       "      <td>0</td>\n",
       "      <td>0</td>\n",
       "      <td>1</td>\n",
       "      <td>...</td>\n",
       "      <td>0</td>\n",
       "      <td>0</td>\n",
       "      <td>1</td>\n",
       "      <td>0</td>\n",
       "      <td>0</td>\n",
       "      <td>0</td>\n",
       "      <td>0</td>\n",
       "      <td>0</td>\n",
       "      <td>1</td>\n",
       "      <td>0</td>\n",
       "    </tr>\n",
       "    <tr>\n",
       "      <th>1</th>\n",
       "      <td>1</td>\n",
       "      <td>1</td>\n",
       "      <td>7</td>\n",
       "      <td>3</td>\n",
       "      <td>59</td>\n",
       "      <td>0</td>\n",
       "      <td>18</td>\n",
       "      <td>0</td>\n",
       "      <td>0</td>\n",
       "      <td>9</td>\n",
       "      <td>...</td>\n",
       "      <td>0</td>\n",
       "      <td>1</td>\n",
       "      <td>1</td>\n",
       "      <td>0</td>\n",
       "      <td>0</td>\n",
       "      <td>0</td>\n",
       "      <td>0</td>\n",
       "      <td>0</td>\n",
       "      <td>0</td>\n",
       "      <td>1</td>\n",
       "    </tr>\n",
       "    <tr>\n",
       "      <th>2</th>\n",
       "      <td>1</td>\n",
       "      <td>1</td>\n",
       "      <td>7</td>\n",
       "      <td>2</td>\n",
       "      <td>44</td>\n",
       "      <td>1</td>\n",
       "      <td>16</td>\n",
       "      <td>0</td>\n",
       "      <td>0</td>\n",
       "      <td>7</td>\n",
       "      <td>...</td>\n",
       "      <td>0</td>\n",
       "      <td>1</td>\n",
       "      <td>1</td>\n",
       "      <td>0</td>\n",
       "      <td>0</td>\n",
       "      <td>0</td>\n",
       "      <td>0</td>\n",
       "      <td>0</td>\n",
       "      <td>0</td>\n",
       "      <td>1</td>\n",
       "    </tr>\n",
       "    <tr>\n",
       "      <th>3</th>\n",
       "      <td>1</td>\n",
       "      <td>1</td>\n",
       "      <td>7</td>\n",
       "      <td>1</td>\n",
       "      <td>51</td>\n",
       "      <td>0</td>\n",
       "      <td>8</td>\n",
       "      <td>0</td>\n",
       "      <td>0</td>\n",
       "      <td>5</td>\n",
       "      <td>...</td>\n",
       "      <td>1</td>\n",
       "      <td>0</td>\n",
       "      <td>1</td>\n",
       "      <td>0</td>\n",
       "      <td>0</td>\n",
       "      <td>0</td>\n",
       "      <td>0</td>\n",
       "      <td>0</td>\n",
       "      <td>0</td>\n",
       "      <td>1</td>\n",
       "    </tr>\n",
       "    <tr>\n",
       "      <th>4</th>\n",
       "      <td>2</td>\n",
       "      <td>1</td>\n",
       "      <td>2</td>\n",
       "      <td>3</td>\n",
       "      <td>31</td>\n",
       "      <td>6</td>\n",
       "      <td>16</td>\n",
       "      <td>0</td>\n",
       "      <td>0</td>\n",
       "      <td>9</td>\n",
       "      <td>...</td>\n",
       "      <td>1</td>\n",
       "      <td>0</td>\n",
       "      <td>1</td>\n",
       "      <td>0</td>\n",
       "      <td>0</td>\n",
       "      <td>0</td>\n",
       "      <td>0</td>\n",
       "      <td>0</td>\n",
       "      <td>1</td>\n",
       "      <td>1</td>\n",
       "    </tr>\n",
       "  </tbody>\n",
       "</table>\n",
       "<p>5 rows × 2298 columns</p>\n",
       "</div>"
      ],
      "text/plain": [
       "   admission_type_id  discharge_disposition_id  admission_source_id  \\\n",
       "0                  6                        25                    1   \n",
       "1                  1                         1                    7   \n",
       "2                  1                         1                    7   \n",
       "3                  1                         1                    7   \n",
       "4                  2                         1                    2   \n",
       "\n",
       "   time_in_hospital  num_lab_procedures  num_procedures  num_medications  \\\n",
       "0                 1                  41               0                1   \n",
       "1                 3                  59               0               18   \n",
       "2                 2                  44               1               16   \n",
       "3                 1                  51               0                8   \n",
       "4                 3                  31               6               16   \n",
       "\n",
       "   number_outpatient  number_emergency  number_diagnoses  ...  insulin_Steady  \\\n",
       "0                  0                 0                 1  ...               0   \n",
       "1                  0                 0                 9  ...               0   \n",
       "2                  0                 0                 7  ...               0   \n",
       "3                  0                 0                 5  ...               1   \n",
       "4                  0                 0                 9  ...               1   \n",
       "\n",
       "   insulin_Up  glyburide-metformin_No  glyburide-metformin_Steady  \\\n",
       "0           0                       1                           0   \n",
       "1           1                       1                           0   \n",
       "2           1                       1                           0   \n",
       "3           0                       1                           0   \n",
       "4           0                       1                           0   \n",
       "\n",
       "   glyburide-metformin_Up  glipizide-metformin_Steady  \\\n",
       "0                       0                           0   \n",
       "1                       0                           0   \n",
       "2                       0                           0   \n",
       "3                       0                           0   \n",
       "4                       0                           0   \n",
       "\n",
       "   metformin-rosiglitazone_Steady  metformin-pioglitazone_Steady  change_No  \\\n",
       "0                               0                              0          1   \n",
       "1                               0                              0          0   \n",
       "2                               0                              0          0   \n",
       "3                               0                              0          0   \n",
       "4                               0                              0          1   \n",
       "\n",
       "   diabetesMed_Yes  \n",
       "0                0  \n",
       "1                1  \n",
       "2                1  \n",
       "3                1  \n",
       "4                1  \n",
       "\n",
       "[5 rows x 2298 columns]"
      ]
     },
     "execution_count": 6,
     "metadata": {},
     "output_type": "execute_result"
    }
   ],
   "source": [
    "X = pd.get_dummies(X, drop_first=True)\n",
    "X.head()"
   ]
  },
  {
   "cell_type": "code",
   "execution_count": 7,
   "id": "35acadf9",
   "metadata": {
    "scrolled": true
   },
   "outputs": [],
   "source": [
    "scaler = StandardScaler()\n",
    "X_scaled = scaler.fit_transform(X)"
   ]
  },
  {
   "cell_type": "markdown",
   "id": "5fd2db68",
   "metadata": {},
   "source": [
    "# Train-test split:"
   ]
  },
  {
   "cell_type": "code",
   "execution_count": 8,
   "id": "716c6521",
   "metadata": {},
   "outputs": [],
   "source": [
    "# Split the data into train and test sets\n",
    "X_train, X_test, y_train, y_test = train_test_split(X_scaled, y, test_size = 0.25, random_state=42)"
   ]
  },
  {
   "cell_type": "code",
   "execution_count": 9,
   "id": "1c57b4f2",
   "metadata": {},
   "outputs": [
    {
     "name": "stdout",
     "output_type": "stream",
     "text": [
      "(48585, 2298) (16196, 2298) (48585,) (16196,)\n"
     ]
    }
   ],
   "source": [
    "print(X_train.shape, X_test.shape, y_train.shape, y_test.shape)"
   ]
  },
  {
   "cell_type": "code",
   "execution_count": 10,
   "id": "83128a06",
   "metadata": {},
   "outputs": [
    {
     "name": "stdout",
     "output_type": "stream",
     "text": [
      "Percent \"other\" in \"readmitted\" of y_train: 91.598\n"
     ]
    }
   ],
   "source": [
    "print('Percent \"other\" in \"readmitted\" of y_train:', 100*(round(1-(pd.DataFrame(y_train).value_counts()[1] / \n",
    "                                                        pd.DataFrame(y_train).value_counts().sum()), 5)))"
   ]
  },
  {
   "cell_type": "code",
   "execution_count": 11,
   "id": "26f9efe6",
   "metadata": {},
   "outputs": [
    {
     "data": {
      "text/plain": [
       "Other    44503\n",
       "<30       4082\n",
       "dtype: int64"
      ]
     },
     "execution_count": 11,
     "metadata": {},
     "output_type": "execute_result"
    }
   ],
   "source": [
    "y_test_df = pd.DataFrame(y_train)\n",
    "y_test_df.value_counts()"
   ]
  },
  {
   "cell_type": "code",
   "execution_count": 13,
   "id": "33bc3821",
   "metadata": {},
   "outputs": [
    {
     "name": "stdout",
     "output_type": "stream",
     "text": [
      "10.9\n"
     ]
    }
   ],
   "source": [
    "scale_pos_weight = round(44503/4082,2)\n",
    "print(scale_pos_weight)"
   ]
  },
  {
   "cell_type": "markdown",
   "id": "00a55483",
   "metadata": {},
   "source": [
    "The above will be useful to know for future model evalutaion and some tuning."
   ]
  },
  {
   "cell_type": "markdown",
   "id": "0186a7b9",
   "metadata": {},
   "source": [
    "# Model Tuning and Evaluation:"
   ]
  },
  {
   "cell_type": "markdown",
   "id": "5dc900ef",
   "metadata": {},
   "source": [
    "**K-Nearest Neighbors:**"
   ]
  },
  {
   "cell_type": "code",
   "execution_count": 11,
   "id": "04662b85",
   "metadata": {
    "scrolled": true
   },
   "outputs": [],
   "source": [
    "knn = KNeighborsClassifier()\n",
    "\n",
    "param_dist = {'n_neighbors': np.arange(1,40),\n",
    "              'leaf_size': np.arange(1,50),\n",
    "              'p': [1,2]}\n",
    "\n",
    "knn_cv = RandomizedSearchCV(knn, param_dist, cv=5, verbose=2, n_jobs=-1)"
   ]
  },
  {
   "cell_type": "code",
   "execution_count": 12,
   "id": "aedae487",
   "metadata": {},
   "outputs": [
    {
     "name": "stdout",
     "output_type": "stream",
     "text": [
      "Fitting 5 folds for each of 10 candidates, totalling 50 fits\n",
      "8949 seconds elapsed.\n"
     ]
    }
   ],
   "source": [
    "start = timer()\n",
    "\n",
    "knn_cv = knn_cv.fit(X_train, y_train)\n",
    "\n",
    "end = timer()\n",
    "print(f'{round(end - start)} seconds elapsed.')"
   ]
  },
  {
   "cell_type": "code",
   "execution_count": 13,
   "id": "722498d6",
   "metadata": {},
   "outputs": [
    {
     "name": "stdout",
     "output_type": "stream",
     "text": [
      "Best Score:0.9159822990634969\n",
      "Best Parameters: {'p': 1, 'n_neighbors': 28, 'leaf_size': 41}\n"
     ]
    }
   ],
   "source": [
    "print(\"Best Score:\" + str(knn_cv.best_score_))\n",
    "print(\"Best Parameters: \" + str(knn_cv.best_params_))"
   ]
  },
  {
   "cell_type": "code",
   "execution_count": 11,
   "id": "d37de9ef",
   "metadata": {},
   "outputs": [],
   "source": [
    "params = {'p': 1, 'n_neighbors': 28, 'leaf_size': 41}\n",
    "best_knn = KNeighborsClassifier(**params, n_jobs=-1) # ** unpacks dict values to function arguments"
   ]
  },
  {
   "cell_type": "code",
   "execution_count": 13,
   "id": "054c9675",
   "metadata": {},
   "outputs": [
    {
     "name": "stdout",
     "output_type": "stream",
     "text": [
      "Training Accuracy: 0.9159822990634969\n",
      "1514 seconds elapsed.\n"
     ]
    }
   ],
   "source": [
    "start = timer()\n",
    "\n",
    "best_knn = best_knn.fit(X_train, y_train)\n",
    "\n",
    "print('Training Accuracy:', best_knn.score(X_train, y_train))\n",
    "\n",
    "end = timer()\n",
    "print(f'{round(end-start)} seconds elapsed.')"
   ]
  },
  {
   "cell_type": "markdown",
   "id": "fe9c9115",
   "metadata": {},
   "source": [
    "91.598 percent accurate is mediocre in light of the fact that an estimator which simply predicts 'other' every time would achieve the same score on the training data."
   ]
  },
  {
   "cell_type": "code",
   "execution_count": 14,
   "id": "d70d17f4",
   "metadata": {},
   "outputs": [
    {
     "name": "stdout",
     "output_type": "stream",
     "text": [
      "              precision    recall  f1-score   support\n",
      "\n",
      "         <30       0.00      0.00      0.00      1373\n",
      "       Other       0.92      1.00      0.96     14823\n",
      "\n",
      "    accuracy                           0.92     16196\n",
      "   macro avg       0.46      0.50      0.48     16196\n",
      "weighted avg       0.84      0.92      0.87     16196\n",
      "\n"
     ]
    }
   ],
   "source": [
    "y_pred = best_knn.predict(X_test)\n",
    "print(classification_report(y_test, y_pred, labels=best_knn.classes_))"
   ]
  },
  {
   "cell_type": "code",
   "execution_count": 35,
   "id": "b777e116",
   "metadata": {},
   "outputs": [
    {
     "name": "stdout",
     "output_type": "stream",
     "text": [
      "Train AUC: 0.721088731825609\n",
      "Test AUC: 0.5706338926548618\n"
     ]
    }
   ],
   "source": [
    "auc_score_tr = roc_auc_score(y_train, best_knn.predict_proba(X_train)[:,1])\n",
    "auc_score_te = roc_auc_score(y_test, best_knn.predict_proba(X_test)[:,1])\n",
    "\n",
    "print('Train AUC:', auc_score_tr)\n",
    "print('Test AUC:', auc_score_te)"
   ]
  },
  {
   "cell_type": "markdown",
   "id": "b7e3ba90",
   "metadata": {},
   "source": [
    "Not the best AUC from the K-Nearest Neighbors model."
   ]
  },
  {
   "cell_type": "markdown",
   "id": "49f4ffe3",
   "metadata": {},
   "source": [
    "**Random Forest:**"
   ]
  },
  {
   "cell_type": "code",
   "execution_count": 14,
   "id": "87fe93a2",
   "metadata": {},
   "outputs": [],
   "source": [
    "max_depth = np.arange(10, 100, 10)\n",
    "max_depth = np.append(max_depth, None)\n",
    "\n",
    "rfclf = RandomForestClassifier(class_weight='balanced')\n",
    "\n",
    "param_dist = {'max_depth': max_depth, 'n_estimators': np.arange(200, 2000, 200)}\n",
    "\n",
    "rfclf_cv = RandomizedSearchCV(rfclf, param_dist, cv=5, verbose=2, n_jobs=-1)"
   ]
  },
  {
   "cell_type": "code",
   "execution_count": 15,
   "id": "f281cb65",
   "metadata": {},
   "outputs": [
    {
     "name": "stdout",
     "output_type": "stream",
     "text": [
      "Fitting 5 folds for each of 10 candidates, totalling 50 fits\n",
      "15801 seconds elapsed.\n"
     ]
    }
   ],
   "source": [
    "start = timer()\n",
    "\n",
    "rfclf_cv = rfclf_cv.fit(X_train, y_train)\n",
    "\n",
    "end = timer()\n",
    "print(f'{round(end - start)} seconds elapsed.')"
   ]
  },
  {
   "cell_type": "code",
   "execution_count": 16,
   "id": "587764d8",
   "metadata": {},
   "outputs": [
    {
     "name": "stdout",
     "output_type": "stream",
     "text": [
      "Best Score:0.9159822990634969\n",
      "Best Parameters: {'n_estimators': 1800, 'max_depth': 90}\n"
     ]
    }
   ],
   "source": [
    "print(\"Best Score:\" + str(rfclf_cv.best_score_))\n",
    "print(\"Best Parameters: \" + str(rfclf_cv.best_params_))"
   ]
  },
  {
   "cell_type": "markdown",
   "id": "ed0e9ccc",
   "metadata": {},
   "source": [
    "The best Random Forest Classifier to come out of RandomizedSearchCV seems to be overfitting"
   ]
  },
  {
   "cell_type": "code",
   "execution_count": 16,
   "id": "965b4eba",
   "metadata": {},
   "outputs": [],
   "source": [
    "params = {'n_estimators': 1800, 'max_depth': 90, 'class_weight':'balanced'}\n",
    "best_rf = RandomForestClassifier(**params, n_jobs=-1)"
   ]
  },
  {
   "cell_type": "code",
   "execution_count": 17,
   "id": "e68e9463",
   "metadata": {},
   "outputs": [
    {
     "name": "stdout",
     "output_type": "stream",
     "text": [
      "Training Accuracy: 1.0\n",
      "517 seconds elapsed.\n"
     ]
    }
   ],
   "source": [
    "start = timer()\n",
    "\n",
    "best_rf = best_rf.fit(X_train, y_train)\n",
    "\n",
    "print('Training Accuracy:', best_rf.score(X_train, y_train))\n",
    "\n",
    "end = timer()\n",
    "print(f'{round(end-start)} seconds elapsed.')"
   ]
  },
  {
   "cell_type": "code",
   "execution_count": 18,
   "id": "ec6ac200",
   "metadata": {},
   "outputs": [
    {
     "name": "stdout",
     "output_type": "stream",
     "text": [
      "              precision    recall  f1-score   support\n",
      "\n",
      "         <30       0.00      0.00      0.00      1373\n",
      "       Other       0.92      1.00      0.96     14823\n",
      "\n",
      "    accuracy                           0.92     16196\n",
      "   macro avg       0.46      0.50      0.48     16196\n",
      "weighted avg       0.84      0.92      0.87     16196\n",
      "\n"
     ]
    }
   ],
   "source": [
    "y_pred = best_rf.predict(X_test)\n",
    "print(classification_report(y_test, y_pred, labels=best_rf.classes_))"
   ]
  },
  {
   "cell_type": "code",
   "execution_count": 37,
   "id": "23e60242",
   "metadata": {},
   "outputs": [
    {
     "name": "stdout",
     "output_type": "stream",
     "text": [
      "Train AUC: 1.0\n",
      "Test AUC: 0.6291421586077698\n"
     ]
    }
   ],
   "source": [
    "auc_score_tr = roc_auc_score(y_train, best_rf.predict_proba(X_train)[:,1])\n",
    "auc_score_te = roc_auc_score(y_test, best_rf.predict_proba(X_test)[:,1])\n",
    "\n",
    "print('Train AUC:', auc_score_tr)\n",
    "print('Test AUC:', auc_score_te)"
   ]
  },
  {
   "cell_type": "markdown",
   "id": "44db543d",
   "metadata": {},
   "source": [
    "The roughly-tuned Random Forest classifier is very overfit to the training data, but is still managing a better AUC on the test data than the K-Nearest Neighbors model."
   ]
  },
  {
   "cell_type": "markdown",
   "id": "2569eccc",
   "metadata": {},
   "source": [
    "**XGBoost:**"
   ]
  },
  {
   "cell_type": "code",
   "execution_count": 14,
   "id": "c031210a",
   "metadata": {},
   "outputs": [],
   "source": [
    "xgbclf = xgb.XGBClassifier(scale_pos_weight=10.9, objective='binary:logistic')\n",
    "\n",
    "param_dist = {'learning_rate': np.arange(0.0, 1.0, 0.1),\n",
    "              'n_estimators': np.arange(100, 1000, 100),\n",
    "              'max_depth': np.arange(3, 15, 2)}\n",
    "\n",
    "xgbclf_cv = RandomizedSearchCV(xgbclf, param_dist, cv=5, verbose=2, n_jobs=-1)"
   ]
  },
  {
   "cell_type": "markdown",
   "id": "aa5a26b2",
   "metadata": {},
   "source": [
    "Note: scale_pos_weight argument balances class weights and is = # of neg observations / # of pos observations"
   ]
  },
  {
   "cell_type": "code",
   "execution_count": 18,
   "id": "8c8b4319",
   "metadata": {},
   "outputs": [
    {
     "name": "stdout",
     "output_type": "stream",
     "text": [
      "Fitting 5 folds for each of 10 candidates, totalling 50 fits\n",
      "[01:50:41] WARNING: ..\\src\\learner.cc:1115: Starting in XGBoost 1.3.0, the default evaluation metric used with the objective 'binary:logistic' was changed from 'error' to 'logloss'. Explicitly set eval_metric if you'd like to restore the old behavior.\n",
      "19675 seconds elapsed.\n"
     ]
    }
   ],
   "source": [
    "start = timer()\n",
    "\n",
    "xgbclf_cv = xgbclf_cv.fit(X_train, y_train)\n",
    "\n",
    "end = timer()\n",
    "print(f'{round(end - start)} seconds elapsed.')"
   ]
  },
  {
   "cell_type": "code",
   "execution_count": 19,
   "id": "584dd246",
   "metadata": {},
   "outputs": [
    {
     "name": "stdout",
     "output_type": "stream",
     "text": [
      "Best Score:0.9154265719872388\n",
      "Best Parameters: {'n_estimators': 200, 'max_depth': 9, 'learning_rate': 0.1}\n"
     ]
    }
   ],
   "source": [
    "print(\"Best Score:\" + str(xgbclf_cv.best_score_))\n",
    "print(\"Best Parameters: \" + str(xgbclf_cv.best_params_))"
   ]
  },
  {
   "cell_type": "code",
   "execution_count": 20,
   "id": "98d486ec",
   "metadata": {},
   "outputs": [],
   "source": [
    "params = {'n_estimators': 200, 'max_depth': 9, 'learning_rate': 0.1}\n",
    "best_xgb = xgb.XGBClassifier(**params, scale_pos_weight=10.9, objective='binary:logistic', n_jobs=-1)"
   ]
  },
  {
   "cell_type": "code",
   "execution_count": 21,
   "id": "6efe47b3",
   "metadata": {},
   "outputs": [
    {
     "name": "stdout",
     "output_type": "stream",
     "text": [
      "[02:18:35] WARNING: ..\\src\\learner.cc:1115: Starting in XGBoost 1.3.0, the default evaluation metric used with the objective 'binary:logistic' was changed from 'error' to 'logloss'. Explicitly set eval_metric if you'd like to restore the old behavior.\n",
      "Training Accuracy: 0.9202428733148091\n",
      "215 seconds elapsed.\n"
     ]
    }
   ],
   "source": [
    "start = timer()\n",
    "\n",
    "best_xgb = best_xgb.fit(X_train, y_train)\n",
    "\n",
    "print('Training Accuracy:', best_xgb.score(X_train, y_train))\n",
    "\n",
    "end = timer()\n",
    "print(f'{round(end-start)} seconds elapsed.')"
   ]
  },
  {
   "cell_type": "code",
   "execution_count": 22,
   "id": "c48412cb",
   "metadata": {},
   "outputs": [
    {
     "name": "stdout",
     "output_type": "stream",
     "text": [
      "              precision    recall  f1-score   support\n",
      "\n",
      "         <30       0.48      0.01      0.02      1373\n",
      "       Other       0.92      1.00      0.96     14823\n",
      "\n",
      "    accuracy                           0.92     16196\n",
      "   macro avg       0.70      0.50      0.49     16196\n",
      "weighted avg       0.88      0.92      0.88     16196\n",
      "\n"
     ]
    }
   ],
   "source": [
    "y_pred = best_xgb.predict(X_test)\n",
    "print(classification_report(y_test, y_pred, labels=best_xgb.classes_))"
   ]
  },
  {
   "cell_type": "markdown",
   "id": "8a435f22",
   "metadata": {},
   "source": [
    "Immediately the precision score on our target class is looking much better than with any other model. This, coupled with a non-zero f1-score, puts XGB at the top of the pack."
   ]
  },
  {
   "cell_type": "code",
   "execution_count": 28,
   "id": "db710f65",
   "metadata": {},
   "outputs": [
    {
     "data": {
      "text/plain": [
       "array(['<30', 'Other'], dtype=object)"
      ]
     },
     "execution_count": 28,
     "metadata": {},
     "output_type": "execute_result"
    }
   ],
   "source": [
    "best_xgb.classes_"
   ]
  },
  {
   "cell_type": "code",
   "execution_count": 38,
   "id": "4f1e3ebf",
   "metadata": {},
   "outputs": [
    {
     "name": "stdout",
     "output_type": "stream",
     "text": [
      "Train AUC: 0.8796493997404378\n",
      "Test AUC: 0.6363207971077407\n"
     ]
    }
   ],
   "source": [
    "auc_score_tr = roc_auc_score(y_train, best_xgb.predict_proba(X_train)[:,1])\n",
    "auc_score_te = roc_auc_score(y_test, best_xgb.predict_proba(X_test)[:,1])\n",
    "\n",
    "print('Train AUC:', auc_score_tr)\n",
    "print('Test AUC:', auc_score_te)"
   ]
  },
  {
   "cell_type": "code",
   "execution_count": 24,
   "id": "3a7be5c2",
   "metadata": {},
   "outputs": [
    {
     "name": "stdout",
     "output_type": "stream",
     "text": [
      "                                               Features  Importance scores\n",
      "1                              discharge_disposition_id           0.007156\n",
      "1019                                         diag_2_413           0.005845\n",
      "2009                                         diag_3_788           0.005281\n",
      "926                                          diag_2_295           0.005210\n",
      "190                                        diag_1_250.1           0.004671\n",
      "594                                          diag_1_728           0.004494\n",
      "996                                           diag_2_38           0.004178\n",
      "464                                          diag_1_562           0.004147\n",
      "917                                          diag_2_286           0.004091\n",
      "1084                                         diag_2_491           0.004036\n",
      "1733                                         diag_3_411           0.004026\n",
      "67    medical_specialty_PhysicalMedicineandRehabilit...           0.003966\n",
      "1813                                         diag_3_515           0.003909\n",
      "1017                                         diag_2_411           0.003887\n",
      "772                                          diag_1_V57           0.003800\n",
      "457                                          diag_1_552           0.003795\n",
      "147                                          diag_1_198           0.003790\n",
      "633                                            diag_1_8           0.003787\n",
      "1846                                         diag_3_560           0.003731\n",
      "879                                        diag_2_250.8           0.003697\n",
      "654                                          diag_1_824           0.003646\n",
      "212                                        diag_1_250.8           0.003639\n",
      "1150                                         diag_2_578           0.003635\n",
      "1030                                         diag_2_426           0.003612\n",
      "1037                                         diag_2_433           0.003608\n",
      "499                                          diag_1_599           0.003591\n",
      "598                                          diag_1_733           0.003570\n",
      "2257                                     repaglinide_Up           0.003543\n",
      "650                                          diag_1_820           0.003523\n",
      "1429                                        diag_2_E885           0.003518\n",
      "250                                          diag_1_294           0.003515\n",
      "2256                                 repaglinide_Steady           0.003474\n",
      "1481                                         diag_2_V45           0.003405\n",
      "781                                          diag_2_112           0.003372\n",
      "1747                                         diag_3_427           0.003362\n",
      "83    medical_specialty_Surgery-Cardiovascular/Thoracic           0.003362\n",
      "85                    medical_specialty_Surgery-General           0.003337\n",
      "465                                          diag_1_564           0.003315\n",
      "1047                                         diag_2_444           0.003304\n",
      "643                                          diag_1_812           0.003293\n",
      "1402                                         diag_2_996           0.003286\n",
      "488                                          diag_1_585           0.003274\n",
      "487                                          diag_1_584           0.003265\n",
      "254                                          diag_1_298           0.003262\n",
      "581                                          diag_1_715           0.003258\n",
      "343                                          diag_1_410           0.003256\n",
      "247                                          diag_1_291           0.003252\n",
      "210                                        diag_1_250.6           0.003235\n",
      "1746                                         diag_3_426           0.003233\n",
      "877                                        diag_2_250.6           0.003228\n"
     ]
    }
   ],
   "source": [
    "features = X.keys()\n",
    "imp = list(best_xgb.feature_importances_)\n",
    "imp_df = pd.DataFrame((zip(features, imp)), columns =['Features', 'Importance scores'])\n",
    "imp_df = imp_df.sort_values('Importance scores', ascending=False)\n",
    "print(imp_df.head(50))"
   ]
  },
  {
   "cell_type": "markdown",
   "id": "8f882809",
   "metadata": {},
   "source": [
    "It makes sense to see discharge_disposition_id at the top of this table, as it is indicative of the state of a patient upon discharge.\n",
    "\n",
    "Diagnoses of 250.x indicate a diabetes-related diagnosis and so it makes sens to see many of these showing up here as well.\n",
    "\n",
    "It is also sensible to see the affiliated medical specialties of Surgery-Cardiovascular/Thoracic and -General."
   ]
  },
  {
   "cell_type": "code",
   "execution_count": 25,
   "id": "e7a379fa",
   "metadata": {},
   "outputs": [
    {
     "data": {
      "image/png": "[encoded data removed]",
      "text/plain": [
       "<Figure size 720x360 with 1 Axes>"
      ]
     },
     "metadata": {
      "needs_background": "light"
     },
     "output_type": "display_data"
    }
   ],
   "source": [
    "plt.figure(figsize=(10,5))\n",
    "_=plt.barh(imp_df['Features'].head(30), imp_df['Importance scores'].head(30), align='center', color='b')\n",
    "plt.xlabel('Relative Importance',fontsize=15)\n",
    "plt.ylabel('Features',fontsize=15)\n",
    "plt.title('Feature Importances for XGBClassifier',fontsize=15)\n",
    "plt.yticks(imp_df['Features'].head(30), imp_df['Features'].head(30).index)\n",
    "plt.show()"
   ]
  },
  {
   "cell_type": "code",
   "execution_count": 26,
   "id": "2831ec34",
   "metadata": {},
   "outputs": [
    {
     "data": {
      "text/plain": [
       "12.338317930698395"
      ]
     },
     "execution_count": 26,
     "metadata": {},
     "output_type": "execute_result"
    }
   ],
   "source": [
    "100*imp_df['Importance scores'].head(30).sum()"
   ]
  },
  {
   "cell_type": "code",
   "execution_count": 27,
   "id": "6f16e01b",
   "metadata": {},
   "outputs": [
    {
     "data": {
      "text/plain": [
       "1.3054830287206267"
      ]
     },
     "execution_count": 27,
     "metadata": {},
     "output_type": "execute_result"
    }
   ],
   "source": [
    "100*30/2298"
   ]
  },
  {
   "cell_type": "markdown",
   "id": "68b843ad",
   "metadata": {},
   "source": [
    "The above shows that the top 30 features explain 12.34% of the variance seen in the dataset, while making up only 1.31% of the total considered features. This shows a fair relationship to the top 30, but the model is definitely evaluating across *a lot* of features to attain a classification."
   ]
  },
  {
   "cell_type": "code",
   "execution_count": 46,
   "id": "1a763bff",
   "metadata": {
    "scrolled": true
   },
   "outputs": [
    {
     "data": {
      "image/png": "[encoded data removed]",
      "text/plain": [
       "<Figure size 432x288 with 1 Axes>"
      ]
     },
     "metadata": {
      "needs_background": "light"
     },
     "output_type": "display_data"
    }
   ],
   "source": [
    "_=plot_roc_curve(best_xgb, X_train, y_train, pos_label='<30')\n",
    "plt.plot([0, 1], [0, 1], 'k--', color='r')\n",
    "plt.show()"
   ]
  },
  {
   "cell_type": "markdown",
   "id": "f9494d5e",
   "metadata": {},
   "source": [
    "A decent AUC"
   ]
  },
  {
   "cell_type": "markdown",
   "id": "cdfb928e",
   "metadata": {},
   "source": [
    "**Thresholding the xgb classifier:**"
   ]
  },
  {
   "cell_type": "code",
   "execution_count": 48,
   "id": "6aa531dd",
   "metadata": {},
   "outputs": [
    {
     "name": "stdout",
     "output_type": "stream",
     "text": [
      "Best Threshold = 0.10979146\n",
      "OptTPR: 0.760656540911318 OptFPR: 0.18171808642114015\n"
     ]
    }
   ],
   "source": [
    "# 2nd arg for roc_curve must be POSITIVE class probas\n",
    "fpr, tpr, thresholds = roc_curve(y_train, best_xgb.predict_proba(X_train)[:,0], pos_label='<30')\n",
    "gmean = np.sqrt(tpr * (1 - fpr))\n",
    "index = np.argmax(gmean)\n",
    "best_thresh = thresholds[index]\n",
    "print('Best Threshold =', best_thresh)\n",
    "print('OptTPR:',tpr[index],'OptFPR:',fpr[index])"
   ]
  },
  {
   "cell_type": "code",
   "execution_count": 53,
   "id": "ddaf2da6",
   "metadata": {},
   "outputs": [
    {
     "data": {
      "text/html": [
       "<div>\n",
       "<style scoped>\n",
       "    .dataframe tbody tr th:only-of-type {\n",
       "        vertical-align: middle;\n",
       "    }\n",
       "\n",
       "    .dataframe tbody tr th {\n",
       "        vertical-align: top;\n",
       "    }\n",
       "\n",
       "    .dataframe thead th {\n",
       "        text-align: right;\n",
       "    }\n",
       "</style>\n",
       "<table border=\"1\" class=\"dataframe\">\n",
       "  <thead>\n",
       "    <tr style=\"text-align: right;\">\n",
       "      <th></th>\n",
       "      <th>fpr</th>\n",
       "      <th>tpr</th>\n",
       "      <th>threshold</th>\n",
       "      <th>gmean</th>\n",
       "    </tr>\n",
       "  </thead>\n",
       "  <tbody>\n",
       "    <tr>\n",
       "      <th>0</th>\n",
       "      <td>1.000000</td>\n",
       "      <td>1.000000</td>\n",
       "      <td>0.004747</td>\n",
       "      <td>0.000000</td>\n",
       "    </tr>\n",
       "    <tr>\n",
       "      <th>1</th>\n",
       "      <td>0.919893</td>\n",
       "      <td>1.000000</td>\n",
       "      <td>0.032820</td>\n",
       "      <td>0.283032</td>\n",
       "    </tr>\n",
       "    <tr>\n",
       "      <th>2</th>\n",
       "      <td>0.920500</td>\n",
       "      <td>1.000000</td>\n",
       "      <td>0.032754</td>\n",
       "      <td>0.281958</td>\n",
       "    </tr>\n",
       "    <tr>\n",
       "      <th>3</th>\n",
       "      <td>0.920545</td>\n",
       "      <td>1.000000</td>\n",
       "      <td>0.032748</td>\n",
       "      <td>0.281878</td>\n",
       "    </tr>\n",
       "    <tr>\n",
       "      <th>4</th>\n",
       "      <td>0.921017</td>\n",
       "      <td>1.000000</td>\n",
       "      <td>0.032654</td>\n",
       "      <td>0.281040</td>\n",
       "    </tr>\n",
       "    <tr>\n",
       "      <th>...</th>\n",
       "      <td>...</td>\n",
       "      <td>...</td>\n",
       "      <td>...</td>\n",
       "      <td>...</td>\n",
       "    </tr>\n",
       "    <tr>\n",
       "      <th>6776</th>\n",
       "      <td>0.000045</td>\n",
       "      <td>0.051200</td>\n",
       "      <td>0.499700</td>\n",
       "      <td>0.226270</td>\n",
       "    </tr>\n",
       "    <tr>\n",
       "      <th>6777</th>\n",
       "      <td>0.000000</td>\n",
       "      <td>0.048996</td>\n",
       "      <td>0.506043</td>\n",
       "      <td>0.221349</td>\n",
       "    </tr>\n",
       "    <tr>\n",
       "      <th>6778</th>\n",
       "      <td>0.000022</td>\n",
       "      <td>0.048996</td>\n",
       "      <td>0.504771</td>\n",
       "      <td>0.221347</td>\n",
       "    </tr>\n",
       "    <tr>\n",
       "      <th>6779</th>\n",
       "      <td>0.000000</td>\n",
       "      <td>0.000245</td>\n",
       "      <td>0.873475</td>\n",
       "      <td>0.015652</td>\n",
       "    </tr>\n",
       "    <tr>\n",
       "      <th>6780</th>\n",
       "      <td>0.000000</td>\n",
       "      <td>0.000000</td>\n",
       "      <td>1.873475</td>\n",
       "      <td>0.000000</td>\n",
       "    </tr>\n",
       "  </tbody>\n",
       "</table>\n",
       "<p>6781 rows × 4 columns</p>\n",
       "</div>"
      ],
      "text/plain": [
       "           fpr       tpr  threshold     gmean\n",
       "0     1.000000  1.000000   0.004747  0.000000\n",
       "1     0.919893  1.000000   0.032820  0.283032\n",
       "2     0.920500  1.000000   0.032754  0.281958\n",
       "3     0.920545  1.000000   0.032748  0.281878\n",
       "4     0.921017  1.000000   0.032654  0.281040\n",
       "...        ...       ...        ...       ...\n",
       "6776  0.000045  0.051200   0.499700  0.226270\n",
       "6777  0.000000  0.048996   0.506043  0.221349\n",
       "6778  0.000022  0.048996   0.504771  0.221347\n",
       "6779  0.000000  0.000245   0.873475  0.015652\n",
       "6780  0.000000  0.000000   1.873475  0.000000\n",
       "\n",
       "[6781 rows x 4 columns]"
      ]
     },
     "execution_count": 53,
     "metadata": {},
     "output_type": "execute_result"
    }
   ],
   "source": [
    "roc_data = pd.DataFrame(zip(fpr,tpr,thresholds,gmean),columns=['fpr','tpr','threshold','gmean'])\n",
    "roc_data = roc_data.sort_values('tpr', ascending=False).reset_index(drop=True)\n",
    "roc_data"
   ]
  },
  {
   "cell_type": "code",
   "execution_count": 54,
   "id": "224a415b",
   "metadata": {},
   "outputs": [
    {
     "data": {
      "text/plain": [
       "3464"
      ]
     },
     "execution_count": 54,
     "metadata": {},
     "output_type": "execute_result"
    }
   ],
   "source": [
    "np.argmax(roc_data.gmean)"
   ]
  },
  {
   "cell_type": "code",
   "execution_count": 55,
   "id": "93110f34",
   "metadata": {
    "scrolled": true
   },
   "outputs": [
    {
     "data": {
      "text/html": [
       "<div>\n",
       "<style scoped>\n",
       "    .dataframe tbody tr th:only-of-type {\n",
       "        vertical-align: middle;\n",
       "    }\n",
       "\n",
       "    .dataframe tbody tr th {\n",
       "        vertical-align: top;\n",
       "    }\n",
       "\n",
       "    .dataframe thead th {\n",
       "        text-align: right;\n",
       "    }\n",
       "</style>\n",
       "<table border=\"1\" class=\"dataframe\">\n",
       "  <thead>\n",
       "    <tr style=\"text-align: right;\">\n",
       "      <th></th>\n",
       "      <th>fpr</th>\n",
       "      <th>tpr</th>\n",
       "      <th>threshold</th>\n",
       "      <th>gmean</th>\n",
       "    </tr>\n",
       "  </thead>\n",
       "  <tbody>\n",
       "    <tr>\n",
       "      <th>3460</th>\n",
       "      <td>0.182707</td>\n",
       "      <td>0.761146</td>\n",
       "      <td>0.109641</td>\n",
       "      <td>0.788720</td>\n",
       "    </tr>\n",
       "    <tr>\n",
       "      <th>3461</th>\n",
       "      <td>0.182707</td>\n",
       "      <td>0.760902</td>\n",
       "      <td>0.109641</td>\n",
       "      <td>0.788593</td>\n",
       "    </tr>\n",
       "    <tr>\n",
       "      <th>3462</th>\n",
       "      <td>0.182055</td>\n",
       "      <td>0.760902</td>\n",
       "      <td>0.109726</td>\n",
       "      <td>0.788908</td>\n",
       "    </tr>\n",
       "    <tr>\n",
       "      <th>3463</th>\n",
       "      <td>0.182055</td>\n",
       "      <td>0.760657</td>\n",
       "      <td>0.109730</td>\n",
       "      <td>0.788781</td>\n",
       "    </tr>\n",
       "    <tr>\n",
       "      <th>3464</th>\n",
       "      <td>0.181718</td>\n",
       "      <td>0.760657</td>\n",
       "      <td>0.109791</td>\n",
       "      <td>0.788943</td>\n",
       "    </tr>\n",
       "    <tr>\n",
       "      <th>3465</th>\n",
       "      <td>0.181718</td>\n",
       "      <td>0.760412</td>\n",
       "      <td>0.109794</td>\n",
       "      <td>0.788816</td>\n",
       "    </tr>\n",
       "    <tr>\n",
       "      <th>3466</th>\n",
       "      <td>0.181561</td>\n",
       "      <td>0.760412</td>\n",
       "      <td>0.109825</td>\n",
       "      <td>0.788892</td>\n",
       "    </tr>\n",
       "    <tr>\n",
       "      <th>3467</th>\n",
       "      <td>0.181538</td>\n",
       "      <td>0.760167</td>\n",
       "      <td>0.109828</td>\n",
       "      <td>0.788776</td>\n",
       "    </tr>\n",
       "    <tr>\n",
       "      <th>3468</th>\n",
       "      <td>0.181561</td>\n",
       "      <td>0.760167</td>\n",
       "      <td>0.109827</td>\n",
       "      <td>0.788765</td>\n",
       "    </tr>\n",
       "    <tr>\n",
       "      <th>3469</th>\n",
       "      <td>0.181538</td>\n",
       "      <td>0.759922</td>\n",
       "      <td>0.109829</td>\n",
       "      <td>0.788649</td>\n",
       "    </tr>\n",
       "  </tbody>\n",
       "</table>\n",
       "</div>"
      ],
      "text/plain": [
       "           fpr       tpr  threshold     gmean\n",
       "3460  0.182707  0.761146   0.109641  0.788720\n",
       "3461  0.182707  0.760902   0.109641  0.788593\n",
       "3462  0.182055  0.760902   0.109726  0.788908\n",
       "3463  0.182055  0.760657   0.109730  0.788781\n",
       "3464  0.181718  0.760657   0.109791  0.788943\n",
       "3465  0.181718  0.760412   0.109794  0.788816\n",
       "3466  0.181561  0.760412   0.109825  0.788892\n",
       "3467  0.181538  0.760167   0.109828  0.788776\n",
       "3468  0.181561  0.760167   0.109827  0.788765\n",
       "3469  0.181538  0.759922   0.109829  0.788649"
      ]
     },
     "execution_count": 55,
     "metadata": {},
     "output_type": "execute_result"
    }
   ],
   "source": [
    "roc_data.iloc[3460:3470]"
   ]
  },
  {
   "cell_type": "code",
   "execution_count": 59,
   "id": "cc46efd3",
   "metadata": {},
   "outputs": [
    {
     "data": {
      "text/plain": [
       "array(['<30', 'Other'], dtype=object)"
      ]
     },
     "execution_count": 59,
     "metadata": {},
     "output_type": "execute_result"
    }
   ],
   "source": [
    "best_xgb.classes_"
   ]
  },
  {
   "cell_type": "code",
   "execution_count": 74,
   "id": "207b2aaf",
   "metadata": {},
   "outputs": [
    {
     "name": "stdout",
     "output_type": "stream",
     "text": [
      "   Pos_class_proba     class\n",
      "0         0.102941  0.897059\n",
      "1         0.066375  0.933625\n",
      "2         0.016368  0.983632\n",
      "3         0.036854  0.963146\n",
      "4         0.096858  0.903142\n",
      "   Pos_class_proba  class\n",
      "0         0.102941  Other\n",
      "1         0.066375  Other\n",
      "2         0.016368  Other\n",
      "3         0.036854  Other\n",
      "4         0.096858  Other\n"
     ]
    }
   ],
   "source": [
    "threshold = 0.109791\n",
    "\n",
    "X_test_proba = pd.DataFrame(best_xgb.predict_proba(X_test), columns=['Pos_class_proba','class'])\n",
    "\n",
    "print(X_test_proba.head())\n",
    "\n",
    "for i in range(len(X_test_proba)):\n",
    "    if X_test_proba['Pos_class_proba'].iloc[i] > threshold:\n",
    "        X_test_proba['class'].iloc[i] = '<30'\n",
    "    else:\n",
    "        X_test_proba['class'].iloc[i] = 'Other'\n",
    "\n",
    "print(X_test_proba.head())\n",
    "\n",
    "y_pred_thresh = X_test_proba"
   ]
  },
  {
   "cell_type": "code",
   "execution_count": 80,
   "id": "1fcd1b9a",
   "metadata": {},
   "outputs": [
    {
     "data": {
      "text/plain": [
       "Other    12264\n",
       "<30       3932\n",
       "Name: class, dtype: int64"
      ]
     },
     "execution_count": 80,
     "metadata": {},
     "output_type": "execute_result"
    }
   ],
   "source": [
    "y_pred_thresh['class'].value_counts()"
   ]
  },
  {
   "cell_type": "code",
   "execution_count": 87,
   "id": "8260cbd3",
   "metadata": {},
   "outputs": [
    {
     "name": "stdout",
     "output_type": "stream",
     "text": [
      "              precision    recall  f1-score   support\n",
      "\n",
      "         <30       0.14      0.40      0.21      1373\n",
      "       Other       0.93      0.77      0.85     14823\n",
      "\n",
      "    accuracy                           0.74     16196\n",
      "   macro avg       0.54      0.59      0.53     16196\n",
      "weighted avg       0.87      0.74      0.79     16196\n",
      "\n"
     ]
    }
   ],
   "source": [
    "print(classification_report(y_test, y_pred_thresh['class'], labels=best_xgb.classes_))"
   ]
  },
  {
   "cell_type": "markdown",
   "id": "70253519",
   "metadata": {},
   "source": [
    "Our best-looking classification report yet. The highest f1-score on our target class by a huge margin."
   ]
  },
  {
   "cell_type": "code",
   "execution_count": 89,
   "id": "90baf382",
   "metadata": {},
   "outputs": [
    {
     "data": {
      "text/plain": [
       "Other    14823\n",
       "<30       1373\n",
       "dtype: int64"
      ]
     },
     "execution_count": 89,
     "metadata": {},
     "output_type": "execute_result"
    }
   ],
   "source": [
    "y_test_df = pd.DataFrame(y_test)\n",
    "y_test_df.value_counts()"
   ]
  },
  {
   "cell_type": "markdown",
   "id": "344e3914",
   "metadata": {},
   "source": [
    "**XGB With Over-Sampling of the minority (Target) class:**"
   ]
  },
  {
   "cell_type": "code",
   "execution_count": 82,
   "id": "2d776b32",
   "metadata": {},
   "outputs": [
    {
     "name": "stdout",
     "output_type": "stream",
     "text": [
      "1 seconds elapsed.\n"
     ]
    }
   ],
   "source": [
    "from imblearn.over_sampling import RandomOverSampler\n",
    "\n",
    "start=timer()\n",
    "\n",
    "ros = RandomOverSampler(sampling_strategy=1, random_state=None)     #set 1:1 ratio for pos_class:neg_class\n",
    "Xtr_res, ytr_res = ros.fit_resample(X_train, y_train)\n",
    "\n",
    "end=timer()\n",
    "print(f'{round(end-start)} seconds elapsed.')"
   ]
  },
  {
   "cell_type": "code",
   "execution_count": 83,
   "id": "4cadd8c4",
   "metadata": {},
   "outputs": [
    {
     "data": {
      "text/plain": [
       "((48585, 2298), (48585,))"
      ]
     },
     "execution_count": 83,
     "metadata": {},
     "output_type": "execute_result"
    }
   ],
   "source": [
    "X_train.shape, y_train.shape"
   ]
  },
  {
   "cell_type": "code",
   "execution_count": 84,
   "id": "a019ad44",
   "metadata": {},
   "outputs": [
    {
     "data": {
      "text/plain": [
       "((89006, 2298), (89006,))"
      ]
     },
     "execution_count": 84,
     "metadata": {},
     "output_type": "execute_result"
    }
   ],
   "source": [
    "Xtr_res.shape, ytr_res.shape"
   ]
  },
  {
   "cell_type": "code",
   "execution_count": 85,
   "id": "e4d523c9",
   "metadata": {},
   "outputs": [
    {
     "data": {
      "text/plain": [
       "<30      44503\n",
       "Other    44503\n",
       "dtype: int64"
      ]
     },
     "execution_count": 85,
     "metadata": {},
     "output_type": "execute_result"
    }
   ],
   "source": [
    "pd.DataFrame(ytr_res).value_counts()"
   ]
  },
  {
   "cell_type": "code",
   "execution_count": 86,
   "id": "df3f4195",
   "metadata": {},
   "outputs": [
    {
     "data": {
      "text/plain": [
       "0.5"
      ]
     },
     "execution_count": 86,
     "metadata": {},
     "output_type": "execute_result"
    }
   ],
   "source": [
    "pd.DataFrame(ytr_res).value_counts()[1]/pd.DataFrame(ytr_res).value_counts().sum()"
   ]
  },
  {
   "cell_type": "code",
   "execution_count": 91,
   "id": "4feff04d",
   "metadata": {},
   "outputs": [],
   "source": [
    "res_xgbclf = xgb.XGBClassifier(objective='binary:logistic')\n",
    "\n",
    "param_dist = {'learning_rate': np.arange(0.0, 1.0, 0.1),\n",
    "              'n_estimators': np.arange(100, 1000, 100),\n",
    "              'max_depth': np.arange(3, 15, 2)}\n",
    "\n",
    "res_xgbclf_cv = RandomizedSearchCV(res_xgbclf, param_dist, cv=5, verbose=2, n_jobs=-1)"
   ]
  },
  {
   "cell_type": "code",
   "execution_count": null,
   "id": "ba47d1f5",
   "metadata": {},
   "outputs": [],
   "source": [
    "start = timer()\n",
    "\n",
    "res_xgbclf_cv = res_xgbclf_cv.fit(Xtr_res, ytr_res)\n",
    "\n",
    "end = timer()\n",
    "print(f'{round(end - start)} seconds elapsed.')"
   ]
  },
  {
   "cell_type": "code",
   "execution_count": null,
   "id": "fcc50eb2",
   "metadata": {},
   "outputs": [],
   "source": [
    "print(\"Best Score:\" + str(res_xgbclf_cv.best_score_))\n",
    "print(\"Best Parameters: \" + str(res_xgbclf_cv.best_params_))"
   ]
  },
  {
   "cell_type": "code",
   "execution_count": 92,
   "id": "0eae4249",
   "metadata": {},
   "outputs": [],
   "source": [
    "params = {'n_estimators': 500, 'max_depth': 13, 'learning_rate': 0.5}\n",
    "best_xgb_res = xgb.XGBClassifier(**params, objective='binary:logistic', n_jobs=-1)"
   ]
  },
  {
   "cell_type": "code",
   "execution_count": 93,
   "id": "708073a6",
   "metadata": {},
   "outputs": [
    {
     "name": "stdout",
     "output_type": "stream",
     "text": [
      "[12:11:19] WARNING: ..\\src\\learner.cc:1115: Starting in XGBoost 1.3.0, the default evaluation metric used with the objective 'binary:logistic' was changed from 'error' to 'logloss'. Explicitly set eval_metric if you'd like to restore the old behavior.\n",
      "Training Accuracy: 1.0\n",
      "1393 seconds elapsed.\n"
     ]
    }
   ],
   "source": [
    "start = timer()\n",
    "\n",
    "best_xgb_res = best_xgb_res.fit(Xtr_res, ytr_res)\n",
    "\n",
    "print('Training Accuracy:', best_xgb_res.score(Xtr_res, ytr_res))\n",
    "\n",
    "end = timer()\n",
    "print(f'{round(end-start)} seconds elapsed.')"
   ]
  },
  {
   "cell_type": "code",
   "execution_count": 94,
   "id": "7ef5231f",
   "metadata": {},
   "outputs": [
    {
     "name": "stdout",
     "output_type": "stream",
     "text": [
      "              precision    recall  f1-score   support\n",
      "\n",
      "         <30       0.18      0.06      0.09      1373\n",
      "       Other       0.92      0.97      0.95     14823\n",
      "\n",
      "    accuracy                           0.90     16196\n",
      "   macro avg       0.55      0.52      0.52     16196\n",
      "weighted avg       0.86      0.90      0.87     16196\n",
      "\n"
     ]
    }
   ],
   "source": [
    "y_pred_res = best_xgb_res.predict(X_test)\n",
    "print(classification_report(y_test, y_pred_res, labels=best_xgb_res.classes_))"
   ]
  },
  {
   "cell_type": "markdown",
   "id": "d3a4c297",
   "metadata": {},
   "source": [
    "A good improvement for simply oversampling to a 1:1 ratio on a roughly-tuned XGBClassifier model."
   ]
  },
  {
   "cell_type": "code",
   "execution_count": 95,
   "id": "3678cd72",
   "metadata": {},
   "outputs": [
    {
     "name": "stdout",
     "output_type": "stream",
     "text": [
      "                            Features  Importance scores\n",
      "0                  admission_type_id           0.000516\n",
      "1           discharge_disposition_id           0.001118\n",
      "2                admission_source_id           0.000525\n",
      "3                   time_in_hospital           0.000474\n",
      "4                 num_lab_procedures           0.000497\n",
      "...                              ...                ...\n",
      "2293      glipizide-metformin_Steady           0.000000\n",
      "2294  metformin-rosiglitazone_Steady           0.000000\n",
      "2295   metformin-pioglitazone_Steady           0.000000\n",
      "2296                       change_No           0.000444\n",
      "2297                 diabetesMed_Yes           0.000602\n",
      "\n",
      "[2298 rows x 2 columns]\n",
      "                                        Features  Importance scores\n",
      "1154                                  diag_2_583           0.008278\n",
      "1450                                 diag_2_E936           0.006679\n",
      "1563                                  diag_3_236           0.005233\n",
      "314                                   diag_1_374           0.004345\n",
      "395                                    diag_1_47           0.004245\n",
      "1995                                  diag_3_755           0.004164\n",
      "61    medical_specialty_Pediatrics-Endocrinology           0.003927\n",
      "1957                                  diag_3_712           0.003895\n",
      "223                                   diag_1_255           0.003829\n",
      "1517                                  diag_3_154           0.003691\n",
      "73                  medical_specialty_Psychology           0.003437\n",
      "1858                                  diag_3_573           0.003390\n",
      "2228                                  diag_3_V49           0.003057\n",
      "772                                   diag_1_V57           0.002940\n",
      "139                                   diag_1_189           0.002885\n",
      "1889                                  diag_3_607           0.002843\n",
      "1132                                  diag_2_557           0.002736\n",
      "759                                   diag_1_997           0.002734\n",
      "1159                                  diag_2_590           0.002700\n",
      "55              medical_specialty_Otolaryngology           0.002639\n",
      "240                                   diag_1_284           0.002605\n",
      "1467                                  diag_2_V10           0.002552\n",
      "1841                                  diag_3_553           0.002542\n",
      "113                                   diag_1_151           0.002512\n",
      "894                                   diag_2_260           0.002486\n",
      "1932                                  diag_3_681           0.002346\n",
      "798                                   diag_2_153           0.002331\n",
      "164                                   diag_1_218           0.002305\n",
      "116                                   diag_1_154           0.002302\n",
      "1783                                  diag_3_466           0.002234\n"
     ]
    }
   ],
   "source": [
    "features = X.keys()\n",
    "imp = list(best_xgb_res.feature_importances_)\n",
    "imp_df = pd.DataFrame((zip(features, imp)), columns=['Features', 'Importance scores'])\n",
    "print(imp_df)\n",
    "imp_df = imp_df.sort_values('Importance scores', ascending=False)\n",
    "print(imp_df.head(30))"
   ]
  },
  {
   "cell_type": "code",
   "execution_count": 96,
   "id": "5ba1ac7a",
   "metadata": {},
   "outputs": [
    {
     "data": {
      "image/png": "[encoded data removed]",
      "text/plain": [
       "<Figure size 432x288 with 1 Axes>"
      ]
     },
     "metadata": {
      "needs_background": "light"
     },
     "output_type": "display_data"
    }
   ],
   "source": [
    "_=plot_roc_curve(best_xgb_res, Xtr_res, ytr_res, pos_label='<30')\n",
    "plt.plot([0, 1], [0, 1], 'k--', color='r')\n",
    "plt.show()"
   ]
  },
  {
   "cell_type": "markdown",
   "id": "8bcecbae",
   "metadata": {},
   "source": [
    "The model is overfitting, and will likely not generalize well."
   ]
  },
  {
   "cell_type": "code",
   "execution_count": 97,
   "id": "cb3203da",
   "metadata": {
    "scrolled": true
   },
   "outputs": [
    {
     "data": {
      "image/png": "[encoded data removed]",
      "text/plain": [
       "<Figure size 432x288 with 1 Axes>"
      ]
     },
     "metadata": {
      "needs_background": "light"
     },
     "output_type": "display_data"
    }
   ],
   "source": [
    "_=plot_roc_curve(best_xgb_res, X_test, y_test, pos_label='<30')\n",
    "plt.plot([0, 1], [0, 1], 'k--', color='r')\n",
    "plt.show()"
   ]
  },
  {
   "cell_type": "markdown",
   "id": "5e8e261a",
   "metadata": {},
   "source": [
    "0.59 is a poor AUC, but with more tuning, the oversampling method would probably prove beneficial."
   ]
  },
  {
   "cell_type": "code",
   "execution_count": 98,
   "id": "0f5c9cf4",
   "metadata": {},
   "outputs": [
    {
     "name": "stdout",
     "output_type": "stream",
     "text": [
      "Best Threshold = 0.90365255\n",
      "OptTPR: 1.0 OptFPR: 0.0\n"
     ]
    }
   ],
   "source": [
    "# 2nd arg for roc_curve must be POSITIVE class probas\n",
    "fpr, tpr, thresholds = roc_curve(y_test, best_xgb_res.predict_proba(X_test)[:,0], pos_label='<30')\n",
    "gmean = np.sqrt(tpr * (1 - fpr))\n",
    "index = np.argmax(gmean)\n",
    "best_thresh = thresholds[index]\n",
    "print('Best Threshold =', best_thresh)\n",
    "print('OptTPR:',tpr[index],'OptFPR:',fpr[index])"
   ]
  },
  {
   "cell_type": "code",
   "execution_count": 99,
   "id": "a2a862c1",
   "metadata": {},
   "outputs": [
    {
     "name": "stdout",
     "output_type": "stream",
     "text": [
      "Best Threshold = 0.0069440007\n",
      "OptTPR: 0.6307356154406409 OptFPR: 0.4978749241044323\n"
     ]
    }
   ],
   "source": [
    "# 2nd arg for roc_curve must be POSITIVE class probas\n",
    "fpr, tpr, thresholds = roc_curve(y_test, best_xgb_res.predict_proba(X_test)[:,0], pos_label='<30')\n",
    "gmean = np.sqrt(tpr * (1 - fpr))\n",
    "index = np.argmax(gmean)\n",
    "best_thresh = thresholds[index]\n",
    "print('Best Threshold =', best_thresh)\n",
    "print('OptTPR:',tpr[index],'OptFPR:',fpr[index])"
   ]
  },
  {
   "cell_type": "markdown",
   "id": "b2cba5d3",
   "metadata": {},
   "source": [
    "The best model would most likely be an XGBClassifier with the use of thresholding and oversampling on the minority class."
   ]
  }
 ],
 "metadata": {
  "kernelspec": {
   "display_name": "Python 3 (ipykernel)",
   "language": "python",
   "name": "python3"
  },
  "language_info": {
   "codemirror_mode": {
    "name": "ipython",
    "version": 3
   },
   "file_extension": ".py",
   "mimetype": "text/x-python",
   "name": "python",
   "nbconvert_exporter": "python",
   "pygments_lexer": "ipython3",
   "version": "3.8.13"
  }
 },
 "nbformat": 4,
 "nbformat_minor": 5
}
