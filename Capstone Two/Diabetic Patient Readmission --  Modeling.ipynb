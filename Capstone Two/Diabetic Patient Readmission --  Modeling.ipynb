{
 "cells": [
  {
   "cell_type": "markdown",
   "id": "2290b883",
   "metadata": {},
   "source": [
    "# **Diabetic Patient Readmission: Modeling**\n",
    "\n",
    "This dataset was analyzed by numerous Virginia Commonwealth University faculty in a recent research article which is accompanied by feature descriptions. These can be found at https://www.hindawi.com/journals/bmri/2014/781670/tab1/."
   ]
  },
  {
   "cell_type": "code",
   "execution_count": 19,
   "id": "439d816c",
   "metadata": {},
   "outputs": [],
   "source": [
    "import os\n",
    "\n",
    "import warnings\n",
    "warnings.simplefilter(action='ignore', category=FutureWarning)\n",
    "warnings.simplefilter(action='ignore', category=UserWarning)\n",
    "\n",
    "import numpy as np\n",
    "import pandas as pd\n",
    "\n",
    "import matplotlib.pyplot as plt\n",
    "import seaborn as sns\n",
    "\n",
    "from sklearn.pipeline import Pipeline\n",
    "\n",
    "from sklearn.model_selection import train_test_split, cross_validate, RandomizedSearchCV\n",
    "\n",
    "from sklearn.preprocessing import StandardScaler\n",
    "\n",
    "from sklearn.neighbors import KNeighborsClassifier\n",
    "from sklearn.ensemble import RandomForestClassifier\n",
    "import xgboost as xgb\n",
    "\n",
    "from sklearn.feature_selection import chi2\n",
    "from sklearn.metrics import classification_report, accuracy_score, roc_auc_score\n",
    "\n",
    "from timeit import default_timer as timer\n",
    "\n",
    "%matplotlib inline\n",
    "\n",
    "np.random.seed(42)"
   ]
  },
  {
   "cell_type": "code",
   "execution_count": 2,
   "id": "26e710e6",
   "metadata": {},
   "outputs": [
    {
     "data": {
      "text/html": [
       "<div>\n",
       "<style scoped>\n",
       "    .dataframe tbody tr th:only-of-type {\n",
       "        vertical-align: middle;\n",
       "    }\n",
       "\n",
       "    .dataframe tbody tr th {\n",
       "        vertical-align: top;\n",
       "    }\n",
       "\n",
       "    .dataframe thead th {\n",
       "        text-align: right;\n",
       "    }\n",
       "</style>\n",
       "<table border=\"1\" class=\"dataframe\">\n",
       "  <thead>\n",
       "    <tr style=\"text-align: right;\">\n",
       "      <th></th>\n",
       "      <th>encounter_id</th>\n",
       "      <th>patient_nbr</th>\n",
       "      <th>race</th>\n",
       "      <th>gender</th>\n",
       "      <th>age</th>\n",
       "      <th>admission_type_id</th>\n",
       "      <th>discharge_disposition_id</th>\n",
       "      <th>admission_source_id</th>\n",
       "      <th>time_in_hospital</th>\n",
       "      <th>medical_specialty</th>\n",
       "      <th>...</th>\n",
       "      <th>tolazamide</th>\n",
       "      <th>insulin</th>\n",
       "      <th>glyburide-metformin</th>\n",
       "      <th>glipizide-metformin</th>\n",
       "      <th>glimepiride-pioglitazone</th>\n",
       "      <th>metformin-rosiglitazone</th>\n",
       "      <th>metformin-pioglitazone</th>\n",
       "      <th>change</th>\n",
       "      <th>diabetesMed</th>\n",
       "      <th>readmitted</th>\n",
       "    </tr>\n",
       "  </thead>\n",
       "  <tbody>\n",
       "    <tr>\n",
       "      <th>0</th>\n",
       "      <td>2278392</td>\n",
       "      <td>8222157</td>\n",
       "      <td>Caucasian</td>\n",
       "      <td>Female</td>\n",
       "      <td>[0-10)</td>\n",
       "      <td>6</td>\n",
       "      <td>25</td>\n",
       "      <td>1</td>\n",
       "      <td>1</td>\n",
       "      <td>Pediatrics-Endocrinology</td>\n",
       "      <td>...</td>\n",
       "      <td>No</td>\n",
       "      <td>No</td>\n",
       "      <td>No</td>\n",
       "      <td>No</td>\n",
       "      <td>No</td>\n",
       "      <td>No</td>\n",
       "      <td>No</td>\n",
       "      <td>No</td>\n",
       "      <td>No</td>\n",
       "      <td>Other</td>\n",
       "    </tr>\n",
       "    <tr>\n",
       "      <th>1</th>\n",
       "      <td>149190</td>\n",
       "      <td>55629189</td>\n",
       "      <td>Caucasian</td>\n",
       "      <td>Female</td>\n",
       "      <td>[10-20)</td>\n",
       "      <td>1</td>\n",
       "      <td>1</td>\n",
       "      <td>7</td>\n",
       "      <td>3</td>\n",
       "      <td>missing</td>\n",
       "      <td>...</td>\n",
       "      <td>No</td>\n",
       "      <td>Up</td>\n",
       "      <td>No</td>\n",
       "      <td>No</td>\n",
       "      <td>No</td>\n",
       "      <td>No</td>\n",
       "      <td>No</td>\n",
       "      <td>Ch</td>\n",
       "      <td>Yes</td>\n",
       "      <td>Other</td>\n",
       "    </tr>\n",
       "    <tr>\n",
       "      <th>2</th>\n",
       "      <td>500364</td>\n",
       "      <td>82442376</td>\n",
       "      <td>Caucasian</td>\n",
       "      <td>Male</td>\n",
       "      <td>[30-40)</td>\n",
       "      <td>1</td>\n",
       "      <td>1</td>\n",
       "      <td>7</td>\n",
       "      <td>2</td>\n",
       "      <td>missing</td>\n",
       "      <td>...</td>\n",
       "      <td>No</td>\n",
       "      <td>Up</td>\n",
       "      <td>No</td>\n",
       "      <td>No</td>\n",
       "      <td>No</td>\n",
       "      <td>No</td>\n",
       "      <td>No</td>\n",
       "      <td>Ch</td>\n",
       "      <td>Yes</td>\n",
       "      <td>Other</td>\n",
       "    </tr>\n",
       "    <tr>\n",
       "      <th>3</th>\n",
       "      <td>16680</td>\n",
       "      <td>42519267</td>\n",
       "      <td>Caucasian</td>\n",
       "      <td>Male</td>\n",
       "      <td>[40-50)</td>\n",
       "      <td>1</td>\n",
       "      <td>1</td>\n",
       "      <td>7</td>\n",
       "      <td>1</td>\n",
       "      <td>missing</td>\n",
       "      <td>...</td>\n",
       "      <td>No</td>\n",
       "      <td>Steady</td>\n",
       "      <td>No</td>\n",
       "      <td>No</td>\n",
       "      <td>No</td>\n",
       "      <td>No</td>\n",
       "      <td>No</td>\n",
       "      <td>Ch</td>\n",
       "      <td>Yes</td>\n",
       "      <td>Other</td>\n",
       "    </tr>\n",
       "    <tr>\n",
       "      <th>4</th>\n",
       "      <td>35754</td>\n",
       "      <td>82637451</td>\n",
       "      <td>Caucasian</td>\n",
       "      <td>Male</td>\n",
       "      <td>[50-60)</td>\n",
       "      <td>2</td>\n",
       "      <td>1</td>\n",
       "      <td>2</td>\n",
       "      <td>3</td>\n",
       "      <td>missing</td>\n",
       "      <td>...</td>\n",
       "      <td>No</td>\n",
       "      <td>Steady</td>\n",
       "      <td>No</td>\n",
       "      <td>No</td>\n",
       "      <td>No</td>\n",
       "      <td>No</td>\n",
       "      <td>No</td>\n",
       "      <td>No</td>\n",
       "      <td>Yes</td>\n",
       "      <td>Other</td>\n",
       "    </tr>\n",
       "  </tbody>\n",
       "</table>\n",
       "<p>5 rows × 45 columns</p>\n",
       "</div>"
      ],
      "text/plain": [
       "   encounter_id  patient_nbr       race  gender      age  admission_type_id  \\\n",
       "0       2278392      8222157  Caucasian  Female   [0-10)                  6   \n",
       "1        149190     55629189  Caucasian  Female  [10-20)                  1   \n",
       "2        500364     82442376  Caucasian    Male  [30-40)                  1   \n",
       "3         16680     42519267  Caucasian    Male  [40-50)                  1   \n",
       "4         35754     82637451  Caucasian    Male  [50-60)                  2   \n",
       "\n",
       "   discharge_disposition_id  admission_source_id  time_in_hospital  \\\n",
       "0                        25                    1                 1   \n",
       "1                         1                    7                 3   \n",
       "2                         1                    7                 2   \n",
       "3                         1                    7                 1   \n",
       "4                         1                    2                 3   \n",
       "\n",
       "          medical_specialty  ...  tolazamide  insulin  glyburide-metformin  \\\n",
       "0  Pediatrics-Endocrinology  ...          No       No                   No   \n",
       "1                   missing  ...          No       Up                   No   \n",
       "2                   missing  ...          No       Up                   No   \n",
       "3                   missing  ...          No   Steady                   No   \n",
       "4                   missing  ...          No   Steady                   No   \n",
       "\n",
       "   glipizide-metformin  glimepiride-pioglitazone metformin-rosiglitazone  \\\n",
       "0                   No                        No                      No   \n",
       "1                   No                        No                      No   \n",
       "2                   No                        No                      No   \n",
       "3                   No                        No                      No   \n",
       "4                   No                        No                      No   \n",
       "\n",
       "  metformin-pioglitazone change  diabetesMed readmitted  \n",
       "0                     No     No           No      Other  \n",
       "1                     No     Ch          Yes      Other  \n",
       "2                     No     Ch          Yes      Other  \n",
       "3                     No     Ch          Yes      Other  \n",
       "4                     No     No          Yes      Other  \n",
       "\n",
       "[5 rows x 45 columns]"
      ]
     },
     "execution_count": 2,
     "metadata": {},
     "output_type": "execute_result"
    }
   ],
   "source": [
    "df1 = pd.read_csv(\"clean_data2.csv\")\n",
    "df1.head()"
   ]
  },
  {
   "cell_type": "markdown",
   "id": "ed079062",
   "metadata": {},
   "source": [
    "# Pre-processing:"
   ]
  },
  {
   "cell_type": "code",
   "execution_count": 3,
   "id": "0e2ff79f",
   "metadata": {},
   "outputs": [],
   "source": [
    "df1 = df1.drop(columns=['encounter_id','patient_nbr'])    #irrelevant for modeling"
   ]
  },
  {
   "cell_type": "code",
   "execution_count": 4,
   "id": "ad1dad74",
   "metadata": {},
   "outputs": [
    {
     "data": {
      "text/plain": [
       "((64781, 42), (64781,))"
      ]
     },
     "execution_count": 4,
     "metadata": {},
     "output_type": "execute_result"
    }
   ],
   "source": [
    "X = df1.drop(columns=['readmitted'])\n",
    "y = df1[['readmitted']].values.ravel()\n",
    "X.shape, y.shape"
   ]
  },
  {
   "cell_type": "code",
   "execution_count": 5,
   "id": "f5339212",
   "metadata": {
    "scrolled": true
   },
   "outputs": [
    {
     "data": {
      "text/html": [
       "<div>\n",
       "<style scoped>\n",
       "    .dataframe tbody tr th:only-of-type {\n",
       "        vertical-align: middle;\n",
       "    }\n",
       "\n",
       "    .dataframe tbody tr th {\n",
       "        vertical-align: top;\n",
       "    }\n",
       "\n",
       "    .dataframe thead th {\n",
       "        text-align: right;\n",
       "    }\n",
       "</style>\n",
       "<table border=\"1\" class=\"dataframe\">\n",
       "  <thead>\n",
       "    <tr style=\"text-align: right;\">\n",
       "      <th></th>\n",
       "      <th>admission_type_id</th>\n",
       "      <th>discharge_disposition_id</th>\n",
       "      <th>admission_source_id</th>\n",
       "      <th>time_in_hospital</th>\n",
       "      <th>num_lab_procedures</th>\n",
       "      <th>num_procedures</th>\n",
       "      <th>num_medications</th>\n",
       "      <th>number_outpatient</th>\n",
       "      <th>number_emergency</th>\n",
       "      <th>number_diagnoses</th>\n",
       "      <th>...</th>\n",
       "      <th>insulin_Steady</th>\n",
       "      <th>insulin_Up</th>\n",
       "      <th>glyburide-metformin_No</th>\n",
       "      <th>glyburide-metformin_Steady</th>\n",
       "      <th>glyburide-metformin_Up</th>\n",
       "      <th>glipizide-metformin_Steady</th>\n",
       "      <th>metformin-rosiglitazone_Steady</th>\n",
       "      <th>metformin-pioglitazone_Steady</th>\n",
       "      <th>change_No</th>\n",
       "      <th>diabetesMed_Yes</th>\n",
       "    </tr>\n",
       "  </thead>\n",
       "  <tbody>\n",
       "    <tr>\n",
       "      <th>0</th>\n",
       "      <td>6</td>\n",
       "      <td>25</td>\n",
       "      <td>1</td>\n",
       "      <td>1</td>\n",
       "      <td>41</td>\n",
       "      <td>0</td>\n",
       "      <td>1</td>\n",
       "      <td>0</td>\n",
       "      <td>0</td>\n",
       "      <td>1</td>\n",
       "      <td>...</td>\n",
       "      <td>0</td>\n",
       "      <td>0</td>\n",
       "      <td>1</td>\n",
       "      <td>0</td>\n",
       "      <td>0</td>\n",
       "      <td>0</td>\n",
       "      <td>0</td>\n",
       "      <td>0</td>\n",
       "      <td>1</td>\n",
       "      <td>0</td>\n",
       "    </tr>\n",
       "    <tr>\n",
       "      <th>1</th>\n",
       "      <td>1</td>\n",
       "      <td>1</td>\n",
       "      <td>7</td>\n",
       "      <td>3</td>\n",
       "      <td>59</td>\n",
       "      <td>0</td>\n",
       "      <td>18</td>\n",
       "      <td>0</td>\n",
       "      <td>0</td>\n",
       "      <td>9</td>\n",
       "      <td>...</td>\n",
       "      <td>0</td>\n",
       "      <td>1</td>\n",
       "      <td>1</td>\n",
       "      <td>0</td>\n",
       "      <td>0</td>\n",
       "      <td>0</td>\n",
       "      <td>0</td>\n",
       "      <td>0</td>\n",
       "      <td>0</td>\n",
       "      <td>1</td>\n",
       "    </tr>\n",
       "    <tr>\n",
       "      <th>2</th>\n",
       "      <td>1</td>\n",
       "      <td>1</td>\n",
       "      <td>7</td>\n",
       "      <td>2</td>\n",
       "      <td>44</td>\n",
       "      <td>1</td>\n",
       "      <td>16</td>\n",
       "      <td>0</td>\n",
       "      <td>0</td>\n",
       "      <td>7</td>\n",
       "      <td>...</td>\n",
       "      <td>0</td>\n",
       "      <td>1</td>\n",
       "      <td>1</td>\n",
       "      <td>0</td>\n",
       "      <td>0</td>\n",
       "      <td>0</td>\n",
       "      <td>0</td>\n",
       "      <td>0</td>\n",
       "      <td>0</td>\n",
       "      <td>1</td>\n",
       "    </tr>\n",
       "    <tr>\n",
       "      <th>3</th>\n",
       "      <td>1</td>\n",
       "      <td>1</td>\n",
       "      <td>7</td>\n",
       "      <td>1</td>\n",
       "      <td>51</td>\n",
       "      <td>0</td>\n",
       "      <td>8</td>\n",
       "      <td>0</td>\n",
       "      <td>0</td>\n",
       "      <td>5</td>\n",
       "      <td>...</td>\n",
       "      <td>1</td>\n",
       "      <td>0</td>\n",
       "      <td>1</td>\n",
       "      <td>0</td>\n",
       "      <td>0</td>\n",
       "      <td>0</td>\n",
       "      <td>0</td>\n",
       "      <td>0</td>\n",
       "      <td>0</td>\n",
       "      <td>1</td>\n",
       "    </tr>\n",
       "    <tr>\n",
       "      <th>4</th>\n",
       "      <td>2</td>\n",
       "      <td>1</td>\n",
       "      <td>2</td>\n",
       "      <td>3</td>\n",
       "      <td>31</td>\n",
       "      <td>6</td>\n",
       "      <td>16</td>\n",
       "      <td>0</td>\n",
       "      <td>0</td>\n",
       "      <td>9</td>\n",
       "      <td>...</td>\n",
       "      <td>1</td>\n",
       "      <td>0</td>\n",
       "      <td>1</td>\n",
       "      <td>0</td>\n",
       "      <td>0</td>\n",
       "      <td>0</td>\n",
       "      <td>0</td>\n",
       "      <td>0</td>\n",
       "      <td>1</td>\n",
       "      <td>1</td>\n",
       "    </tr>\n",
       "  </tbody>\n",
       "</table>\n",
       "<p>5 rows × 2298 columns</p>\n",
       "</div>"
      ],
      "text/plain": [
       "   admission_type_id  discharge_disposition_id  admission_source_id  \\\n",
       "0                  6                        25                    1   \n",
       "1                  1                         1                    7   \n",
       "2                  1                         1                    7   \n",
       "3                  1                         1                    7   \n",
       "4                  2                         1                    2   \n",
       "\n",
       "   time_in_hospital  num_lab_procedures  num_procedures  num_medications  \\\n",
       "0                 1                  41               0                1   \n",
       "1                 3                  59               0               18   \n",
       "2                 2                  44               1               16   \n",
       "3                 1                  51               0                8   \n",
       "4                 3                  31               6               16   \n",
       "\n",
       "   number_outpatient  number_emergency  number_diagnoses  ...  insulin_Steady  \\\n",
       "0                  0                 0                 1  ...               0   \n",
       "1                  0                 0                 9  ...               0   \n",
       "2                  0                 0                 7  ...               0   \n",
       "3                  0                 0                 5  ...               1   \n",
       "4                  0                 0                 9  ...               1   \n",
       "\n",
       "   insulin_Up  glyburide-metformin_No  glyburide-metformin_Steady  \\\n",
       "0           0                       1                           0   \n",
       "1           1                       1                           0   \n",
       "2           1                       1                           0   \n",
       "3           0                       1                           0   \n",
       "4           0                       1                           0   \n",
       "\n",
       "   glyburide-metformin_Up  glipizide-metformin_Steady  \\\n",
       "0                       0                           0   \n",
       "1                       0                           0   \n",
       "2                       0                           0   \n",
       "3                       0                           0   \n",
       "4                       0                           0   \n",
       "\n",
       "   metformin-rosiglitazone_Steady  metformin-pioglitazone_Steady  change_No  \\\n",
       "0                               0                              0          1   \n",
       "1                               0                              0          0   \n",
       "2                               0                              0          0   \n",
       "3                               0                              0          0   \n",
       "4                               0                              0          1   \n",
       "\n",
       "   diabetesMed_Yes  \n",
       "0                0  \n",
       "1                1  \n",
       "2                1  \n",
       "3                1  \n",
       "4                1  \n",
       "\n",
       "[5 rows x 2298 columns]"
      ]
     },
     "execution_count": 5,
     "metadata": {},
     "output_type": "execute_result"
    }
   ],
   "source": [
    "X = pd.get_dummies(X, drop_first=True)\n",
    "X.head()"
   ]
  },
  {
   "cell_type": "code",
   "execution_count": 6,
   "id": "35acadf9",
   "metadata": {
    "scrolled": true
   },
   "outputs": [
    {
     "name": "stdout",
     "output_type": "stream",
     "text": [
      "4 seconds elapsed.\n"
     ]
    }
   ],
   "source": [
    "scaler = StandardScaler()\n",
    "X_scaled = scaler.fit_transform(X)"
   ]
  },
  {
   "cell_type": "markdown",
   "id": "5fd2db68",
   "metadata": {},
   "source": [
    "# Train-test split:"
   ]
  },
  {
   "cell_type": "code",
   "execution_count": 7,
   "id": "716c6521",
   "metadata": {},
   "outputs": [],
   "source": [
    "# Split the data into train and test sets\n",
    "X_train, X_test, y_train, y_test = train_test_split(X_scaled, y, test_size = 0.25, random_state=42)"
   ]
  },
  {
   "cell_type": "code",
   "execution_count": 8,
   "id": "1c57b4f2",
   "metadata": {},
   "outputs": [
    {
     "name": "stdout",
     "output_type": "stream",
     "text": [
      "(48585, 2298) (16196, 2298) (48585,) (16196,)\n"
     ]
    }
   ],
   "source": [
    "print(X_train.shape, X_test.shape, y_train.shape, y_test.shape)"
   ]
  },
  {
   "cell_type": "markdown",
   "id": "0186a7b9",
   "metadata": {},
   "source": [
    "# Model Tuning:"
   ]
  },
  {
   "cell_type": "markdown",
   "id": "5dc900ef",
   "metadata": {},
   "source": [
    "**K-Nearest Neighbors:**"
   ]
  },
  {
   "cell_type": "code",
   "execution_count": 9,
   "id": "04662b85",
   "metadata": {
    "scrolled": true
   },
   "outputs": [
    {
     "name": "stdout",
     "output_type": "stream",
     "text": [
      "Fitting 5 folds for each of 10 candidates, totalling 50 fits\n",
      "6667 seconds elapsed.\n"
     ]
    }
   ],
   "source": [
    "start = timer()\n",
    "knn = KNeighborsClassifier()\n",
    "param_dist = {'n_neighbors': np.arange(1,20),\n",
    "              'leaf_size': np.arange(1,30),\n",
    "              'p': [1,2]}\n",
    "knn_cv = RandomizedSearchCV(knn, param_dist, cv=5, verbose=1, n_jobs=-1)\n",
    "knn_cv = knn_cv.fit(X_train, y_train)\n",
    "end = timer()\n",
    "print(f'{round(end - start)} seconds elapsed.')"
   ]
  },
  {
   "cell_type": "code",
   "execution_count": 10,
   "id": "722498d6",
   "metadata": {},
   "outputs": [
    {
     "name": "stdout",
     "output_type": "stream",
     "text": [
      "Best Score:0.9158999691262736\n",
      "Best Parameters: {'p': 2, 'n_neighbors': 18, 'leaf_size': 23}\n"
     ]
    }
   ],
   "source": [
    "print(\"Best Score:\" + str(knn_cv.best_score_))\n",
    "print(\"Best Parameters: \" + str(knn_cv.best_params_))"
   ]
  },
  {
   "cell_type": "code",
   "execution_count": 23,
   "id": "4179306b",
   "metadata": {},
   "outputs": [
    {
     "name": "stdout",
     "output_type": "stream",
     "text": [
      "train: 0.9159617165791911 test: 0.9152259817238825\n",
      "1503 seconds elapsed.\n"
     ]
    }
   ],
   "source": [
    "start = timer()\n",
    "best_knn = KNeighborsClassifier(n_neighbors=18, leaf_size=23, p=2, n_jobs=-1)\n",
    "best_knn = best_knn.fit(X_train, y_train)\n",
    "\n",
    "print('train:', best_knn.score(X_train, y_train), 'test:', best_knn.score(X_test, y_test))\n",
    "end = timer()\n",
    "print(f'{round(end-start)} seconds elapsed.')"
   ]
  },
  {
   "cell_type": "code",
   "execution_count": 24,
   "id": "4cbe56b2",
   "metadata": {},
   "outputs": [
    {
     "name": "stdout",
     "output_type": "stream",
     "text": [
      "              precision    recall  f1-score   support\n",
      "\n",
      "         <30       0.50      0.00      0.00      1373\n",
      "       Other       0.92      1.00      0.96     14823\n",
      "\n",
      "    accuracy                           0.92     16196\n",
      "   macro avg       0.71      0.50      0.48     16196\n",
      "weighted avg       0.88      0.92      0.88     16196\n",
      "\n"
     ]
    }
   ],
   "source": [
    "y_pred = best_knn.predict(X_test)\n",
    "print(classification_report(y_test, y_pred, labels=best_knn.classes_))"
   ]
  },
  {
   "cell_type": "code",
   "execution_count": 25,
   "id": "71c55c21",
   "metadata": {},
   "outputs": [
    {
     "name": "stdout",
     "output_type": "stream",
     "text": [
      "AUC: 0.5532298112139366\n"
     ]
    }
   ],
   "source": [
    "auc_score = roc_auc_score(y_test, best_knn.predict_proba(X_test)[:,1])\n",
    "print('AUC:', auc_score)"
   ]
  },
  {
   "cell_type": "markdown",
   "id": "49f4ffe3",
   "metadata": {},
   "source": [
    "**Random Forest:**"
   ]
  },
  {
   "cell_type": "code",
   "execution_count": 11,
   "id": "87fe93a2",
   "metadata": {},
   "outputs": [
    {
     "name": "stdout",
     "output_type": "stream",
     "text": [
      "Fitting 5 folds for each of 10 candidates, totalling 50 fits\n",
      "8996 seconds elapsed.\n"
     ]
    }
   ],
   "source": [
    "start = timer()\n",
    "max_depth = np.arange(10, 100, 10)\n",
    "max_depth = np.append(max_depth, None)\n",
    "rfclf = RandomForestClassifier()\n",
    "param_dist = {'max_depth': max_depth,\n",
    "              'max_features':['auto','sqrt'],\n",
    "              'min_samples_leaf': [1, 2, 4],\n",
    "              'min_samples_split': [2, 5, 10],\n",
    "              'n_estimators': np.arange(200, 2000, 200)}\n",
    "rfclf_cv = RandomizedSearchCV(rfclf, param_dist, cv=5, verbose=10, n_jobs=-1)\n",
    "rfclf_cv = rfclf_cv.fit(X_train, y_train)\n",
    "end = timer()\n",
    "print(f'{round(end - start)} seconds elapsed.')"
   ]
  },
  {
   "cell_type": "code",
   "execution_count": 12,
   "id": "587764d8",
   "metadata": {},
   "outputs": [
    {
     "name": "stdout",
     "output_type": "stream",
     "text": [
      "Best Score:0.9159822990634969\n",
      "Best Parameters: {'n_estimators': 400, 'min_samples_split': 10, 'min_samples_leaf': 1, 'max_features': 'auto', 'max_depth': 30}\n"
     ]
    }
   ],
   "source": [
    "print(\"Best Score:\" + str(rfclf_cv.best_score_))\n",
    "print(\"Best Parameters: \" + str(rfclf_cv.best_params_))"
   ]
  },
  {
   "cell_type": "code",
   "execution_count": 20,
   "id": "92089b37",
   "metadata": {},
   "outputs": [
    {
     "name": "stdout",
     "output_type": "stream",
     "text": [
      "train: 0.9159822990634969 test: 0.9152259817238825\n",
      "163 seconds elapsed.\n"
     ]
    }
   ],
   "source": [
    "start = timer()\n",
    "best_rf = RandomForestClassifier(n_estimators=400, min_samples_split=10, min_samples_leaf=1,\n",
    "                                  max_features='auto', max_depth=30, n_jobs=-1)\n",
    "best_rf = best_rf.fit(X_train, y_train)\n",
    "\n",
    "print('train:', best_rf.score(X_train, y_train), 'test:', best_rf.score(X_test, y_test))\n",
    "end = timer()\n",
    "print(f'{round(end-start)} seconds elapsed.')"
   ]
  },
  {
   "cell_type": "code",
   "execution_count": 21,
   "id": "4428d793",
   "metadata": {},
   "outputs": [
    {
     "name": "stdout",
     "output_type": "stream",
     "text": [
      "              precision    recall  f1-score   support\n",
      "\n",
      "         <30       0.00      0.00      0.00      1373\n",
      "       Other       0.92      1.00      0.96     14823\n",
      "\n",
      "    accuracy                           0.92     16196\n",
      "   macro avg       0.46      0.50      0.48     16196\n",
      "weighted avg       0.84      0.92      0.87     16196\n",
      "\n"
     ]
    }
   ],
   "source": [
    "y_pred = best_rf.predict(X_test)\n",
    "print(classification_report(y_test, y_pred, labels=best_rf.classes_))"
   ]
  },
  {
   "cell_type": "code",
   "execution_count": 22,
   "id": "b53c8e00",
   "metadata": {},
   "outputs": [
    {
     "name": "stdout",
     "output_type": "stream",
     "text": [
      "AUC: 0.6281197027571618\n"
     ]
    }
   ],
   "source": [
    "auc_score = roc_auc_score(y_test, best_rf.predict_proba(X_test)[:,1])\n",
    "print('AUC:', auc_score)"
   ]
  },
  {
   "cell_type": "markdown",
   "id": "2569eccc",
   "metadata": {},
   "source": [
    "**XGBoost:**"
   ]
  },
  {
   "cell_type": "code",
   "execution_count": 13,
   "id": "c031210a",
   "metadata": {},
   "outputs": [
    {
     "name": "stdout",
     "output_type": "stream",
     "text": [
      "Fitting 5 folds for each of 10 candidates, totalling 50 fits\n",
      "[08:49:18] WARNING: c:\\ci\\xgboost-split_1638290375667\\work\\src\\objective\\regression_obj.cu:188: reg:linear is now deprecated in favor of reg:squarederror.\n",
      "26345 seconds elapsed.\n"
     ]
    }
   ],
   "source": [
    "start = timer()\n",
    "xgbclf = xgb.XGBClassifier(scale_pos_weight=1)\n",
    "param_dist = {'learning_rate': np.arange(0.0, 1.0, 0.1),\n",
    "              'n_estimators': np.arange(100, 1000, 100),\n",
    "              'max_depth': np.arange(3, 13, 2),\n",
    "              'min_child_weight': np.arange(1, 10, 1),\n",
    "              'gamma': np.arange(0.0, 1.0, 0.1),\n",
    "              'objective': ['binary:logistic', 'reg:linear']}\n",
    "xgbclf_cv = RandomizedSearchCV(xgbclf, param_dist, cv=5, verbose=1, n_jobs=-1)\n",
    "xgbclf_cv = xgbclf_cv.fit(X_train, y_train)\n",
    "end = timer()\n",
    "print(f'{round(end - start)} seconds elapsed.')"
   ]
  },
  {
   "cell_type": "code",
   "execution_count": 14,
   "id": "584dd246",
   "metadata": {},
   "outputs": [
    {
     "name": "stdout",
     "output_type": "stream",
     "text": [
      "Best Score:0.9155912318616857\n",
      "Best Parameters: {'objective': 'reg:linear', 'n_estimators': 600, 'min_child_weight': 4, 'max_depth': 9, 'learning_rate': 0.2, 'gamma': 0.7000000000000001}\n"
     ]
    }
   ],
   "source": [
    "print(\"Best Score:\" + str(xgbclf_cv.best_score_))\n",
    "print(\"Best Parameters: \" + str(xgbclf_cv.best_params_))"
   ]
  },
  {
   "cell_type": "code",
   "execution_count": 26,
   "id": "a9fdd26b",
   "metadata": {},
   "outputs": [
    {
     "name": "stdout",
     "output_type": "stream",
     "text": [
      "[11:29:44] WARNING: c:\\ci\\xgboost-split_1638290375667\\work\\src\\objective\\regression_obj.cu:188: reg:linear is now deprecated in favor of reg:squarederror.\n",
      "train: 0.9172378306061542 test: 0.9151642380834774\n",
      "651 seconds elapsed.\n"
     ]
    }
   ],
   "source": [
    "start = timer()\n",
    "best_xgb = xgb.XGBClassifier(objective='reg:linear', n_estimators=600, min_child_weight=4, max_depth=9,\n",
    "                             learning_rate=0.2, gamma=0.7, n_jobs=-1)\n",
    "best_xgb = best_xgb.fit(X_train, y_train)\n",
    "\n",
    "print('train:', best_xgb.score(X_train, y_train), 'test:', best_xgb.score(X_test, y_test))\n",
    "end = timer()\n",
    "print(f'{round(end-start)} seconds elapsed.')"
   ]
  },
  {
   "cell_type": "code",
   "execution_count": 27,
   "id": "6fcf56be",
   "metadata": {},
   "outputs": [
    {
     "name": "stdout",
     "output_type": "stream",
     "text": [
      "              precision    recall  f1-score   support\n",
      "\n",
      "         <30       0.45      0.00      0.01      1373\n",
      "       Other       0.92      1.00      0.96     14823\n",
      "\n",
      "    accuracy                           0.92     16196\n",
      "   macro avg       0.69      0.50      0.48     16196\n",
      "weighted avg       0.88      0.92      0.88     16196\n",
      "\n"
     ]
    }
   ],
   "source": [
    "y_pred = best_xgb.predict(X_test)\n",
    "print(classification_report(y_test, y_pred, labels=best_xgb.classes_))"
   ]
  },
  {
   "cell_type": "code",
   "execution_count": 28,
   "id": "b8a8df3a",
   "metadata": {},
   "outputs": [
    {
     "name": "stdout",
     "output_type": "stream",
     "text": [
      "AUC: 0.6433788085178351\n"
     ]
    }
   ],
   "source": [
    "auc_score = roc_auc_score(y_test, best_xgb.predict_proba(X_test)[:,1])\n",
    "print('AUC:', auc_score)"
   ]
  }
 ],
 "metadata": {
  "kernelspec": {
   "display_name": "Python 3 (ipykernel)",
   "language": "python",
   "name": "python3"
  },
  "language_info": {
   "codemirror_mode": {
    "name": "ipython",
    "version": 3
   },
   "file_extension": ".py",
   "mimetype": "text/x-python",
   "name": "python",
   "nbconvert_exporter": "python",
   "pygments_lexer": "ipython3",
   "version": "3.8.13"
  }
 },
 "nbformat": 4,
 "nbformat_minor": 5
}
