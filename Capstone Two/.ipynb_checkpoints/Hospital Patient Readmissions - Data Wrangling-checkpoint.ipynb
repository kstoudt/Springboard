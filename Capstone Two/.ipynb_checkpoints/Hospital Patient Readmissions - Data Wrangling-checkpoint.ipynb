{
 "cells": [
  {
   "cell_type": "markdown",
   "id": "b351de82",
   "metadata": {},
   "source": [
    "**Capstone Two -- Hospital Patient Readmissions -- Data Wrangling**"
   ]
  },
  {
   "cell_type": "code",
   "execution_count": 1,
   "id": "0c9914e6",
   "metadata": {},
   "outputs": [
    {
     "name": "stdout",
     "output_type": "stream",
     "text": [
      "<class 'pandas.core.frame.DataFrame'>\n",
      "RangeIndex: 25000 entries, 0 to 24999\n",
      "Data columns (total 65 columns):\n",
      " #   Column                                    Non-Null Count  Dtype\n",
      "---  ------                                    --------------  -----\n",
      " 0   time_in_hospital                          25000 non-null  int64\n",
      " 1   num_lab_procedures                        25000 non-null  int64\n",
      " 2   num_procedures                            25000 non-null  int64\n",
      " 3   num_medications                           25000 non-null  int64\n",
      " 4   number_outpatient                         25000 non-null  int64\n",
      " 5   number_emergency                          25000 non-null  int64\n",
      " 6   number_inpatient                          25000 non-null  int64\n",
      " 7   number_diagnoses                          25000 non-null  int64\n",
      " 8   race_Caucasian                            25000 non-null  bool \n",
      " 9   race_AfricanAmerican                      25000 non-null  bool \n",
      " 10  gender_Female                             25000 non-null  bool \n",
      " 11  age_[70-80)                               25000 non-null  bool \n",
      " 12  age_[60-70)                               25000 non-null  bool \n",
      " 13  age_[50-60)                               25000 non-null  bool \n",
      " 14  age_[80-90)                               25000 non-null  bool \n",
      " 15  age_[40-50)                               25000 non-null  bool \n",
      " 16  payer_code_?                              25000 non-null  bool \n",
      " 17  payer_code_MC                             25000 non-null  bool \n",
      " 18  payer_code_HM                             25000 non-null  bool \n",
      " 19  payer_code_SP                             25000 non-null  bool \n",
      " 20  payer_code_BC                             25000 non-null  bool \n",
      " 21  medical_specialty_?                       25000 non-null  bool \n",
      " 22  medical_specialty_InternalMedicine        25000 non-null  bool \n",
      " 23  medical_specialty_Emergency/Trauma        25000 non-null  bool \n",
      " 24  medical_specialty_Family/GeneralPractice  25000 non-null  bool \n",
      " 25  medical_specialty_Cardiology              25000 non-null  bool \n",
      " 26  diag_1_428                                25000 non-null  bool \n",
      " 27  diag_1_414                                25000 non-null  bool \n",
      " 28  diag_1_786                                25000 non-null  bool \n",
      " 29  diag_2_276                                25000 non-null  bool \n",
      " 30  diag_2_428                                25000 non-null  bool \n",
      " 31  diag_2_250                                25000 non-null  bool \n",
      " 32  diag_2_427                                25000 non-null  bool \n",
      " 33  diag_3_250                                25000 non-null  bool \n",
      " 34  diag_3_401                                25000 non-null  bool \n",
      " 35  diag_3_276                                25000 non-null  bool \n",
      " 36  diag_3_428                                25000 non-null  bool \n",
      " 37  max_glu_serum_None                        25000 non-null  bool \n",
      " 38  A1Cresult_None                            25000 non-null  bool \n",
      " 39  metformin_No                              25000 non-null  bool \n",
      " 40  repaglinide_No                            25000 non-null  bool \n",
      " 41  nateglinide_No                            25000 non-null  bool \n",
      " 42  chlorpropamide_No                         25000 non-null  bool \n",
      " 43  glimepiride_No                            25000 non-null  bool \n",
      " 44  acetohexamide_No                          25000 non-null  bool \n",
      " 45  glipizide_No                              25000 non-null  bool \n",
      " 46  glyburide_No                              25000 non-null  bool \n",
      " 47  tolbutamide_No                            25000 non-null  bool \n",
      " 48  pioglitazone_No                           25000 non-null  bool \n",
      " 49  rosiglitazone_No                          25000 non-null  bool \n",
      " 50  acarbose_No                               25000 non-null  bool \n",
      " 51  miglitol_No                               25000 non-null  bool \n",
      " 52  troglitazone_No                           25000 non-null  bool \n",
      " 53  tolazamide_No                             25000 non-null  bool \n",
      " 54  examide_No                                25000 non-null  bool \n",
      " 55  citoglipton_No                            25000 non-null  bool \n",
      " 56  insulin_No                                25000 non-null  bool \n",
      " 57  glyburide-metformin_No                    25000 non-null  bool \n",
      " 58  glipizide-metformin_No                    25000 non-null  bool \n",
      " 59  glimepiride-pioglitazone_No               25000 non-null  bool \n",
      " 60  metformin-rosiglitazone_No                25000 non-null  bool \n",
      " 61  metformin-pioglitazone_No                 25000 non-null  bool \n",
      " 62  change_No                                 25000 non-null  bool \n",
      " 63  diabetesMed_Yes                           25000 non-null  bool \n",
      " 64  readmitted                                25000 non-null  int64\n",
      "dtypes: bool(56), int64(9)\n",
      "memory usage: 3.1 MB\n",
      "None\n"
     ]
    }
   ],
   "source": [
    "import os\n",
    "import pandas as pd\n",
    "\n",
    "df = pd.read_csv('readmissions_dataset.csv')\n",
    "print(df.info())"
   ]
  }
 ],
 "metadata": {
  "kernelspec": {
   "display_name": "Python 3 (ipykernel)",
   "language": "python",
   "name": "python3"
  },
  "language_info": {
   "codemirror_mode": {
    "name": "ipython",
    "version": 3
   },
   "file_extension": ".py",
   "mimetype": "text/x-python",
   "name": "python",
   "nbconvert_exporter": "python",
   "pygments_lexer": "ipython3",
   "version": "3.8.12"
  }
 },
 "nbformat": 4,
 "nbformat_minor": 5
}
