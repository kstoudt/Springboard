{
 "cells": [
  {
   "cell_type": "markdown",
   "id": "2bbfe154",
   "metadata": {},
   "source": [
    "# **Diabetic Patient Readmission -- Data Wrangling**\n",
    "\n",
    "This dataset was analyzed by numerous Virginia Commonwealth University faculty in a recent research article which is accompanied by feature descriptions. These can be found at https://www.hindawi.com/journals/bmri/2014/781670/tab1/."
   ]
  },
  {
   "cell_type": "code",
   "execution_count": 1,
   "id": "cb999c39",
   "metadata": {},
   "outputs": [],
   "source": [
    "import os\n",
    "import pandas as pd\n",
    "import numpy as np\n",
    "\n",
    "df1 = pd.read_csv('diabetic_data.csv')\n",
    "df2 = pd.read_csv('IDs_mapping.csv')"
   ]
  },
  {
   "cell_type": "markdown",
   "id": "54fa45eb",
   "metadata": {},
   "source": [
    "**Data Collection:**"
   ]
  },
  {
   "cell_type": "code",
   "execution_count": 2,
   "id": "f98f01d7",
   "metadata": {},
   "outputs": [
    {
     "name": "stdout",
     "output_type": "stream",
     "text": [
      "<class 'pandas.core.frame.DataFrame'>\n",
      "RangeIndex: 101766 entries, 0 to 101765\n",
      "Data columns (total 50 columns):\n",
      " #   Column                    Non-Null Count   Dtype \n",
      "---  ------                    --------------   ----- \n",
      " 0   encounter_id              101766 non-null  int64 \n",
      " 1   patient_nbr               101766 non-null  int64 \n",
      " 2   race                      101766 non-null  object\n",
      " 3   gender                    101766 non-null  object\n",
      " 4   age                       101766 non-null  object\n",
      " 5   weight                    101766 non-null  object\n",
      " 6   admission_type_id         101766 non-null  int64 \n",
      " 7   discharge_disposition_id  101766 non-null  int64 \n",
      " 8   admission_source_id       101766 non-null  int64 \n",
      " 9   time_in_hospital          101766 non-null  int64 \n",
      " 10  payer_code                101766 non-null  object\n",
      " 11  medical_specialty         101766 non-null  object\n",
      " 12  num_lab_procedures        101766 non-null  int64 \n",
      " 13  num_procedures            101766 non-null  int64 \n",
      " 14  num_medications           101766 non-null  int64 \n",
      " 15  number_outpatient         101766 non-null  int64 \n",
      " 16  number_emergency          101766 non-null  int64 \n",
      " 17  number_inpatient          101766 non-null  int64 \n",
      " 18  diag_1                    101766 non-null  object\n",
      " 19  diag_2                    101766 non-null  object\n",
      " 20  diag_3                    101766 non-null  object\n",
      " 21  number_diagnoses          101766 non-null  int64 \n",
      " 22  max_glu_serum             101766 non-null  object\n",
      " 23  A1Cresult                 101766 non-null  object\n",
      " 24  metformin                 101766 non-null  object\n",
      " 25  repaglinide               101766 non-null  object\n",
      " 26  nateglinide               101766 non-null  object\n",
      " 27  chlorpropamide            101766 non-null  object\n",
      " 28  glimepiride               101766 non-null  object\n",
      " 29  acetohexamide             101766 non-null  object\n",
      " 30  glipizide                 101766 non-null  object\n",
      " 31  glyburide                 101766 non-null  object\n",
      " 32  tolbutamide               101766 non-null  object\n",
      " 33  pioglitazone              101766 non-null  object\n",
      " 34  rosiglitazone             101766 non-null  object\n",
      " 35  acarbose                  101766 non-null  object\n",
      " 36  miglitol                  101766 non-null  object\n",
      " 37  troglitazone              101766 non-null  object\n",
      " 38  tolazamide                101766 non-null  object\n",
      " 39  examide                   101766 non-null  object\n",
      " 40  citoglipton               101766 non-null  object\n",
      " 41  insulin                   101766 non-null  object\n",
      " 42  glyburide-metformin       101766 non-null  object\n",
      " 43  glipizide-metformin       101766 non-null  object\n",
      " 44  glimepiride-pioglitazone  101766 non-null  object\n",
      " 45  metformin-rosiglitazone   101766 non-null  object\n",
      " 46  metformin-pioglitazone    101766 non-null  object\n",
      " 47  change                    101766 non-null  object\n",
      " 48  diabetesMed               101766 non-null  object\n",
      " 49  readmitted                101766 non-null  object\n",
      "dtypes: int64(13), object(37)\n",
      "memory usage: 38.8+ MB\n",
      "None\n"
     ]
    }
   ],
   "source": [
    "print(df1.info())"
   ]
  },
  {
   "cell_type": "code",
   "execution_count": 3,
   "id": "4ed4cf54",
   "metadata": {
    "scrolled": false
   },
   "outputs": [
    {
     "name": "stdout",
     "output_type": "stream",
     "text": [
      "          admission_type_id    description\n",
      "0                         1      Emergency\n",
      "1                         2         Urgent\n",
      "2                         3       Elective\n",
      "3                         4        Newborn\n",
      "4                         5  Not Available\n",
      "5                         6            NaN\n",
      "6                         7  Trauma Center\n",
      "7                         8     Not Mapped\n",
      "8                       NaN            NaN\n",
      "9  discharge_disposition_id    description\n",
      "<class 'pandas.core.frame.DataFrame'>\n",
      "RangeIndex: 67 entries, 0 to 66\n",
      "Data columns (total 2 columns):\n",
      " #   Column             Non-Null Count  Dtype \n",
      "---  ------             --------------  ----- \n",
      " 0   admission_type_id  65 non-null     object\n",
      " 1   description        62 non-null     object\n",
      "dtypes: object(2)\n",
      "memory usage: 1.2+ KB\n",
      "None\n"
     ]
    }
   ],
   "source": [
    "print(df2.head(10))\n",
    "print(df2.info())"
   ]
  },
  {
   "cell_type": "markdown",
   "id": "4db4d7cb",
   "metadata": {},
   "source": [
    "**Data Organization:**"
   ]
  },
  {
   "cell_type": "code",
   "execution_count": 4,
   "id": "6c630984",
   "metadata": {},
   "outputs": [
    {
     "name": "stdout",
     "output_type": "stream",
     "text": [
      "           admission_type_id  description\n",
      "9   discharge_disposition_id  description\n",
      "41       admission_source_id  description\n"
     ]
    }
   ],
   "source": [
    "print(df2[df2.description == 'description'])"
   ]
  },
  {
   "cell_type": "markdown",
   "id": "f983c62c",
   "metadata": {},
   "source": [
    "The 'IDs_mapping.csv' seems to contain *multiple* tables containing key-value descriptions for designated IDs in the primary dataset."
   ]
  },
  {
   "cell_type": "code",
   "execution_count": 5,
   "id": "b775202a",
   "metadata": {},
   "outputs": [
    {
     "name": "stdout",
     "output_type": "stream",
     "text": [
      "  admission_type_id    description\n",
      "0                 1      Emergency\n",
      "1                 2         Urgent\n",
      "2                 3       Elective\n",
      "3                 4        Newborn\n",
      "4                 5  Not Available\n",
      "5                 6            NaN\n",
      "6                 7  Trauma Center\n",
      "7                 8     Not Mapped\n",
      "   discharge_disposition_id                                        description\n",
      "0                         1                                 Discharged to home\n",
      "1                         2  Discharged/transferred to another short term h...\n",
      "2                         3                      Discharged/transferred to SNF\n",
      "3                         4                      Discharged/transferred to ICF\n",
      "4                         5  Discharged/transferred to another type of inpa...\n",
      "5                         6  Discharged/transferred to home with home healt...\n",
      "6                         7                                           Left AMA\n",
      "7                         8  Discharged/transferred to home under care of H...\n",
      "8                         9          Admitted as an inpatient to this hospital\n",
      "9                        10  Neonate discharged to another hospital for neo...\n",
      "10                       11                                            Expired\n",
      "11                       12  Still patient or expected to return for outpat...\n",
      "12                       13                                     Hospice / home\n",
      "13                       14                         Hospice / medical facility\n",
      "14                       15  Discharged/transferred within this institution...\n",
      "15                       16  Discharged/transferred/referred another instit...\n",
      "16                       17  Discharged/transferred/referred to this instit...\n",
      "17                       18                                                NaN\n",
      "18                       19           Expired at home. Medicaid only, hospice.\n",
      "19                       20  Expired in a medical facility. Medicaid only, ...\n",
      "20                       21    Expired, place unknown. Medicaid only, hospice.\n",
      "21                       22  Discharged/transferred to another rehab fac in...\n",
      "22                       23  Discharged/transferred to a long term care hos...\n",
      "23                       24  Discharged/transferred to a nursing facility c...\n",
      "24                       25                                         Not Mapped\n",
      "25                       26                                    Unknown/Invalid\n",
      "26                       30  Discharged/transferred to another Type of Heal...\n",
      "27                       27  Discharged/transferred to a federal health car...\n",
      "28                       28  Discharged/transferred/referred to a psychiatr...\n",
      "29                       29  Discharged/transferred to a Critical Access Ho...\n",
      "   admission_source_id                                        description\n",
      "0                    1                                 Physician Referral\n",
      "1                    2                                    Clinic Referral\n",
      "2                    3                                       HMO Referral\n",
      "3                    4                           Transfer from a hospital\n",
      "4                    5     Transfer from a Skilled Nursing Facility (SNF)\n",
      "5                    6         Transfer from another health care facility\n",
      "6                    7                                     Emergency Room\n",
      "7                    8                              Court/Law Enforcement\n",
      "8                    9                                      Not Available\n",
      "9                   10              Transfer from critial access hospital\n",
      "10                  11                                    Normal Delivery\n",
      "11                  12                                 Premature Delivery\n",
      "12                  13                                          Sick Baby\n",
      "13                  14                                   Extramural Birth\n",
      "14                  15                                      Not Available\n",
      "15                  17                                                NaN\n",
      "16                  18           Transfer From Another Home Health Agency\n",
      "17                  19             Readmission to Same Home Health Agency\n",
      "18                  20                                         Not Mapped\n",
      "19                  21                                    Unknown/Invalid\n",
      "20                  22   Transfer from hospital inpt/same fac reslt in...\n",
      "21                  23                          Born inside this hospital\n",
      "22                  24                         Born outside this hospital\n",
      "23                  25            Transfer from Ambulatory Surgery Center\n",
      "24                  26                              Transfer from Hospice\n"
     ]
    }
   ],
   "source": [
    "admission_type_ids = df2[:8] # Adjusted from [:9] to remove NaN ID\n",
    "discharge_disposition_ids = df2[10:40] # Adjusted from [10:41] to remove NaN ID\n",
    "discharge_disposition_ids = discharge_disposition_ids.reset_index(drop=True).rename(columns={'admission_type_id':'discharge_disposition_id'})\n",
    "admission_source_ids = df2[42:]\n",
    "admission_source_ids = admission_source_ids.reset_index(drop=True).rename(columns={'admission_type_id':'admission_source_id'})\n",
    "print(admission_type_ids)\n",
    "print(discharge_disposition_ids)\n",
    "print(admission_source_ids)"
   ]
  },
  {
   "cell_type": "markdown",
   "id": "c80dc05b",
   "metadata": {},
   "source": [
    "As we have a singular, primary dataset that we will work with, there is no need for merging/joining at this stage. Introducing these descriptions into the dataset would likely complicate future analysis and modeling."
   ]
  },
  {
   "cell_type": "code",
   "execution_count": 6,
   "id": "2ea44c57",
   "metadata": {},
   "outputs": [],
   "source": [
    "# Saving individual id libraries for future reference\n",
    "admission_type_ids.to_csv('admission_type_ids.csv', index=False)\n",
    "discharge_disposition_ids.to_csv('discharge_disposistion_ids.csv', index=False)\n",
    "admission_source_ids.to_csv('admission_source_ids.csv', index=False)"
   ]
  },
  {
   "cell_type": "markdown",
   "id": "f49de989",
   "metadata": {},
   "source": [
    "**Data Definition:**\n",
    "\n",
    "For feature/column definitions/descriptions, see https://www.hindawi.com/journals/bmri/2014/781670/tab1/."
   ]
  },
  {
   "cell_type": "code",
   "execution_count": 7,
   "id": "216ab5bd",
   "metadata": {},
   "outputs": [
    {
     "name": "stdout",
     "output_type": "stream",
     "text": [
      "<class 'pandas.core.frame.DataFrame'>\n",
      "RangeIndex: 101766 entries, 0 to 101765\n",
      "Data columns (total 50 columns):\n",
      " #   Column                    Non-Null Count   Dtype \n",
      "---  ------                    --------------   ----- \n",
      " 0   encounter_id              101766 non-null  int64 \n",
      " 1   patient_nbr               101766 non-null  int64 \n",
      " 2   race                      101766 non-null  object\n",
      " 3   gender                    101766 non-null  object\n",
      " 4   age                       101766 non-null  object\n",
      " 5   weight                    101766 non-null  object\n",
      " 6   admission_type_id         101766 non-null  int64 \n",
      " 7   discharge_disposition_id  101766 non-null  int64 \n",
      " 8   admission_source_id       101766 non-null  int64 \n",
      " 9   time_in_hospital          101766 non-null  int64 \n",
      " 10  payer_code                101766 non-null  object\n",
      " 11  medical_specialty         101766 non-null  object\n",
      " 12  num_lab_procedures        101766 non-null  int64 \n",
      " 13  num_procedures            101766 non-null  int64 \n",
      " 14  num_medications           101766 non-null  int64 \n",
      " 15  number_outpatient         101766 non-null  int64 \n",
      " 16  number_emergency          101766 non-null  int64 \n",
      " 17  number_inpatient          101766 non-null  int64 \n",
      " 18  diag_1                    101766 non-null  object\n",
      " 19  diag_2                    101766 non-null  object\n",
      " 20  diag_3                    101766 non-null  object\n",
      " 21  number_diagnoses          101766 non-null  int64 \n",
      " 22  max_glu_serum             101766 non-null  object\n",
      " 23  A1Cresult                 101766 non-null  object\n",
      " 24  metformin                 101766 non-null  object\n",
      " 25  repaglinide               101766 non-null  object\n",
      " 26  nateglinide               101766 non-null  object\n",
      " 27  chlorpropamide            101766 non-null  object\n",
      " 28  glimepiride               101766 non-null  object\n",
      " 29  acetohexamide             101766 non-null  object\n",
      " 30  glipizide                 101766 non-null  object\n",
      " 31  glyburide                 101766 non-null  object\n",
      " 32  tolbutamide               101766 non-null  object\n",
      " 33  pioglitazone              101766 non-null  object\n",
      " 34  rosiglitazone             101766 non-null  object\n",
      " 35  acarbose                  101766 non-null  object\n",
      " 36  miglitol                  101766 non-null  object\n",
      " 37  troglitazone              101766 non-null  object\n",
      " 38  tolazamide                101766 non-null  object\n",
      " 39  examide                   101766 non-null  object\n",
      " 40  citoglipton               101766 non-null  object\n",
      " 41  insulin                   101766 non-null  object\n",
      " 42  glyburide-metformin       101766 non-null  object\n",
      " 43  glipizide-metformin       101766 non-null  object\n",
      " 44  glimepiride-pioglitazone  101766 non-null  object\n",
      " 45  metformin-rosiglitazone   101766 non-null  object\n",
      " 46  metformin-pioglitazone    101766 non-null  object\n",
      " 47  change                    101766 non-null  object\n",
      " 48  diabetesMed               101766 non-null  object\n",
      " 49  readmitted                101766 non-null  object\n",
      "dtypes: int64(13), object(37)\n",
      "memory usage: 38.8+ MB\n"
     ]
    }
   ],
   "source": [
    "df1.info()"
   ]
  },
  {
   "cell_type": "code",
   "execution_count": 8,
   "id": "f38799f9",
   "metadata": {},
   "outputs": [
    {
     "data": {
      "text/html": [
       "<div>\n",
       "<style scoped>\n",
       "    .dataframe tbody tr th:only-of-type {\n",
       "        vertical-align: middle;\n",
       "    }\n",
       "\n",
       "    .dataframe tbody tr th {\n",
       "        vertical-align: top;\n",
       "    }\n",
       "\n",
       "    .dataframe thead th {\n",
       "        text-align: right;\n",
       "    }\n",
       "</style>\n",
       "<table border=\"1\" class=\"dataframe\">\n",
       "  <thead>\n",
       "    <tr style=\"text-align: right;\">\n",
       "      <th></th>\n",
       "      <th>encounter_id</th>\n",
       "      <th>patient_nbr</th>\n",
       "      <th>weight</th>\n",
       "      <th>payer_code</th>\n",
       "      <th>A1Cresult</th>\n",
       "      <th>insulin</th>\n",
       "      <th>change</th>\n",
       "      <th>readmitted</th>\n",
       "    </tr>\n",
       "  </thead>\n",
       "  <tbody>\n",
       "    <tr>\n",
       "      <th>0</th>\n",
       "      <td>2278392</td>\n",
       "      <td>8222157</td>\n",
       "      <td>?</td>\n",
       "      <td>?</td>\n",
       "      <td>None</td>\n",
       "      <td>No</td>\n",
       "      <td>No</td>\n",
       "      <td>NO</td>\n",
       "    </tr>\n",
       "    <tr>\n",
       "      <th>1</th>\n",
       "      <td>149190</td>\n",
       "      <td>55629189</td>\n",
       "      <td>?</td>\n",
       "      <td>?</td>\n",
       "      <td>None</td>\n",
       "      <td>Up</td>\n",
       "      <td>Ch</td>\n",
       "      <td>&gt;30</td>\n",
       "    </tr>\n",
       "    <tr>\n",
       "      <th>2</th>\n",
       "      <td>64410</td>\n",
       "      <td>86047875</td>\n",
       "      <td>?</td>\n",
       "      <td>?</td>\n",
       "      <td>None</td>\n",
       "      <td>No</td>\n",
       "      <td>No</td>\n",
       "      <td>NO</td>\n",
       "    </tr>\n",
       "    <tr>\n",
       "      <th>3</th>\n",
       "      <td>500364</td>\n",
       "      <td>82442376</td>\n",
       "      <td>?</td>\n",
       "      <td>?</td>\n",
       "      <td>None</td>\n",
       "      <td>Up</td>\n",
       "      <td>Ch</td>\n",
       "      <td>NO</td>\n",
       "    </tr>\n",
       "    <tr>\n",
       "      <th>4</th>\n",
       "      <td>16680</td>\n",
       "      <td>42519267</td>\n",
       "      <td>?</td>\n",
       "      <td>?</td>\n",
       "      <td>None</td>\n",
       "      <td>Steady</td>\n",
       "      <td>Ch</td>\n",
       "      <td>NO</td>\n",
       "    </tr>\n",
       "    <tr>\n",
       "      <th>...</th>\n",
       "      <td>...</td>\n",
       "      <td>...</td>\n",
       "      <td>...</td>\n",
       "      <td>...</td>\n",
       "      <td>...</td>\n",
       "      <td>...</td>\n",
       "      <td>...</td>\n",
       "      <td>...</td>\n",
       "    </tr>\n",
       "    <tr>\n",
       "      <th>101761</th>\n",
       "      <td>443847548</td>\n",
       "      <td>100162476</td>\n",
       "      <td>?</td>\n",
       "      <td>MC</td>\n",
       "      <td>&gt;8</td>\n",
       "      <td>Down</td>\n",
       "      <td>Ch</td>\n",
       "      <td>&gt;30</td>\n",
       "    </tr>\n",
       "    <tr>\n",
       "      <th>101762</th>\n",
       "      <td>443847782</td>\n",
       "      <td>74694222</td>\n",
       "      <td>?</td>\n",
       "      <td>MC</td>\n",
       "      <td>None</td>\n",
       "      <td>Steady</td>\n",
       "      <td>No</td>\n",
       "      <td>NO</td>\n",
       "    </tr>\n",
       "    <tr>\n",
       "      <th>101763</th>\n",
       "      <td>443854148</td>\n",
       "      <td>41088789</td>\n",
       "      <td>?</td>\n",
       "      <td>MC</td>\n",
       "      <td>None</td>\n",
       "      <td>Down</td>\n",
       "      <td>Ch</td>\n",
       "      <td>NO</td>\n",
       "    </tr>\n",
       "    <tr>\n",
       "      <th>101764</th>\n",
       "      <td>443857166</td>\n",
       "      <td>31693671</td>\n",
       "      <td>?</td>\n",
       "      <td>MC</td>\n",
       "      <td>None</td>\n",
       "      <td>Up</td>\n",
       "      <td>Ch</td>\n",
       "      <td>NO</td>\n",
       "    </tr>\n",
       "    <tr>\n",
       "      <th>101765</th>\n",
       "      <td>443867222</td>\n",
       "      <td>175429310</td>\n",
       "      <td>?</td>\n",
       "      <td>?</td>\n",
       "      <td>None</td>\n",
       "      <td>No</td>\n",
       "      <td>No</td>\n",
       "      <td>NO</td>\n",
       "    </tr>\n",
       "  </tbody>\n",
       "</table>\n",
       "<p>101766 rows × 8 columns</p>\n",
       "</div>"
      ],
      "text/plain": [
       "        encounter_id  patient_nbr weight payer_code A1Cresult insulin change  \\\n",
       "0            2278392      8222157      ?          ?      None      No     No   \n",
       "1             149190     55629189      ?          ?      None      Up     Ch   \n",
       "2              64410     86047875      ?          ?      None      No     No   \n",
       "3             500364     82442376      ?          ?      None      Up     Ch   \n",
       "4              16680     42519267      ?          ?      None  Steady     Ch   \n",
       "...              ...          ...    ...        ...       ...     ...    ...   \n",
       "101761     443847548    100162476      ?         MC        >8    Down     Ch   \n",
       "101762     443847782     74694222      ?         MC      None  Steady     No   \n",
       "101763     443854148     41088789      ?         MC      None    Down     Ch   \n",
       "101764     443857166     31693671      ?         MC      None      Up     Ch   \n",
       "101765     443867222    175429310      ?          ?      None      No     No   \n",
       "\n",
       "       readmitted  \n",
       "0              NO  \n",
       "1             >30  \n",
       "2              NO  \n",
       "3              NO  \n",
       "4              NO  \n",
       "...           ...  \n",
       "101761        >30  \n",
       "101762         NO  \n",
       "101763         NO  \n",
       "101764         NO  \n",
       "101765         NO  \n",
       "\n",
       "[101766 rows x 8 columns]"
      ]
     },
     "execution_count": 8,
     "metadata": {},
     "output_type": "execute_result"
    }
   ],
   "source": [
    "df1.loc[:,['encounter_id', 'patient_nbr', 'weight', 'payer_code', 'A1Cresult', 'insulin', 'change', 'readmitted']]"
   ]
  },
  {
   "cell_type": "code",
   "execution_count": 9,
   "id": "e9ffb4ff",
   "metadata": {},
   "outputs": [
    {
     "data": {
      "text/html": [
       "<div>\n",
       "<style scoped>\n",
       "    .dataframe tbody tr th:only-of-type {\n",
       "        vertical-align: middle;\n",
       "    }\n",
       "\n",
       "    .dataframe tbody tr th {\n",
       "        vertical-align: top;\n",
       "    }\n",
       "\n",
       "    .dataframe thead th {\n",
       "        text-align: right;\n",
       "    }\n",
       "</style>\n",
       "<table border=\"1\" class=\"dataframe\">\n",
       "  <thead>\n",
       "    <tr style=\"text-align: right;\">\n",
       "      <th></th>\n",
       "      <th>encounter_id</th>\n",
       "      <th>A1Cresult</th>\n",
       "      <th>diabetesMed</th>\n",
       "      <th>readmitted</th>\n",
       "      <th>diag_1</th>\n",
       "      <th>diag_2</th>\n",
       "      <th>diag_3</th>\n",
       "    </tr>\n",
       "  </thead>\n",
       "  <tbody>\n",
       "    <tr>\n",
       "      <th>0</th>\n",
       "      <td>2278392</td>\n",
       "      <td>None</td>\n",
       "      <td>No</td>\n",
       "      <td>NO</td>\n",
       "      <td>250.83</td>\n",
       "      <td>?</td>\n",
       "      <td>?</td>\n",
       "    </tr>\n",
       "    <tr>\n",
       "      <th>1</th>\n",
       "      <td>149190</td>\n",
       "      <td>None</td>\n",
       "      <td>Yes</td>\n",
       "      <td>&gt;30</td>\n",
       "      <td>276</td>\n",
       "      <td>250.01</td>\n",
       "      <td>255</td>\n",
       "    </tr>\n",
       "    <tr>\n",
       "      <th>2</th>\n",
       "      <td>64410</td>\n",
       "      <td>None</td>\n",
       "      <td>Yes</td>\n",
       "      <td>NO</td>\n",
       "      <td>648</td>\n",
       "      <td>250</td>\n",
       "      <td>V27</td>\n",
       "    </tr>\n",
       "    <tr>\n",
       "      <th>3</th>\n",
       "      <td>500364</td>\n",
       "      <td>None</td>\n",
       "      <td>Yes</td>\n",
       "      <td>NO</td>\n",
       "      <td>8</td>\n",
       "      <td>250.43</td>\n",
       "      <td>403</td>\n",
       "    </tr>\n",
       "    <tr>\n",
       "      <th>4</th>\n",
       "      <td>16680</td>\n",
       "      <td>None</td>\n",
       "      <td>Yes</td>\n",
       "      <td>NO</td>\n",
       "      <td>197</td>\n",
       "      <td>157</td>\n",
       "      <td>250</td>\n",
       "    </tr>\n",
       "    <tr>\n",
       "      <th>...</th>\n",
       "      <td>...</td>\n",
       "      <td>...</td>\n",
       "      <td>...</td>\n",
       "      <td>...</td>\n",
       "      <td>...</td>\n",
       "      <td>...</td>\n",
       "      <td>...</td>\n",
       "    </tr>\n",
       "    <tr>\n",
       "      <th>101761</th>\n",
       "      <td>443847548</td>\n",
       "      <td>&gt;8</td>\n",
       "      <td>Yes</td>\n",
       "      <td>&gt;30</td>\n",
       "      <td>250.13</td>\n",
       "      <td>291</td>\n",
       "      <td>458</td>\n",
       "    </tr>\n",
       "    <tr>\n",
       "      <th>101762</th>\n",
       "      <td>443847782</td>\n",
       "      <td>None</td>\n",
       "      <td>Yes</td>\n",
       "      <td>NO</td>\n",
       "      <td>560</td>\n",
       "      <td>276</td>\n",
       "      <td>787</td>\n",
       "    </tr>\n",
       "    <tr>\n",
       "      <th>101763</th>\n",
       "      <td>443854148</td>\n",
       "      <td>None</td>\n",
       "      <td>Yes</td>\n",
       "      <td>NO</td>\n",
       "      <td>38</td>\n",
       "      <td>590</td>\n",
       "      <td>296</td>\n",
       "    </tr>\n",
       "    <tr>\n",
       "      <th>101764</th>\n",
       "      <td>443857166</td>\n",
       "      <td>None</td>\n",
       "      <td>Yes</td>\n",
       "      <td>NO</td>\n",
       "      <td>996</td>\n",
       "      <td>285</td>\n",
       "      <td>998</td>\n",
       "    </tr>\n",
       "    <tr>\n",
       "      <th>101765</th>\n",
       "      <td>443867222</td>\n",
       "      <td>None</td>\n",
       "      <td>No</td>\n",
       "      <td>NO</td>\n",
       "      <td>530</td>\n",
       "      <td>530</td>\n",
       "      <td>787</td>\n",
       "    </tr>\n",
       "  </tbody>\n",
       "</table>\n",
       "<p>101766 rows × 7 columns</p>\n",
       "</div>"
      ],
      "text/plain": [
       "        encounter_id A1Cresult diabetesMed readmitted  diag_1  diag_2 diag_3\n",
       "0            2278392      None          No         NO  250.83       ?      ?\n",
       "1             149190      None         Yes        >30     276  250.01    255\n",
       "2              64410      None         Yes         NO     648     250    V27\n",
       "3             500364      None         Yes         NO       8  250.43    403\n",
       "4              16680      None         Yes         NO     197     157    250\n",
       "...              ...       ...         ...        ...     ...     ...    ...\n",
       "101761     443847548        >8         Yes        >30  250.13     291    458\n",
       "101762     443847782      None         Yes         NO     560     276    787\n",
       "101763     443854148      None         Yes         NO      38     590    296\n",
       "101764     443857166      None         Yes         NO     996     285    998\n",
       "101765     443867222      None          No         NO     530     530    787\n",
       "\n",
       "[101766 rows x 7 columns]"
      ]
     },
     "execution_count": 9,
     "metadata": {},
     "output_type": "execute_result"
    }
   ],
   "source": [
    "df1.loc[:,['encounter_id','A1Cresult', 'diabetesMed', 'readmitted', 'diag_1', 'diag_2', 'diag_3']]"
   ]
  },
  {
   "cell_type": "markdown",
   "id": "f035e899",
   "metadata": {},
   "source": [
    "'diag_1', 'diag_2', and 'diag_3' are addressed in feature descriptions link.\n",
    "\n",
    "**Generated .html report using pandas-profiler and the following code:**<br>\n",
    "import pandas_profiling<br>\n",
    "from pandas_profiling.utils.cache import cache_file<br>\n",
    "profile_report = df1.profile_report(explorative=True, html={'style': {'full_width': True}})<br>\n",
    "profile_report.to_file('df1_profile.html')<br>"
   ]
  },
  {
   "cell_type": "code",
   "execution_count": 10,
   "id": "cb41027a",
   "metadata": {},
   "outputs": [
    {
     "data": {
      "text/plain": [
       "count     101766\n",
       "unique        10\n",
       "top            ?\n",
       "freq       98569\n",
       "Name: weight, dtype: object"
      ]
     },
     "execution_count": 10,
     "metadata": {},
     "output_type": "execute_result"
    }
   ],
   "source": [
    "df1.weight.describe()"
   ]
  },
  {
   "cell_type": "code",
   "execution_count": 11,
   "id": "d02c06be",
   "metadata": {
    "scrolled": true
   },
   "outputs": [
    {
     "name": "stdout",
     "output_type": "stream",
     "text": [
      "We only have 3197 out of 101766 weights which equates to 96.85847925633315 % missingness.\n"
     ]
    }
   ],
   "source": [
    "print(\"We only have\", 101766-98569,'out of 101766 weights which equates to',100*98569/101766,'% missingness.')"
   ]
  },
  {
   "cell_type": "code",
   "execution_count": 12,
   "id": "c535546e",
   "metadata": {},
   "outputs": [
    {
     "data": {
      "text/plain": [
       "count     101766\n",
       "unique         2\n",
       "top          Yes\n",
       "freq       78363\n",
       "Name: diabetesMed, dtype: object"
      ]
     },
     "execution_count": 12,
     "metadata": {},
     "output_type": "execute_result"
    }
   ],
   "source": [
    "df1.diabetesMed.describe()"
   ]
  },
  {
   "cell_type": "code",
   "execution_count": 13,
   "id": "601c1592",
   "metadata": {},
   "outputs": [
    {
     "data": {
      "text/plain": [
       "count     101766\n",
       "unique         3\n",
       "top           NO\n",
       "freq       54864\n",
       "Name: readmitted, dtype: object"
      ]
     },
     "execution_count": 13,
     "metadata": {},
     "output_type": "execute_result"
    }
   ],
   "source": [
    "df1.readmitted.describe()"
   ]
  },
  {
   "cell_type": "markdown",
   "id": "746848ec",
   "metadata": {},
   "source": [
    "**Data Cleaning:**<br>\n",
    "<br>\n",
    "The data is in a good enough state to move forward and handle further data cleaning as deemed necessary by the requirements of the modeling stage.<br>\n",
    "<br>\n",
    "The provided link to feature descriptions also shows calculated missingness percentages."
   ]
  }
 ],
 "metadata": {
  "kernelspec": {
   "display_name": "Python 3 (ipykernel)",
   "language": "python",
   "name": "python3"
  },
  "language_info": {
   "codemirror_mode": {
    "name": "ipython",
    "version": 3
   },
   "file_extension": ".py",
   "mimetype": "text/x-python",
   "name": "python",
   "nbconvert_exporter": "python",
   "pygments_lexer": "ipython3",
   "version": "3.8.12"
  }
 },
 "nbformat": 4,
 "nbformat_minor": 5
}
