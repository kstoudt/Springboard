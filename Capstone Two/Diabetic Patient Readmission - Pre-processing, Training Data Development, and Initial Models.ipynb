{
 "cells": [
  {
   "cell_type": "markdown",
   "id": "9472e3f4",
   "metadata": {},
   "source": [
    "# **Diabetic Patient Readmission: Pre-processing, Training Data Development, and Initial Models**\n",
    "\n",
    "This dataset was analyzed by numerous Virginia Commonwealth University faculty in a recent research article which is accompanied by feature descriptions. These can be found at https://www.hindawi.com/journals/bmri/2014/781670/tab1/."
   ]
  },
  {
   "cell_type": "code",
   "execution_count": 1,
   "id": "48c7fc98",
   "metadata": {},
   "outputs": [],
   "source": [
    "import os\n",
    "\n",
    "import warnings\n",
    "warnings.simplefilter(action='ignore', category=FutureWarning)\n",
    "warnings.simplefilter(action='ignore', category=UserWarning)\n",
    "\n",
    "import numpy as np\n",
    "import pandas as pd\n",
    "import matplotlib.pyplot as plt\n",
    "import seaborn as sns\n",
    "from sklearn.model_selection import train_test_split, cross_validate\n",
    "from sklearn.preprocessing import StandardScaler\n",
    "from sklearn.linear_model import LogisticRegression\n",
    "from sklearn.neighbors import KNeighborsClassifier\n",
    "from sklearn import pipeline, svm\n",
    "from sklearn.ensemble import RandomForestClassifier, GradientBoostingClassifier\n",
    "from sklearn.tree import DecisionTreeClassifier\n",
    "import xgboost as xgb\n",
    "from sklearn.feature_selection import chi2\n",
    "from sklearn.metrics import classification_report, accuracy_score, make_scorer\n",
    "\n",
    "%matplotlib inline"
   ]
  },
  {
   "cell_type": "code",
   "execution_count": 2,
   "id": "d10a6556",
   "metadata": {
    "scrolled": true
   },
   "outputs": [
    {
     "data": {
      "text/html": [
       "<div>\n",
       "<style scoped>\n",
       "    .dataframe tbody tr th:only-of-type {\n",
       "        vertical-align: middle;\n",
       "    }\n",
       "\n",
       "    .dataframe tbody tr th {\n",
       "        vertical-align: top;\n",
       "    }\n",
       "\n",
       "    .dataframe thead th {\n",
       "        text-align: right;\n",
       "    }\n",
       "</style>\n",
       "<table border=\"1\" class=\"dataframe\">\n",
       "  <thead>\n",
       "    <tr style=\"text-align: right;\">\n",
       "      <th></th>\n",
       "      <th>encounter_id</th>\n",
       "      <th>patient_nbr</th>\n",
       "      <th>race</th>\n",
       "      <th>gender</th>\n",
       "      <th>age</th>\n",
       "      <th>admission_type_id</th>\n",
       "      <th>discharge_disposition_id</th>\n",
       "      <th>admission_source_id</th>\n",
       "      <th>time_in_hospital</th>\n",
       "      <th>medical_specialty</th>\n",
       "      <th>...</th>\n",
       "      <th>tolazamide</th>\n",
       "      <th>insulin</th>\n",
       "      <th>glyburide-metformin</th>\n",
       "      <th>glipizide-metformin</th>\n",
       "      <th>glimepiride-pioglitazone</th>\n",
       "      <th>metformin-rosiglitazone</th>\n",
       "      <th>metformin-pioglitazone</th>\n",
       "      <th>change</th>\n",
       "      <th>diabetesMed</th>\n",
       "      <th>readmitted</th>\n",
       "    </tr>\n",
       "  </thead>\n",
       "  <tbody>\n",
       "    <tr>\n",
       "      <th>0</th>\n",
       "      <td>2278392</td>\n",
       "      <td>8222157</td>\n",
       "      <td>Caucasian</td>\n",
       "      <td>Female</td>\n",
       "      <td>[0-10)</td>\n",
       "      <td>6</td>\n",
       "      <td>25</td>\n",
       "      <td>1</td>\n",
       "      <td>1</td>\n",
       "      <td>Pediatrics-Endocrinology</td>\n",
       "      <td>...</td>\n",
       "      <td>No</td>\n",
       "      <td>No</td>\n",
       "      <td>No</td>\n",
       "      <td>No</td>\n",
       "      <td>No</td>\n",
       "      <td>No</td>\n",
       "      <td>No</td>\n",
       "      <td>No</td>\n",
       "      <td>No</td>\n",
       "      <td>Other</td>\n",
       "    </tr>\n",
       "    <tr>\n",
       "      <th>1</th>\n",
       "      <td>149190</td>\n",
       "      <td>55629189</td>\n",
       "      <td>Caucasian</td>\n",
       "      <td>Female</td>\n",
       "      <td>[10-20)</td>\n",
       "      <td>1</td>\n",
       "      <td>1</td>\n",
       "      <td>7</td>\n",
       "      <td>3</td>\n",
       "      <td>missing</td>\n",
       "      <td>...</td>\n",
       "      <td>No</td>\n",
       "      <td>Up</td>\n",
       "      <td>No</td>\n",
       "      <td>No</td>\n",
       "      <td>No</td>\n",
       "      <td>No</td>\n",
       "      <td>No</td>\n",
       "      <td>Ch</td>\n",
       "      <td>Yes</td>\n",
       "      <td>Other</td>\n",
       "    </tr>\n",
       "    <tr>\n",
       "      <th>2</th>\n",
       "      <td>64410</td>\n",
       "      <td>86047875</td>\n",
       "      <td>AfricanAmerican</td>\n",
       "      <td>Female</td>\n",
       "      <td>[20-30)</td>\n",
       "      <td>1</td>\n",
       "      <td>1</td>\n",
       "      <td>7</td>\n",
       "      <td>2</td>\n",
       "      <td>missing</td>\n",
       "      <td>...</td>\n",
       "      <td>No</td>\n",
       "      <td>No</td>\n",
       "      <td>No</td>\n",
       "      <td>No</td>\n",
       "      <td>No</td>\n",
       "      <td>No</td>\n",
       "      <td>No</td>\n",
       "      <td>No</td>\n",
       "      <td>Yes</td>\n",
       "      <td>Other</td>\n",
       "    </tr>\n",
       "    <tr>\n",
       "      <th>3</th>\n",
       "      <td>500364</td>\n",
       "      <td>82442376</td>\n",
       "      <td>Caucasian</td>\n",
       "      <td>Male</td>\n",
       "      <td>[30-40)</td>\n",
       "      <td>1</td>\n",
       "      <td>1</td>\n",
       "      <td>7</td>\n",
       "      <td>2</td>\n",
       "      <td>missing</td>\n",
       "      <td>...</td>\n",
       "      <td>No</td>\n",
       "      <td>Up</td>\n",
       "      <td>No</td>\n",
       "      <td>No</td>\n",
       "      <td>No</td>\n",
       "      <td>No</td>\n",
       "      <td>No</td>\n",
       "      <td>Ch</td>\n",
       "      <td>Yes</td>\n",
       "      <td>Other</td>\n",
       "    </tr>\n",
       "    <tr>\n",
       "      <th>4</th>\n",
       "      <td>16680</td>\n",
       "      <td>42519267</td>\n",
       "      <td>Caucasian</td>\n",
       "      <td>Male</td>\n",
       "      <td>[40-50)</td>\n",
       "      <td>1</td>\n",
       "      <td>1</td>\n",
       "      <td>7</td>\n",
       "      <td>1</td>\n",
       "      <td>missing</td>\n",
       "      <td>...</td>\n",
       "      <td>No</td>\n",
       "      <td>Steady</td>\n",
       "      <td>No</td>\n",
       "      <td>No</td>\n",
       "      <td>No</td>\n",
       "      <td>No</td>\n",
       "      <td>No</td>\n",
       "      <td>Ch</td>\n",
       "      <td>Yes</td>\n",
       "      <td>Other</td>\n",
       "    </tr>\n",
       "  </tbody>\n",
       "</table>\n",
       "<p>5 rows × 46 columns</p>\n",
       "</div>"
      ],
      "text/plain": [
       "   encounter_id  patient_nbr             race  gender      age  \\\n",
       "0       2278392      8222157        Caucasian  Female   [0-10)   \n",
       "1        149190     55629189        Caucasian  Female  [10-20)   \n",
       "2         64410     86047875  AfricanAmerican  Female  [20-30)   \n",
       "3        500364     82442376        Caucasian    Male  [30-40)   \n",
       "4         16680     42519267        Caucasian    Male  [40-50)   \n",
       "\n",
       "   admission_type_id  discharge_disposition_id  admission_source_id  \\\n",
       "0                  6                        25                    1   \n",
       "1                  1                         1                    7   \n",
       "2                  1                         1                    7   \n",
       "3                  1                         1                    7   \n",
       "4                  1                         1                    7   \n",
       "\n",
       "   time_in_hospital         medical_specialty  ...  tolazamide  insulin  \\\n",
       "0                 1  Pediatrics-Endocrinology  ...          No       No   \n",
       "1                 3                   missing  ...          No       Up   \n",
       "2                 2                   missing  ...          No       No   \n",
       "3                 2                   missing  ...          No       Up   \n",
       "4                 1                   missing  ...          No   Steady   \n",
       "\n",
       "   glyburide-metformin  glipizide-metformin  glimepiride-pioglitazone  \\\n",
       "0                   No                   No                        No   \n",
       "1                   No                   No                        No   \n",
       "2                   No                   No                        No   \n",
       "3                   No                   No                        No   \n",
       "4                   No                   No                        No   \n",
       "\n",
       "   metformin-rosiglitazone metformin-pioglitazone change diabetesMed  \\\n",
       "0                       No                     No     No          No   \n",
       "1                       No                     No     Ch         Yes   \n",
       "2                       No                     No     No         Yes   \n",
       "3                       No                     No     Ch         Yes   \n",
       "4                       No                     No     Ch         Yes   \n",
       "\n",
       "   readmitted  \n",
       "0       Other  \n",
       "1       Other  \n",
       "2       Other  \n",
       "3       Other  \n",
       "4       Other  \n",
       "\n",
       "[5 rows x 46 columns]"
      ]
     },
     "execution_count": 2,
     "metadata": {},
     "output_type": "execute_result"
    }
   ],
   "source": [
    "df1 = pd.read_csv('clean_data2.csv')\n",
    "df1.head()"
   ]
  },
  {
   "cell_type": "markdown",
   "id": "ed079062",
   "metadata": {},
   "source": [
    "# Pre-processing:"
   ]
  },
  {
   "cell_type": "code",
   "execution_count": 3,
   "id": "0e2ff79f",
   "metadata": {},
   "outputs": [],
   "source": [
    "df1 = df1.drop(columns=['encounter_id','patient_nbr'])    #irrelevant columns for modeling"
   ]
  },
  {
   "cell_type": "code",
   "execution_count": 4,
   "id": "ad1dad74",
   "metadata": {},
   "outputs": [
    {
     "data": {
      "text/plain": [
       "((97294, 43), (97294, 1))"
      ]
     },
     "execution_count": 4,
     "metadata": {},
     "output_type": "execute_result"
    }
   ],
   "source": [
    "X = df1.drop(columns=['readmitted'])\n",
    "y = df1[['readmitted']]\n",
    "X.shape, y.shape"
   ]
  },
  {
   "cell_type": "code",
   "execution_count": 5,
   "id": "f5339212",
   "metadata": {
    "scrolled": true
   },
   "outputs": [
    {
     "data": {
      "text/html": [
       "<div>\n",
       "<style scoped>\n",
       "    .dataframe tbody tr th:only-of-type {\n",
       "        vertical-align: middle;\n",
       "    }\n",
       "\n",
       "    .dataframe tbody tr th {\n",
       "        vertical-align: top;\n",
       "    }\n",
       "\n",
       "    .dataframe thead th {\n",
       "        text-align: right;\n",
       "    }\n",
       "</style>\n",
       "<table border=\"1\" class=\"dataframe\">\n",
       "  <thead>\n",
       "    <tr style=\"text-align: right;\">\n",
       "      <th></th>\n",
       "      <th>admission_type_id</th>\n",
       "      <th>discharge_disposition_id</th>\n",
       "      <th>admission_source_id</th>\n",
       "      <th>time_in_hospital</th>\n",
       "      <th>num_lab_procedures</th>\n",
       "      <th>num_procedures</th>\n",
       "      <th>num_medications</th>\n",
       "      <th>number_outpatient</th>\n",
       "      <th>number_emergency</th>\n",
       "      <th>number_inpatient</th>\n",
       "      <th>...</th>\n",
       "      <th>insulin_Up</th>\n",
       "      <th>glyburide-metformin_No</th>\n",
       "      <th>glyburide-metformin_Steady</th>\n",
       "      <th>glyburide-metformin_Up</th>\n",
       "      <th>glipizide-metformin_Steady</th>\n",
       "      <th>glimepiride-pioglitazone_Steady</th>\n",
       "      <th>metformin-rosiglitazone_Steady</th>\n",
       "      <th>metformin-pioglitazone_Steady</th>\n",
       "      <th>change_No</th>\n",
       "      <th>diabetesMed_Yes</th>\n",
       "    </tr>\n",
       "  </thead>\n",
       "  <tbody>\n",
       "    <tr>\n",
       "      <th>0</th>\n",
       "      <td>6</td>\n",
       "      <td>25</td>\n",
       "      <td>1</td>\n",
       "      <td>1</td>\n",
       "      <td>41</td>\n",
       "      <td>0</td>\n",
       "      <td>1</td>\n",
       "      <td>0</td>\n",
       "      <td>0</td>\n",
       "      <td>0</td>\n",
       "      <td>...</td>\n",
       "      <td>0</td>\n",
       "      <td>1</td>\n",
       "      <td>0</td>\n",
       "      <td>0</td>\n",
       "      <td>0</td>\n",
       "      <td>0</td>\n",
       "      <td>0</td>\n",
       "      <td>0</td>\n",
       "      <td>1</td>\n",
       "      <td>0</td>\n",
       "    </tr>\n",
       "    <tr>\n",
       "      <th>1</th>\n",
       "      <td>1</td>\n",
       "      <td>1</td>\n",
       "      <td>7</td>\n",
       "      <td>3</td>\n",
       "      <td>59</td>\n",
       "      <td>0</td>\n",
       "      <td>18</td>\n",
       "      <td>0</td>\n",
       "      <td>0</td>\n",
       "      <td>0</td>\n",
       "      <td>...</td>\n",
       "      <td>1</td>\n",
       "      <td>1</td>\n",
       "      <td>0</td>\n",
       "      <td>0</td>\n",
       "      <td>0</td>\n",
       "      <td>0</td>\n",
       "      <td>0</td>\n",
       "      <td>0</td>\n",
       "      <td>0</td>\n",
       "      <td>1</td>\n",
       "    </tr>\n",
       "    <tr>\n",
       "      <th>2</th>\n",
       "      <td>1</td>\n",
       "      <td>1</td>\n",
       "      <td>7</td>\n",
       "      <td>2</td>\n",
       "      <td>11</td>\n",
       "      <td>5</td>\n",
       "      <td>13</td>\n",
       "      <td>2</td>\n",
       "      <td>0</td>\n",
       "      <td>1</td>\n",
       "      <td>...</td>\n",
       "      <td>0</td>\n",
       "      <td>1</td>\n",
       "      <td>0</td>\n",
       "      <td>0</td>\n",
       "      <td>0</td>\n",
       "      <td>0</td>\n",
       "      <td>0</td>\n",
       "      <td>0</td>\n",
       "      <td>1</td>\n",
       "      <td>1</td>\n",
       "    </tr>\n",
       "    <tr>\n",
       "      <th>3</th>\n",
       "      <td>1</td>\n",
       "      <td>1</td>\n",
       "      <td>7</td>\n",
       "      <td>2</td>\n",
       "      <td>44</td>\n",
       "      <td>1</td>\n",
       "      <td>16</td>\n",
       "      <td>0</td>\n",
       "      <td>0</td>\n",
       "      <td>0</td>\n",
       "      <td>...</td>\n",
       "      <td>1</td>\n",
       "      <td>1</td>\n",
       "      <td>0</td>\n",
       "      <td>0</td>\n",
       "      <td>0</td>\n",
       "      <td>0</td>\n",
       "      <td>0</td>\n",
       "      <td>0</td>\n",
       "      <td>0</td>\n",
       "      <td>1</td>\n",
       "    </tr>\n",
       "    <tr>\n",
       "      <th>4</th>\n",
       "      <td>1</td>\n",
       "      <td>1</td>\n",
       "      <td>7</td>\n",
       "      <td>1</td>\n",
       "      <td>51</td>\n",
       "      <td>0</td>\n",
       "      <td>8</td>\n",
       "      <td>0</td>\n",
       "      <td>0</td>\n",
       "      <td>0</td>\n",
       "      <td>...</td>\n",
       "      <td>0</td>\n",
       "      <td>1</td>\n",
       "      <td>0</td>\n",
       "      <td>0</td>\n",
       "      <td>0</td>\n",
       "      <td>0</td>\n",
       "      <td>0</td>\n",
       "      <td>0</td>\n",
       "      <td>0</td>\n",
       "      <td>1</td>\n",
       "    </tr>\n",
       "  </tbody>\n",
       "</table>\n",
       "<p>5 rows × 2398 columns</p>\n",
       "</div>"
      ],
      "text/plain": [
       "   admission_type_id  discharge_disposition_id  admission_source_id  \\\n",
       "0                  6                        25                    1   \n",
       "1                  1                         1                    7   \n",
       "2                  1                         1                    7   \n",
       "3                  1                         1                    7   \n",
       "4                  1                         1                    7   \n",
       "\n",
       "   time_in_hospital  num_lab_procedures  num_procedures  num_medications  \\\n",
       "0                 1                  41               0                1   \n",
       "1                 3                  59               0               18   \n",
       "2                 2                  11               5               13   \n",
       "3                 2                  44               1               16   \n",
       "4                 1                  51               0                8   \n",
       "\n",
       "   number_outpatient  number_emergency  number_inpatient  ...  insulin_Up  \\\n",
       "0                  0                 0                 0  ...           0   \n",
       "1                  0                 0                 0  ...           1   \n",
       "2                  2                 0                 1  ...           0   \n",
       "3                  0                 0                 0  ...           1   \n",
       "4                  0                 0                 0  ...           0   \n",
       "\n",
       "   glyburide-metformin_No  glyburide-metformin_Steady  glyburide-metformin_Up  \\\n",
       "0                       1                           0                       0   \n",
       "1                       1                           0                       0   \n",
       "2                       1                           0                       0   \n",
       "3                       1                           0                       0   \n",
       "4                       1                           0                       0   \n",
       "\n",
       "   glipizide-metformin_Steady  glimepiride-pioglitazone_Steady  \\\n",
       "0                           0                                0   \n",
       "1                           0                                0   \n",
       "2                           0                                0   \n",
       "3                           0                                0   \n",
       "4                           0                                0   \n",
       "\n",
       "   metformin-rosiglitazone_Steady  metformin-pioglitazone_Steady  change_No  \\\n",
       "0                               0                              0          1   \n",
       "1                               0                              0          0   \n",
       "2                               0                              0          1   \n",
       "3                               0                              0          0   \n",
       "4                               0                              0          0   \n",
       "\n",
       "   diabetesMed_Yes  \n",
       "0                0  \n",
       "1                1  \n",
       "2                1  \n",
       "3                1  \n",
       "4                1  \n",
       "\n",
       "[5 rows x 2398 columns]"
      ]
     },
     "execution_count": 5,
     "metadata": {},
     "output_type": "execute_result"
    }
   ],
   "source": [
    "X = pd.get_dummies(X, drop_first=True)\n",
    "X.head()"
   ]
  },
  {
   "cell_type": "code",
   "execution_count": 6,
   "id": "35acadf9",
   "metadata": {
    "scrolled": true
   },
   "outputs": [],
   "source": [
    "scaler = StandardScaler()\n",
    "X_scaled = scaler.fit_transform(X)"
   ]
  },
  {
   "cell_type": "markdown",
   "id": "5fd2db68",
   "metadata": {},
   "source": [
    "# Train-test split:"
   ]
  },
  {
   "cell_type": "code",
   "execution_count": 7,
   "id": "716c6521",
   "metadata": {},
   "outputs": [],
   "source": [
    "# Split the data into a training and test set.\n",
    "X_train, X_test, y_train, y_test = train_test_split(X_scaled, y, test_size = 0.25, random_state=42)"
   ]
  },
  {
   "cell_type": "markdown",
   "id": "7573cfc5",
   "metadata": {},
   "source": [
    "# Inital Models:"
   ]
  },
  {
   "cell_type": "code",
   "execution_count": 8,
   "id": "e6abf2c4",
   "metadata": {},
   "outputs": [
    {
     "name": "stdout",
     "output_type": "stream",
     "text": [
      "0.8390732941524386 0.000911942551961447\n"
     ]
    }
   ],
   "source": [
    "logreg = LogisticRegression()     #Default C=1.0\n",
    "logreg_cv_results = cross_validate(logreg, X_train, y_train, cv=5, scoring='f1_weighted', n_jobs=-1) #'f1' producing 'nan' for all scores\n",
    "logreg_cv_scores = logreg_cv_results['test_score']\n",
    "print(np.mean(logreg_cv_scores), np.std(logreg_cv_scores))"
   ]
  },
  {
   "cell_type": "code",
   "execution_count": 9,
   "id": "c84bb440",
   "metadata": {},
   "outputs": [],
   "source": [
    "def class_report(clf, X, y):\n",
    "    clf = clf.fit(X, y)\n",
    "    y_pred = clf.predict(X)\n",
    "    y_true = y\n",
    "    print(classification_report(y_true, y_pred))"
   ]
  },
  {
   "cell_type": "code",
   "execution_count": 10,
   "id": "71f3bec1",
   "metadata": {},
   "outputs": [
    {
     "name": "stdout",
     "output_type": "stream",
     "text": [
      "              precision    recall  f1-score   support\n",
      "\n",
      "         <30       0.59      0.04      0.07      8154\n",
      "       Other       0.89      1.00      0.94     64816\n",
      "\n",
      "    accuracy                           0.89     72970\n",
      "   macro avg       0.74      0.52      0.51     72970\n",
      "weighted avg       0.86      0.89      0.84     72970\n",
      "\n"
     ]
    }
   ],
   "source": [
    "class_report(logreg, X_train, y_train)"
   ]
  },
  {
   "cell_type": "code",
   "execution_count": 11,
   "id": "84491c8e",
   "metadata": {},
   "outputs": [
    {
     "name": "stdout",
     "output_type": "stream",
     "text": [
      "0.8343890098978795 0.0007200713181354968\n"
     ]
    }
   ],
   "source": [
    "knn = KNeighborsClassifier()     # Default n_neighbors=5\n",
    "knn_cv_results = cross_validate(knn, X_train, y_train, cv=5, \n",
    "                                    scoring='f1_weighted', n_jobs=-1) #'f1' producing 'nan' for all scores\n",
    "knn_cv_scores = knn_cv_results['test_score']\n",
    "print(np.mean(knn_cv_scores), np.std(knn_cv_scores))"
   ]
  },
  {
   "cell_type": "code",
   "execution_count": 12,
   "id": "3e9cf1c5",
   "metadata": {},
   "outputs": [
    {
     "name": "stdout",
     "output_type": "stream",
     "text": [
      "              precision    recall  f1-score   support\n",
      "\n",
      "         <30       0.66      0.09      0.16      8154\n",
      "       Other       0.90      0.99      0.94     64816\n",
      "\n",
      "    accuracy                           0.89     72970\n",
      "   macro avg       0.78      0.54      0.55     72970\n",
      "weighted avg       0.87      0.89      0.86     72970\n",
      "\n"
     ]
    }
   ],
   "source": [
    "class_report(knn, X_train, y_train)"
   ]
  },
  {
   "cell_type": "code",
   "execution_count": 13,
   "id": "454cd2b5",
   "metadata": {},
   "outputs": [
    {
     "name": "stdout",
     "output_type": "stream",
     "text": [
      "0.8181262774882108 0.0016340115059804703\n"
     ]
    }
   ],
   "source": [
    "dtree = DecisionTreeClassifier()    #Default max_depth=None\n",
    "dtree_cv_results = cross_validate(dtree, X_train, y_train, cv=5, \n",
    "                                    scoring='f1_weighted', n_jobs=-1) #'f1' producing 'nan' for all scores\n",
    "dtree_cv_scores = dtree_cv_results['test_score']\n",
    "print(np.mean(dtree_cv_scores), np.std(dtree_cv_scores))"
   ]
  },
  {
   "cell_type": "code",
   "execution_count": 14,
   "id": "58cab245",
   "metadata": {},
   "outputs": [
    {
     "name": "stdout",
     "output_type": "stream",
     "text": [
      "              precision    recall  f1-score   support\n",
      "\n",
      "         <30       1.00      1.00      1.00      8154\n",
      "       Other       1.00      1.00      1.00     64816\n",
      "\n",
      "    accuracy                           1.00     72970\n",
      "   macro avg       1.00      1.00      1.00     72970\n",
      "weighted avg       1.00      1.00      1.00     72970\n",
      "\n"
     ]
    }
   ],
   "source": [
    "class_report(dtree, X_train, y_train)"
   ]
  },
  {
   "cell_type": "markdown",
   "id": "a3e99660",
   "metadata": {},
   "source": [
    "This result makes sense for a Decision Tree Classifier with no max depth."
   ]
  },
  {
   "cell_type": "code",
   "execution_count": 15,
   "id": "637405d2",
   "metadata": {},
   "outputs": [
    {
     "name": "stdout",
     "output_type": "stream",
     "text": [
      "0.8363163409003096 0.000382319325557314\n"
     ]
    }
   ],
   "source": [
    "rfclf = RandomForestClassifier(random_state=42)    #Default n_estimators=100 and max_depth=None\n",
    "rfclf_cv_results = cross_validate(rfclf, X_train, y_train, cv=5, \n",
    "                                    scoring='f1_weighted', n_jobs=-1) #'f1' producing 'nan' for all scores\n",
    "rfclf_cv_scores = rfclf_cv_results['test_score']\n",
    "print(np.mean(rfclf_cv_scores), np.std(rfclf_cv_scores))"
   ]
  },
  {
   "cell_type": "code",
   "execution_count": 16,
   "id": "857983ef",
   "metadata": {},
   "outputs": [
    {
     "name": "stdout",
     "output_type": "stream",
     "text": [
      "              precision    recall  f1-score   support\n",
      "\n",
      "         <30       1.00      1.00      1.00      8154\n",
      "       Other       1.00      1.00      1.00     64816\n",
      "\n",
      "    accuracy                           1.00     72970\n",
      "   macro avg       1.00      1.00      1.00     72970\n",
      "weighted avg       1.00      1.00      1.00     72970\n",
      "\n"
     ]
    }
   ],
   "source": [
    "class_report(rfclf, X_train, y_train)"
   ]
  },
  {
   "cell_type": "code",
   "execution_count": 17,
   "id": "4882253e",
   "metadata": {},
   "outputs": [
    {
     "name": "stdout",
     "output_type": "stream",
     "text": [
      "0.8292039310675205 0.0007536205251484708\n"
     ]
    }
   ],
   "source": [
    "svmclf = svm.LinearSVC(random_state=42)    #Default C=1.0\n",
    "svm_cv_results = cross_validate(svmclf, X_train, y_train, cv=5, \n",
    "                                    scoring='f1_weighted', n_jobs=-1) #'f1' producing 'nan' for all scores\n",
    "svm_cv_scores = svm_cv_results['test_score']\n",
    "print(np.mean(svm_cv_scores), np.std(svm_cv_scores))"
   ]
  },
  {
   "cell_type": "code",
   "execution_count": 18,
   "id": "9df3f9f6",
   "metadata": {},
   "outputs": [
    {
     "name": "stdout",
     "output_type": "stream",
     "text": [
      "              precision    recall  f1-score   support\n",
      "\n",
      "         <30       0.22      0.08      0.11      8154\n",
      "       Other       0.89      0.97      0.93     64816\n",
      "\n",
      "    accuracy                           0.87     72970\n",
      "   macro avg       0.56      0.52      0.52     72970\n",
      "weighted avg       0.82      0.87      0.84     72970\n",
      "\n"
     ]
    }
   ],
   "source": [
    "class_report(svmclf, X_train, y_train)"
   ]
  },
  {
   "cell_type": "code",
   "execution_count": 19,
   "id": "31b163c5",
   "metadata": {},
   "outputs": [
    {
     "name": "stdout",
     "output_type": "stream",
     "text": [
      "0.8380959949338823 0.0010261218651382267\n"
     ]
    }
   ],
   "source": [
    "gbc = GradientBoostingClassifier(max_features=80, learning_rate=1, random_state=42)    #Default n_estimators=100, criterion='friedman_mse', max_depth=3\n",
    "gbc_cv_results = cross_validate(gbc, X_train, y_train, cv=5, \n",
    "                                    scoring='f1_weighted', n_jobs=-1) #'f1' producing 'nan' for all scores\n",
    "gbc_cv_scores = gbc_cv_results['test_score']\n",
    "print(np.mean(gbc_cv_scores), np.std(gbc_cv_scores))"
   ]
  },
  {
   "cell_type": "code",
   "execution_count": 20,
   "id": "b8f9de49",
   "metadata": {},
   "outputs": [
    {
     "name": "stdout",
     "output_type": "stream",
     "text": [
      "              precision    recall  f1-score   support\n",
      "\n",
      "         <30       0.63      0.07      0.12      8154\n",
      "       Other       0.89      1.00      0.94     64816\n",
      "\n",
      "    accuracy                           0.89     72970\n",
      "   macro avg       0.76      0.53      0.53     72970\n",
      "weighted avg       0.87      0.89      0.85     72970\n",
      "\n"
     ]
    }
   ],
   "source": [
    "class_report(gbc, X_train, y_train)"
   ]
  },
  {
   "cell_type": "code",
   "execution_count": 21,
   "id": "025f06bc",
   "metadata": {},
   "outputs": [
    {
     "name": "stdout",
     "output_type": "stream",
     "text": [
      "0.8401334142690748 0.0009237479352603954\n"
     ]
    }
   ],
   "source": [
    "xgbooster = xgb.XGBClassifier()\n",
    "xgb_cv_results = cross_validate(xgbooster, X_train, y_train, cv=5, \n",
    "                                    scoring='f1_weighted', n_jobs=-1) #'f1' producing 'nan' for all scores\n",
    "xgb_cv_scores = xgb_cv_results['test_score']\n",
    "print(np.mean(xgb_cv_scores), np.std(xgb_cv_scores))"
   ]
  },
  {
   "cell_type": "code",
   "execution_count": 22,
   "id": "96eb3400",
   "metadata": {},
   "outputs": [
    {
     "name": "stdout",
     "output_type": "stream",
     "text": [
      "[14:21:40] WARNING: ..\\src\\learner.cc:1115: Starting in XGBoost 1.3.0, the default evaluation metric used with the objective 'binary:logistic' was changed from 'error' to 'logloss'. Explicitly set eval_metric if you'd like to restore the old behavior.\n",
      "              precision    recall  f1-score   support\n",
      "\n",
      "         <30       0.87      0.05      0.10      8154\n",
      "       Other       0.89      1.00      0.94     64816\n",
      "\n",
      "    accuracy                           0.89     72970\n",
      "   macro avg       0.88      0.53      0.52     72970\n",
      "weighted avg       0.89      0.89      0.85     72970\n",
      "\n"
     ]
    }
   ],
   "source": [
    "class_report(xgbooster, X_train, y_train)"
   ]
  },
  {
   "cell_type": "markdown",
   "id": "b9d7f735",
   "metadata": {},
   "source": [
    "At a glance, it seems we will want to dig deeper with **xgbooster**, **Random Forest Classifier**, and **Logistic Regression**"
   ]
  }
 ],
 "metadata": {
  "kernelspec": {
   "display_name": "Python 3 (ipykernel)",
   "language": "python",
   "name": "python3"
  },
  "language_info": {
   "codemirror_mode": {
    "name": "ipython",
    "version": 3
   },
   "file_extension": ".py",
   "mimetype": "text/x-python",
   "name": "python",
   "nbconvert_exporter": "python",
   "pygments_lexer": "ipython3",
   "version": "3.8.13"
  }
 },
 "nbformat": 4,
 "nbformat_minor": 5
}
